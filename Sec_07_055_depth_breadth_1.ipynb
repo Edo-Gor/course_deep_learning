{
 "cells": [
  {
   "cell_type": "code",
   "execution_count": null,
   "metadata": {
    "id": "6mL8_cPRVdXi"
   },
   "outputs": [],
   "source": [
    "# %% Deep learning - Section 7.55\n",
    "#    Depth vs. breadth - I\n",
    "\n",
    "# This code pertains a deep learning course provided by Mike X. Cohen on Udemy:\n",
    "#   > https://www.udemy.com/course/deeplearning_x\n",
    "# The \"base\" code in this repository is adapted (with very minor modifications)\n",
    "# from code developed by the course instructor (Mike X. Cohen), while the\n",
    "# \"exercises\" and the \"code challenges\" contain more original solutions and\n",
    "# creative input from my side. If you are interested in DL (and if you are\n",
    "# reading this statement, chances are that you are), go check out the course, it\n",
    "# is singularly good.\n"
   ]
  },
  {
   "cell_type": "code",
   "execution_count": null,
   "metadata": {
    "id": "bBE6ibXsVrwF"
   },
   "outputs": [],
   "source": [
    "# %% Libraries and modules\n",
    "import numpy             as np\n",
    "import matplotlib.pyplot as plt\n",
    "import torch\n",
    "import torch.nn          as nn\n",
    "import seaborn           as sns\n",
    "import copy\n",
    "\n",
    "from google.colab                     import files\n",
    "from torchsummary                     import summary\n",
    "from matplotlib_inline.backend_inline import set_matplotlib_formats\n",
    "set_matplotlib_formats('svg')\n"
   ]
  },
  {
   "cell_type": "code",
   "execution_count": null,
   "metadata": {
    "colab": {
     "base_uri": "https://localhost:8080/"
    },
    "executionInfo": {
     "elapsed": 28,
     "status": "ok",
     "timestamp": 1743024433444,
     "user": {
      "displayName": "Edoardo Gornetti",
      "userId": "05048424707797899325"
     },
     "user_tz": -60
    },
    "id": "NSnOC5ycVu5P",
    "outputId": "7474df9f-aab4-45ac-9710-8d636f6963a5"
   },
   "outputs": [],
   "source": [
    "# %% Wide and deep model\n",
    "\n",
    "wide_net = nn.Sequential(\n",
    "              nn.Linear(2,4),\n",
    "              nn.Linear(4,3),\n",
    "              )\n",
    "\n",
    "deep_net = nn.Sequential(\n",
    "              nn.Linear(2,2),\n",
    "              nn.Linear(2,2),\n",
    "              nn.Linear(2,3),\n",
    "              )\n",
    "\n",
    "# Print the models\n",
    "print(wide_net)\n",
    "print( )\n",
    "print(deep_net)\n"
   ]
  },
  {
   "cell_type": "code",
   "execution_count": null,
   "metadata": {
    "colab": {
     "base_uri": "https://localhost:8080/"
    },
    "executionInfo": {
     "elapsed": 67,
     "status": "ok",
     "timestamp": 1743024605776,
     "user": {
      "displayName": "Edoardo Gornetti",
      "userId": "05048424707797899325"
     },
     "user_tz": -60
    },
    "id": "eydQefdsW48L",
    "outputId": "cb0ac24e-4818-4469-fedf-4ce37b091747"
   },
   "outputs": [],
   "source": [
    "# %% Check out the parameters (i.e., the actual model weights)\n",
    "\n",
    "for p in deep_net.named_parameters():\n",
    "    print(p)\n",
    "    print( )\n"
   ]
  },
  {
   "cell_type": "code",
   "execution_count": null,
   "metadata": {
    "colab": {
     "base_uri": "https://localhost:8080/"
    },
    "executionInfo": {
     "elapsed": 7,
     "status": "ok",
     "timestamp": 1743025069700,
     "user": {
      "displayName": "Edoardo Gornetti",
      "userId": "05048424707797899325"
     },
     "user_tz": -60
    },
    "id": "WvCGHoR_XXBG",
    "outputId": "12f1b75c-528a-450c-a6fa-9ecb2de0245a"
   },
   "outputs": [],
   "source": [
    "# %% Count the total number of nodes (i.e., equivalent to number of biases)\n",
    "\n",
    "# .named_parameters() is an iterable that returns the tuple (name,numbers)\n",
    "num_nodes_wide = 0\n",
    "for p in wide_net.named_parameters():\n",
    "    if 'bias' in p[0]:\n",
    "        num_nodes_wide += len(p[1])\n",
    "\n",
    "num_nodes_deep = 0\n",
    "for p in deep_net.named_parameters():\n",
    "    if 'bias' in p[0]:\n",
    "        num_nodes_deep += len(p[1])\n",
    "\n",
    "print(f'There are {num_nodes_wide} nodes in the wide network.')\n",
    "print(f'There are {num_nodes_deep} nodes in the deep network.')\n"
   ]
  },
  {
   "cell_type": "code",
   "execution_count": null,
   "metadata": {
    "colab": {
     "base_uri": "https://localhost:8080/"
    },
    "executionInfo": {
     "elapsed": 8,
     "status": "ok",
     "timestamp": 1743025119802,
     "user": {
      "displayName": "Edoardo Gornetti",
      "userId": "05048424707797899325"
     },
     "user_tz": -60
    },
    "id": "41eLJU9LZAI4",
    "outputId": "99dcdb3f-5c2d-423d-c265-569d43c4d19d"
   },
   "outputs": [],
   "source": [
    "# %% Check parameters again\n",
    "\n",
    "for p in wide_net.parameters():\n",
    "    print(p)\n",
    "    print( )\n"
   ]
  },
  {
   "cell_type": "code",
   "execution_count": null,
   "metadata": {
    "colab": {
     "base_uri": "https://localhost:8080/"
    },
    "executionInfo": {
     "elapsed": 7,
     "status": "ok",
     "timestamp": 1743025319741,
     "user": {
      "displayName": "Edoardo Gornetti",
      "userId": "05048424707797899325"
     },
     "user_tz": -60
    },
    "id": "xiqdrMW1ZLcv",
    "outputId": "46b0aed0-c04d-44fc-d1e6-9dfe9f677236"
   },
   "outputs": [],
   "source": [
    "# %% Check number of trainable parameters\n",
    "\n",
    "n_params = 0\n",
    "for p in wide_net.parameters():\n",
    "    if p.requires_grad:\n",
    "        print(f'This piece has {p.numel()} parameters.')\n",
    "        n_params += p.numel()\n",
    "\n",
    "print(f'\\nTotal number of parameters: {n_params}')\n"
   ]
  },
  {
   "cell_type": "code",
   "execution_count": null,
   "metadata": {
    "colab": {
     "base_uri": "https://localhost:8080/"
    },
    "executionInfo": {
     "elapsed": 17,
     "status": "ok",
     "timestamp": 1743025739237,
     "user": {
      "displayName": "Edoardo Gornetti",
      "userId": "05048424707797899325"
     },
     "user_tz": -60
    },
    "id": "VcTEtRiTZ91u",
    "outputId": "280b7543-a39f-441b-9fae-98909b06e0ac"
   },
   "outputs": [],
   "source": [
    "# %% Can also check with list comprehension\n",
    "\n",
    "n_params = np.sum([ p.numel() for p in wide_net.parameters() if p.requires_grad ])\n",
    "print(f'The wide net has {n_params} parameters.')\n",
    "\n",
    "n_params = np.sum([ p.numel() for p in deep_net.parameters() if p.requires_grad ])\n",
    "print(f'The deep net has {n_params} parameters.')\n"
   ]
  },
  {
   "cell_type": "code",
   "execution_count": null,
   "metadata": {
    "colab": {
     "base_uri": "https://localhost:8080/"
    },
    "executionInfo": {
     "elapsed": 65,
     "status": "ok",
     "timestamp": 1743025740705,
     "user": {
      "displayName": "Edoardo Gornetti",
      "userId": "05048424707797899325"
     },
     "user_tz": -60
    },
    "id": "vQXzikA9bBso",
    "outputId": "62ebf1ac-aa18-4f49-8e10-088b195e3fe9"
   },
   "outputs": [],
   "source": [
    "# %% A nice simple way to print out the model info\n",
    "\n",
    "# From the library 'torchsummary'\n",
    "summary(wide_net,(1,2))\n"
   ]
  }
 ],
 "metadata": {
  "colab": {
   "authorship_tag": "ABX9TyMSf4VHBwiW77F7lmyKpxNv",
   "provenance": []
  },
  "kernelspec": {
   "display_name": "Python 3",
   "name": "python3"
  },
  "language_info": {
   "name": "python"
  }
 },
 "nbformat": 4,
 "nbformat_minor": 0
}
