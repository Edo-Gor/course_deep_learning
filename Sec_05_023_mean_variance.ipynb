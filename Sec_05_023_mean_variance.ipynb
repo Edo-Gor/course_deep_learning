{
 "cells": [
  {
   "cell_type": "code",
   "execution_count": null,
   "metadata": {
    "id": "EDT05vyGXmTc"
   },
   "outputs": [],
   "source": [
    "# %% Deep learning - Section 5.23\n",
    "#    Mean and variance\n",
    "\n",
    "# This code pertains a deep learning course provided by Mike X. Cohen on Udemy:\n",
    "#   > https://www.udemy.com/course/deeplearning_x\n",
    "# The \"base\" code in this repository is adapted (with very minor modifications)\n",
    "# from code developed by the course instructor (Mike X. Cohen), while the \n",
    "# \"exercises\" and the \"code challenges\" contain more original solutions and \n",
    "# creative input from my side. If you are interested in DL (and if you are \n",
    "# reading this statement, chances are that you are), go check out the course, it\n",
    "# is singularly good.\n"
   ]
  },
  {
   "cell_type": "code",
   "execution_count": null,
   "metadata": {
    "id": "HD596knaXufX"
   },
   "outputs": [],
   "source": [
    "# %% Libraries and modules\n",
    "import numpy             as np\n",
    "import matplotlib.pyplot as plt\n",
    "import copy\n",
    "\n",
    "from google.colab                     import files\n",
    "from matplotlib_inline.backend_inline import set_matplotlib_formats\n",
    "set_matplotlib_formats('svg')\n"
   ]
  },
  {
   "cell_type": "code",
   "execution_count": null,
   "metadata": {
    "colab": {
     "base_uri": "https://localhost:8080/"
    },
    "executionInfo": {
     "elapsed": 65,
     "status": "ok",
     "timestamp": 1740263221769,
     "user": {
      "displayName": "Edoardo Gornetti",
      "userId": "05048424707797899325"
     },
     "user_tz": -60
    },
    "id": "Fcljm0OJX81e",
    "outputId": "8a8e92df-31cf-4f87-e8ad-52d9fe2e1236"
   },
   "outputs": [],
   "source": [
    "# %% Mean\n",
    "\n",
    "x = [1,2,3,4,5,6,7,8,9]\n",
    "n = len(x)\n",
    "\n",
    "mean1 = np.mean(x)\n",
    "mean2 = sum(x) / n\n",
    "\n",
    "print(f'Mean: {mean1}')\n",
    "print(f'Mean: {mean2}')\n"
   ]
  },
  {
   "cell_type": "code",
   "execution_count": null,
   "metadata": {
    "colab": {
     "base_uri": "https://localhost:8080/"
    },
    "executionInfo": {
     "elapsed": 54,
     "status": "ok",
     "timestamp": 1740263529540,
     "user": {
      "displayName": "Edoardo Gornetti",
      "userId": "05048424707797899325"
     },
     "user_tz": -60
    },
    "id": "lG9CWvJGX8pJ",
    "outputId": "e41203c0-3fd9-4d45-bded-09c06d4ea0c9"
   },
   "outputs": [],
   "source": [
    "# %% Variance\n",
    "\n",
    "# Notice that the default degrees of freedom are 0 (more Python madness)\n",
    "var1 = np.var(x,ddof=1)\n",
    "var2 = np.var(x)\n",
    "var3 = (1/(n-1)) * np.sum((x-mean1)**2)\n",
    "var4 = (1/n) * np.sum((x-mean1)**2)\n",
    "\n",
    "print(f'Variance (unbiased): {var1}')\n",
    "print(f'Variance (biased):   {var2}')\n",
    "print(f'Variance (unbiased): {var3}')\n",
    "print(f'Variance (biased):   {var4}')\n"
   ]
  },
  {
   "cell_type": "code",
   "execution_count": null,
   "metadata": {
    "colab": {
     "base_uri": "https://localhost:8080/"
    },
    "executionInfo": {
     "elapsed": 16,
     "status": "ok",
     "timestamp": 1740263793466,
     "user": {
      "displayName": "Edoardo Gornetti",
      "userId": "05048424707797899325"
     },
     "user_tz": -60
    },
    "id": "H3DF1FFby1-X",
    "outputId": "a8edae49-ab10-4e97-91ed-3be00070a45e"
   },
   "outputs": [],
   "source": [
    "# %% Degrees of freedom\n",
    "\n",
    "# Of course as the sample size increase, the difference between the variance\n",
    "# corrected or uncorrected for df dereases\n",
    "n = 10000\n",
    "x = np.random.randint(0,high=20,size=n)\n",
    "\n",
    "var5 = np.var(x,ddof=1)\n",
    "var6 = np.var(x,ddof=0)\n",
    "\n",
    "print(f'Variance (unbiased): {var5}')\n",
    "print(f'Variance (biased):   {var6}')\n"
   ]
  }
 ],
 "metadata": {
  "colab": {
   "authorship_tag": "ABX9TyOlgzo817kt+FiK+BFiiUXr",
   "provenance": []
  },
  "kernelspec": {
   "display_name": "Python 3",
   "name": "python3"
  },
  "language_info": {
   "name": "python"
  }
 },
 "nbformat": 4,
 "nbformat_minor": 0
}
