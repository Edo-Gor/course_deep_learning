{
 "cells": [
  {
   "cell_type": "code",
   "execution_count": null,
   "metadata": {
    "id": "vxLsu_5_Ao80"
   },
   "outputs": [],
   "source": [
    "# %% Deep learning - Section 11.106\n",
    "#    The MNIST dataset\n",
    "\n",
    "# This code pertains a deep learning course provided by Mike X. Cohen on Udemy:\n",
    "#   > https://www.udemy.com/course/deeplearning_x\n",
    "# The \"base\" code in this repository is adapted (with very minor modifications)\n",
    "# from code developed by the course instructor (Mike X. Cohen), while the\n",
    "# \"exercises\" and the \"code challenges\" contain more original solutions and\n",
    "# creative input from my side. If you are interested in DL (and if you are\n",
    "# reading this statement, chances are that you are), go check out the course, it\n",
    "# is singularly good.\n"
   ]
  },
  {
   "cell_type": "code",
   "execution_count": null,
   "metadata": {
    "id": "eFOW2iaUArr4"
   },
   "outputs": [],
   "source": [
    "# %% Libraries and modules\n",
    "import numpy               as np\n",
    "import matplotlib.pyplot   as plt\n",
    "import torch\n",
    "import torch.nn            as nn\n",
    "import seaborn             as sns\n",
    "import copy\n",
    "import torch.nn.functional as F\n",
    "import pandas              as pd\n",
    "import scipy.stats         as stats\n",
    "import time\n",
    "\n",
    "from torch.utils.data                 import DataLoader,TensorDataset\n",
    "from sklearn.model_selection          import train_test_split\n",
    "from google.colab                     import files\n",
    "from torchsummary                     import summary\n",
    "from IPython                          import display\n",
    "from matplotlib_inline.backend_inline import set_matplotlib_formats\n",
    "set_matplotlib_formats('svg')\n"
   ]
  },
  {
   "cell_type": "code",
   "execution_count": null,
   "metadata": {
    "colab": {
     "base_uri": "https://localhost:8080/"
    },
    "executionInfo": {
     "elapsed": 1563,
     "status": "ok",
     "timestamp": 1750106120619,
     "user": {
      "displayName": "Edoardo Gornetti",
      "userId": "05048424707797899325"
     },
     "user_tz": -120
    },
    "id": "NJBH0ESLbiGW",
    "outputId": "979183e2-c3fc-4017-8a54-03a00ddd0528"
   },
   "outputs": [],
   "source": [
    "# %% Import the data set (comes with colab)\n",
    "\n",
    "data = np.loadtxt(open('sample_data/mnist_train_small.csv','rb'),delimiter=',')\n",
    "\n",
    "# Data shape\n",
    "data.shape\n"
   ]
  },
  {
   "cell_type": "code",
   "execution_count": null,
   "metadata": {
    "colab": {
     "base_uri": "https://localhost:8080/"
    },
    "executionInfo": {
     "elapsed": 27,
     "status": "ok",
     "timestamp": 1750106122265,
     "user": {
      "displayName": "Edoardo Gornetti",
      "userId": "05048424707797899325"
     },
     "user_tz": -120
    },
    "id": "LwOhwIQVciUh",
    "outputId": "11a53aa6-1618-4136-8128-dd247b29aea8"
   },
   "outputs": [],
   "source": [
    "# %% Get labels (number IDs) and remove from data\n",
    "\n",
    "labels = data[:,0]\n",
    "data   = data[:,1:]\n",
    "\n",
    "print(labels.shape)\n",
    "print(data.shape)\n",
    "print(labels)\n"
   ]
  },
  {
   "cell_type": "code",
   "execution_count": null,
   "metadata": {
    "colab": {
     "base_uri": "https://localhost:8080/",
     "height": 590
    },
    "executionInfo": {
     "elapsed": 2543,
     "status": "ok",
     "timestamp": 1750106574894,
     "user": {
      "displayName": "Edoardo Gornetti",
      "userId": "05048424707797899325"
     },
     "user_tz": -120
    },
    "id": "E7ljpMIZdDj3",
    "outputId": "d53048ee-5f1e-4c38-e541-30a0299593f3"
   },
   "outputs": [],
   "source": [
    "# %% Plotting\n",
    "\n",
    "phi = ( 1 + np.sqrt(5) ) / 2\n",
    "fig,axs = plt.subplots(3,4,figsize=(6*phi,6))\n",
    "\n",
    "for ax in axs.flatten():\n",
    "\n",
    "    # Pick random image\n",
    "    rand_img = np.random.randint(0,high=data.shape[0])\n",
    "\n",
    "    # Plot image\n",
    "    img = np.reshape(data[rand_img,:],(28,28))\n",
    "    ax.imshow(img,cmap='gray')\n",
    "\n",
    "    # Title\n",
    "    ax.set_title('The number %i' %labels[rand_img])\n",
    "\n",
    "plt.suptitle('How humans see the data',fontsize=18)\n",
    "plt.tight_layout(rect=[0,0,1,.95])\n",
    "\n",
    "plt.savefig('figure1_mnist_dataset.png')\n",
    "\n",
    "plt.show()\n",
    "\n",
    "files.download('figure1_mnist_dataset.png')\n"
   ]
  },
  {
   "cell_type": "code",
   "execution_count": null,
   "metadata": {
    "colab": {
     "base_uri": "https://localhost:8080/",
     "height": 590
    },
    "executionInfo": {
     "elapsed": 2685,
     "status": "ok",
     "timestamp": 1750106696558,
     "user": {
      "displayName": "Edoardo Gornetti",
      "userId": "05048424707797899325"
     },
     "user_tz": -120
    },
    "id": "6xCbsvoae-s2",
    "outputId": "bad53611-881c-43f0-9c26-a4f69f0924a1"
   },
   "outputs": [],
   "source": [
    "# %% Plotting\n",
    "\n",
    "phi = ( 1 + np.sqrt(5) ) / 2\n",
    "fig,axs = plt.subplots(3,4,figsize=(6*phi,6))\n",
    "\n",
    "for ax in axs.flatten():\n",
    "\n",
    "    # Pick random image\n",
    "    rand_img = np.random.randint(0,high=data.shape[0])\n",
    "\n",
    "    # Plot image\n",
    "    ax.plot(data[rand_img,:],'ko')\n",
    "\n",
    "    # Title\n",
    "    ax.set_title('The number %i' %labels[rand_img])\n",
    "\n",
    "plt.suptitle('How the FFN model see the data',fontsize=18)\n",
    "plt.tight_layout(rect=[0,0,1,.95])\n",
    "\n",
    "plt.savefig('figure2_mnist_dataset.png')\n",
    "\n",
    "plt.show()\n",
    "\n",
    "files.download('figure2_mnist_dataset.png')\n"
   ]
  },
  {
   "cell_type": "code",
   "execution_count": null,
   "metadata": {
    "colab": {
     "base_uri": "https://localhost:8080/",
     "height": 591
    },
    "executionInfo": {
     "elapsed": 350,
     "status": "ok",
     "timestamp": 1750106913338,
     "user": {
      "displayName": "Edoardo Gornetti",
      "userId": "05048424707797899325"
     },
     "user_tz": -120
    },
    "id": "-B9JxtscfdOM",
    "outputId": "210b3576-f145-4818-d1f0-3a770593d0bf"
   },
   "outputs": [],
   "source": [
    "# %% Plotting\n",
    "\n",
    "# Explore some example 7s\n",
    "sevens = np.where(labels==7)[0]\n",
    "\n",
    "phi = ( 1 + np.sqrt(5) ) / 2\n",
    "fig,axs = plt.subplots(3,4,figsize=(6*phi,6))\n",
    "\n",
    "for i,ax in enumerate(axs.flatten()):\n",
    "\n",
    "    # Plot image\n",
    "    img = np.reshape(data[sevens[i],:],(28,28))\n",
    "    ax.imshow(img,cmap='gray')\n",
    "    ax.axis('off')\n",
    "\n",
    "plt.suptitle('Examples of the number 7',fontsize=18)\n",
    "plt.tight_layout(rect=[0,0,1,.95])\n",
    "\n",
    "plt.savefig('figure3_mnist_dataset.png')\n",
    "\n",
    "plt.show()\n",
    "\n",
    "files.download('figure3_mnist_dataset.png')\n"
   ]
  },
  {
   "cell_type": "code",
   "execution_count": null,
   "metadata": {
    "colab": {
     "base_uri": "https://localhost:8080/",
     "height": 603
    },
    "executionInfo": {
     "elapsed": 3448,
     "status": "ok",
     "timestamp": 1750108133110,
     "user": {
      "displayName": "Edoardo Gornetti",
      "userId": "05048424707797899325"
     },
     "user_tz": -120
    },
    "id": "sELsLCkTgWrr",
    "outputId": "1a712b5e-e3ee-4ff7-bf0d-39fe217aec2b"
   },
   "outputs": [],
   "source": [
    "# %% Plotting\n",
    "\n",
    "# Explore how similar are the sevens (correlations, unique correlations, average)\n",
    "print(data[sevens,:].shape)\n",
    "c = np.corrcoef(data[sevens,:])\n",
    "\n",
    "phi = ( 1 + np.sqrt(5) ) / 2\n",
    "fig,ax = plt.subplots(1,3,figsize=(6*phi,6))\n",
    "\n",
    "ax[0].imshow(c,vmin=0,vmax=1,cmap='jet')\n",
    "ax[0].set_title('Correlation matrix across all 7s')\n",
    "\n",
    "unique_c = np.triu(c,k=1).flatten()\n",
    "ax[1].hist(unique_c[unique_c!=0],bins=120)\n",
    "ax[1].set_title('All unique correlations')\n",
    "ax[1].set_xlabel('Correlations')\n",
    "\n",
    "avg_sevens = np.reshape(np.mean(data[sevens,:],axis=0),(28,28))\n",
    "ax[2].imshow(avg_sevens,cmap='gray')\n",
    "ax[2].set_title('Average of all 7s')\n",
    "\n",
    "plt.tight_layout()\n",
    "\n",
    "plt.savefig('figure4_mnist_dataset.png')\n",
    "\n",
    "plt.show()\n",
    "\n",
    "files.download('figure4_mnist_dataset.png')\n"
   ]
  }
 ],
 "metadata": {
  "colab": {
   "authorship_tag": "ABX9TyOANHSIASFeuUO4rxT//E9v",
   "provenance": []
  },
  "kernelspec": {
   "display_name": "Python 3",
   "name": "python3"
  },
  "language_info": {
   "name": "python"
  }
 },
 "nbformat": 4,
 "nbformat_minor": 0
}
