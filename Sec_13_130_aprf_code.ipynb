{
  "cells": [
    {
      "cell_type": "code",
      "execution_count": null,
      "metadata": {
        "id": "ajZQZPTAL35r"
      },
      "outputs": [],
      "source": [
        "# %% Deep learning - Section 13.130\n",
        "#    Accuracy, precision, recall, F1 in code\n",
        "\n",
        "# This code pertains a deep learning course provided by Mike X. Cohen on Udemy:\n",
        "#   > https://www.udemy.com/course/deeplearning_x\n",
        "# The \"base\" code in this repository is adapted (with very minor modifications)\n",
        "# from code developed by the course instructor (Mike X. Cohen), while the\n",
        "# \"exercises\" and the \"code challenges\" contain more original solutions and\n",
        "# creative input from my side. If you are interested in DL (and if you are\n",
        "# reading this statement, chances are that you are), go check out the course, it\n",
        "# is singularly good.\n"
      ]
    },
    {
      "cell_type": "code",
      "execution_count": null,
      "metadata": {
        "id": "oH8Ro002LsPZ"
      },
      "outputs": [],
      "source": [
        "# %% Libraries and modules\n",
        "import numpy               as np\n",
        "import matplotlib.pyplot   as plt\n",
        "import torch\n",
        "import torch.nn            as nn\n",
        "import seaborn             as sns\n",
        "import copy\n",
        "import torch.nn.functional as F\n",
        "import pandas              as pd\n",
        "import scipy.stats         as stats\n",
        "import time\n",
        "\n",
        "from torch.utils.data                 import DataLoader,TensorDataset\n",
        "from sklearn.model_selection          import train_test_split\n",
        "from google.colab                     import files\n",
        "from torchsummary                     import summary\n",
        "from IPython                          import display\n",
        "from matplotlib_inline.backend_inline import set_matplotlib_formats\n",
        "set_matplotlib_formats('svg')\n"
      ]
    },
    {
      "cell_type": "code",
      "execution_count": null,
      "metadata": {
        "id": "fxJqipzBrhzm"
      },
      "outputs": [],
      "source": [
        "# %% Pseudo-data\n",
        "\n",
        "# Number of trials and of experiments\n",
        "n_trials = 50\n",
        "n_exps   = 10000\n",
        "\n",
        "# Preallocate\n",
        "accuracy  = np.zeros((n_exps))\n",
        "precision = np.zeros((n_exps))\n",
        "recall    = np.zeros((n_exps))\n",
        "f1_score  = np.zeros((n_exps))\n",
        "\n",
        "# Pseudo-experiment\n",
        "for exp_i in range(n_exps):\n",
        "\n",
        "    # Confusion matrix (really confusing at first, isn't it?)\n",
        "    TP = np.random.randint(1,n_trials)  # true positives (i.e., hits)\n",
        "    FN = n_trials - TP                  # false negatives (i.e., misses)\n",
        "    TN = np.random.randint(1,n_trials)  # true negatives (i.e., correct rejection)\n",
        "    FP = n_trials - TN                  # false positives (i.e., false alarms)\n",
        "\n",
        "    # The APRF\n",
        "    accuracy[exp_i]  = (TP+TN) / (2*n_trials)\n",
        "    precision[exp_i] = TP / (TP+FP)\n",
        "    recall[exp_i]    = TP / (TP+FN)\n",
        "    f1_score[exp_i]        = TP / (TP+(FP+FN)/2)\n"
      ]
    },
    {
      "cell_type": "code",
      "execution_count": null,
      "metadata": {
        "colab": {
          "base_uri": "https://localhost:8080/",
          "height": 545
        },
        "id": "StI1D8bau579",
        "outputId": "6b6812e5-314d-4efa-cf0e-812e9e43058a"
      },
      "outputs": [],
      "source": [
        "# %% Plotting\n",
        "\n",
        "phi = (1 + np.sqrt(5)) / 2\n",
        "fig,ax = plt.subplots(1,2,figsize=(1.5*phi*6,6))\n",
        "\n",
        "cmap = plt.cm.plasma(np.linspace(0.05,0.95,256))\n",
        "cmap = plt.matplotlib.colors.LinearSegmentedColormap.from_list(\"cmap\",cmap)\n",
        "\n",
        "ax[0].scatter(accuracy,f1_score,s=5,c=precision,cmap=cmap)\n",
        "ax[0].plot([0,1],[.5,.5],'k--',linewidth=.5)\n",
        "ax[0].plot([.5,.5],[0,1],'k--',linewidth=.5)\n",
        "ax[0].set_xlabel('Accuracy')\n",
        "ax[0].set_ylabel('F1-score')\n",
        "ax[0].set_title('F1-Accuracy by precision')\n",
        "\n",
        "ax[1].scatter(accuracy,f1_score,s=5,c=recall,cmap=cmap)\n",
        "ax[1].plot([0,1],[.5,.5],'k--',linewidth=.5)\n",
        "ax[1].plot([.5,.5],[0,1],'k--',linewidth=.5)\n",
        "ax[1].set_xlabel('Accuracy')\n",
        "ax[1].set_ylabel('F1-score')\n",
        "ax[1].set_title('F1-Accuracy by recall')\n",
        "\n",
        "plt.savefig('figure1_aprf.png')\n",
        "\n",
        "plt.show()\n",
        "\n",
        "files.download('figure1_aprf.png')\n"
      ]
    }
  ],
  "metadata": {
    "colab": {
      "provenance": []
    },
    "kernelspec": {
      "display_name": "Python 3",
      "name": "python3"
    },
    "language_info": {
      "name": "python"
    }
  },
  "nbformat": 4,
  "nbformat_minor": 0
}
