{
 "cells": [
  {
   "cell_type": "code",
   "execution_count": null,
   "metadata": {
    "id": "TJE63j5hPdsK"
   },
   "outputs": [],
   "source": [
    "# %% Deep learning - Section 5.19\n",
    "#    Softmax\n",
    "\n",
    "# This code pertains a deep learning course provided by Mike X. Cohen on Udemy:\n",
    "#   > https://www.udemy.com/course/deeplearning_x\n",
    "# The \"base\" code in this repository is adapted (with very minor modifications)\n",
    "# from code developed by the course instructor (Mike X. Cohen), while the \n",
    "# \"exercises\" and the \"code challenges\" contain more original solutions and \n",
    "# creative input from my side. If you are interested in DL (and if you are \n",
    "# reading this statement, chances are that you are), go check out the course, it\n",
    "# is singularly good.\n"
   ]
  },
  {
   "cell_type": "code",
   "execution_count": null,
   "metadata": {
    "id": "v_jHtZy3Poza"
   },
   "outputs": [],
   "source": [
    "# %% Libraries and modules\n",
    "import numpy             as np\n",
    "import matplotlib.pyplot as plt\n",
    "import torch\n",
    "import torch.nn          as nn\n",
    "import copy\n",
    "\n",
    "from google.colab                     import files\n",
    "from matplotlib_inline.backend_inline import set_matplotlib_formats\n",
    "set_matplotlib_formats('svg')\n"
   ]
  },
  {
   "cell_type": "code",
   "execution_count": null,
   "metadata": {
    "colab": {
     "base_uri": "https://localhost:8080/",
     "height": 640
    },
    "executionInfo": {
     "elapsed": 684,
     "status": "ok",
     "timestamp": 1740174122595,
     "user": {
      "displayName": "Edoardo Gornetti",
      "userId": "05048424707797899325"
     },
     "user_tz": -60
    },
    "id": "VbNf-XZUPpe7",
    "outputId": "cf76f6f3-9d4b-485c-ffd0-00f020fb16d3"
   },
   "outputs": [],
   "source": [
    "# %% Softmax (manually) in numpy\n",
    "\n",
    "# Example 1\n",
    "z   = [1,2,3]\n",
    "\n",
    "num = np.exp(z)\n",
    "den = np.sum( np.exp(z) )\n",
    "sgm = num / den\n",
    "\n",
    "print(sgm), print(np.sum(sgm)), print( )\n",
    "\n",
    "# Example 2\n",
    "z   = np.random.randint(-5,high=15,size=25)\n",
    "print(z), print( )\n",
    "\n",
    "num = np.exp(z)\n",
    "den = np.sum( np.exp(z) )\n",
    "sgm = num / den\n",
    "\n",
    "print(sgm), print(np.sum(sgm))\n",
    "\n",
    "# Plotting example 2\n",
    "fig,ax = plt.subplots(1,2,figsize=(10,4))\n",
    "\n",
    "ax[0].plot(z,sgm,'bo')\n",
    "ax[0].legend(['$\\sum\\sigma$ = %g' %np.sum(sgm)])\n",
    "ax[0].set_xlabel('Original number (z)')\n",
    "ax[0].set_ylabel('$\\sigma$(z)')\n",
    "ax[0].set_title('Softmax (linear scaling)')\n",
    "\n",
    "ax[1].plot(z,sgm,'bo')\n",
    "ax[1].legend(['$\\sum\\sigma$ = %g' %np.sum(sgm)])\n",
    "ax[1].set_xlabel('Original number (z)')\n",
    "ax[1].set_ylabel('$\\sigma$(z)')\n",
    "ax[1].set_yscale('log')\n",
    "ax[1].set_title('Softmax (linear scaling)')\n",
    "\n",
    "plt.savefig('figure1_softmax_numpy.png')\n",
    "\n",
    "plt.show()\n",
    "\n",
    "files.download('figure1_softmax_numpy.png')\n"
   ]
  },
  {
   "cell_type": "code",
   "execution_count": null,
   "metadata": {
    "colab": {
     "base_uri": "https://localhost:8080/"
    },
    "executionInfo": {
     "elapsed": 18,
     "status": "ok",
     "timestamp": 1740174406132,
     "user": {
      "displayName": "Edoardo Gornetti",
      "userId": "05048424707797899325"
     },
     "user_tz": -60
    },
    "id": "RbRyBIPfPpnO",
    "outputId": "56ac2475-e4bc-4838-9c38-e00f332e1e7b"
   },
   "outputs": [],
   "source": [
    "# %% Softmax in PyTorch\n",
    "\n",
    "# Create an instance of the softmax activation class\n",
    "softfun = nn.Softmax(dim=0)\n",
    "\n",
    "# Apply the data to that function\n",
    "sgmT    = softfun( torch.Tensor(z) )\n",
    "print(sgmT), print( torch.sum(sgmT) )\n"
   ]
  },
  {
   "cell_type": "code",
   "execution_count": null,
   "metadata": {
    "colab": {
     "base_uri": "https://localhost:8080/",
     "height": 456
    },
    "executionInfo": {
     "elapsed": 467,
     "status": "ok",
     "timestamp": 1740174706558,
     "user": {
      "displayName": "Edoardo Gornetti",
      "userId": "05048424707797899325"
     },
     "user_tz": -60
    },
    "id": "FXDRXH2DesFc",
    "outputId": "ebe34bbb-3376-43ca-d646-050794fcf768"
   },
   "outputs": [],
   "source": [
    "# %% Show that the two methods provide same result\n",
    "\n",
    "plt.plot(sgm,sgmT,'bo')\n",
    "plt.xlabel('Numpy manual softmax')\n",
    "plt.ylabel('PyTorch nn.Softmax')\n",
    "plt.title(f'The two methods correlates at r = {np.round((np.corrcoef(sgm,sgmT)[0,1]),2)}')\n",
    "\n",
    "plt.savefig('figure2_softmax_numpy_pytorch_comparison.png')\n",
    "\n",
    "plt.show()\n",
    "\n",
    "files.download('figure2_softmax_numpy_pytorch_comparison.png')\n"
   ]
  }
 ],
 "metadata": {
  "colab": {
   "authorship_tag": "ABX9TyOgL1oKEZJaoCRiRzPbKsAd",
   "provenance": []
  },
  "kernelspec": {
   "display_name": "Python 3",
   "name": "python3"
  },
  "language_info": {
   "name": "python"
  }
 },
 "nbformat": 4,
 "nbformat_minor": 0
}
