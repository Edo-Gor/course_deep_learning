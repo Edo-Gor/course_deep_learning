{
 "cells": [
  {
   "cell_type": "code",
   "execution_count": null,
   "metadata": {
    "id": "SQ9YUNJFY4NX"
   },
   "outputs": [],
   "source": [
    "# %% Deep learning - Section 7.58\n",
    "#    Code challenge 6: convert sequential to class\n",
    "\n",
    "#    1) Copy code from Sec_07_049_multilayer_ann.ipynb file\n",
    "#    2) Convert the model from a nn.Sequential() to a class\n",
    "#    3) Check that everything works\n",
    "\n",
    "# This code pertains a deep learning course provided by Mike X. Cohen on Udemy:\n",
    "#   > https://www.udemy.com/course/deeplearning_x\n",
    "# The \"base\" code in this repository is adapted (with very minor modifications)\n",
    "# from code developed by the course instructor (Mike X. Cohen), while the\n",
    "# \"exercises\" and the \"code challenges\" contain more original solutions and\n",
    "# creative input from my side. If you are interested in DL (and if you are\n",
    "# reading this statement, chances are that you are), go check out the course, it\n",
    "# is singularly good.\n"
   ]
  },
  {
   "cell_type": "code",
   "execution_count": null,
   "metadata": {
    "id": "TovqGFBAZJ6T"
   },
   "outputs": [],
   "source": [
    "# %% Libraries and modules\n",
    "import numpy               as np\n",
    "import matplotlib.pyplot   as plt\n",
    "import torch\n",
    "import torch.nn            as nn\n",
    "import seaborn             as sns\n",
    "import copy\n",
    "import torch.nn.functional as F\n",
    "\n",
    "from google.colab                     import files\n",
    "from torchsummary                     import summary\n",
    "from matplotlib_inline.backend_inline import set_matplotlib_formats\n",
    "set_matplotlib_formats('svg')\n"
   ]
  },
  {
   "cell_type": "code",
   "execution_count": null,
   "metadata": {
    "id": "hZpR-FSiZM5p"
   },
   "outputs": [],
   "source": [
    "# %% Data\n",
    "\n",
    "nClust = 100\n",
    "blur   = 1\n",
    "\n",
    "A = [1, 3]\n",
    "B = [1,-2]\n",
    "\n",
    "a = [ A[0]+np.random.randn(nClust)*blur, A[1]+np.random.randn(nClust)*blur ]\n",
    "b = [ B[0]+np.random.randn(nClust)*blur, B[1]+np.random.randn(nClust)*blur ]\n",
    "\n",
    "# True labels\n",
    "labels_np = np.vstack(( np.zeros((nClust,1)), np.ones((nClust,1)) ))\n",
    "\n",
    "# Concatenate\n",
    "data_np = np.hstack((a,b)).T\n",
    "\n",
    "# Convert into torch tensor\n",
    "data   = torch.tensor(data_np).float()\n",
    "labels = torch.tensor(labels_np).float()\n"
   ]
  },
  {
   "cell_type": "code",
   "execution_count": null,
   "metadata": {
    "colab": {
     "base_uri": "https://localhost:8080/",
     "height": 619
    },
    "executionInfo": {
     "elapsed": 442,
     "status": "ok",
     "timestamp": 1743244096076,
     "user": {
      "displayName": "Edoardo Gornetti",
      "userId": "05048424707797899325"
     },
     "user_tz": -60
    },
    "id": "W3qH_c8paKYA",
    "outputId": "c8da0b6a-f7d2-40a4-8507-daa94f11bb42"
   },
   "outputs": [],
   "source": [
    "# Plotting\n",
    "\n",
    "fig = plt.figure(figsize=(7,7))\n",
    "\n",
    "plt.plot( data[np.where(labels==0)[0],0],data[np.where(labels==0)[0],1],'bs' )\n",
    "plt.plot( data[np.where(labels==1)[0],0],data[np.where(labels==1)[0],1],'ro' )\n",
    "plt.title('Some binary data')\n",
    "plt.xlabel('x1')\n",
    "plt.ylabel('x2')\n",
    "\n",
    "plt.savefig('figure85_code_challenge_6.png')\n",
    "\n",
    "plt.show()\n",
    "\n",
    "files.download('figure85_code_challenge_6.png')\n"
   ]
  },
  {
   "cell_type": "code",
   "execution_count": null,
   "metadata": {
    "colab": {
     "base_uri": "https://localhost:8080/"
    },
    "executionInfo": {
     "elapsed": 14,
     "status": "ok",
     "timestamp": 1743245969078,
     "user": {
      "displayName": "Edoardo Gornetti",
      "userId": "05048424707797899325"
     },
     "user_tz": -60
    },
    "id": "_VMzH7-jaOCr",
    "outputId": "f881933b-0cc8-4034-d68a-7b69e25b2ff4"
   },
   "outputs": [],
   "source": [
    "# %% Class for the model\n",
    "\n",
    "class ANNclassify(nn.Module):\n",
    "    def __init__(self):\n",
    "        super().__init__()\n",
    "\n",
    "        # Dictionary to store the layers\n",
    "        self.layers  = nn.ModuleDict()\n",
    "\n",
    "        # Input, hidden, output layers\n",
    "        self.layers['input']  = nn.Linear(2,16)\n",
    "        self.layers['hidden'] = nn.Linear(16,1)\n",
    "        self.layers['output'] = nn.Linear(1,1)\n",
    "\n",
    "    # Forward propagation\n",
    "    def forward(self,x):\n",
    "\n",
    "        # Input, hidden, output layers pass\n",
    "        x = self.layers['input'](x)\n",
    "        x = F.relu( self.layers['hidden'](x) )\n",
    "        x = self.layers['output'](x)\n",
    "        x = torch.sigmoid(x)\n",
    "\n",
    "        return x\n",
    "\n",
    "# Generate an instance of the model and check it\n",
    "model = ANNclassify()\n",
    "model\n"
   ]
  },
  {
   "cell_type": "code",
   "execution_count": null,
   "metadata": {
    "colab": {
     "base_uri": "https://localhost:8080/"
    },
    "executionInfo": {
     "elapsed": 11,
     "status": "ok",
     "timestamp": 1743245976630,
     "user": {
      "displayName": "Edoardo Gornetti",
      "userId": "05048424707797899325"
     },
     "user_tz": -60
    },
    "id": "Kkud3gh_dNx9",
    "outputId": "b4363bc3-e78f-4c30-c016-63d72c824b8e"
   },
   "outputs": [],
   "source": [
    "# %% Run the model to check its internal consistency\n",
    "\n",
    "# Samples and dimentions\n",
    "n_features = 2\n",
    "n_samples  = 10\n",
    "tmpx = torch.randn(n_samples,n_features)\n",
    "\n",
    "# Run the model\n",
    "y = model(tmpx)\n",
    "\n",
    "# Show the output shape and the output\n",
    "print(y.shape)\n",
    "print( )\n",
    "print(y)\n"
   ]
  },
  {
   "cell_type": "code",
   "execution_count": null,
   "metadata": {
    "id": "75fjM6jedm0B"
   },
   "outputs": [],
   "source": [
    "# %% Function to train the model\n",
    "\n",
    "def train_model(model):\n",
    "\n",
    "    # Loss function and optimizer (BCELoss because using Sigmoid above)\n",
    "    loss_fun  = nn.BCELoss()\n",
    "    optimizer = torch.optim.SGD(model.parameters(),lr=learn_rate)\n",
    "\n",
    "    # Initialise losses\n",
    "    losses    = torch.zeros(num_epochs)\n",
    "\n",
    "    # Loop over epochs\n",
    "    for epoch_i in range(num_epochs):\n",
    "\n",
    "        # Forward propagation\n",
    "        yHat = model(data)\n",
    "\n",
    "        # Loss computation\n",
    "        loss = loss_fun(yHat,labels)\n",
    "        losses[epoch_i] = loss\n",
    "\n",
    "        # Backpropagation\n",
    "        optimizer.zero_grad()\n",
    "        loss.backward()\n",
    "        optimizer.step()\n",
    "\n",
    "    # Final pass and accuracy (here .5 because of BCEWLoss)\n",
    "    predictions = model(data)\n",
    "    tot_acc = 100*torch.mean( ((predictions>.5)==labels).float() )\n",
    "\n",
    "    return losses,predictions,tot_acc\n"
   ]
  },
  {
   "cell_type": "code",
   "execution_count": null,
   "metadata": {
    "colab": {
     "base_uri": "https://localhost:8080/"
    },
    "executionInfo": {
     "elapsed": 11,
     "status": "ok",
     "timestamp": 1743246044386,
     "user": {
      "displayName": "Edoardo Gornetti",
      "userId": "05048424707797899325"
     },
     "user_tz": -60
    },
    "id": "stxVunldIu7A",
    "outputId": "2a67fc7d-074e-4e7d-beed-1b4eed5f3eb9"
   },
   "outputs": [],
   "source": [
    "# %% Test the function to train the model\n",
    "\n",
    "num_epochs = 1000\n",
    "learn_rate = 0.01\n",
    "l,p,a      = train_model(model)\n",
    "\n",
    "# Check output\n",
    "print(l)\n",
    "print( )\n",
    "print(p)\n",
    "print( )\n",
    "print(f'Final accuracy = {a}%')\n"
   ]
  },
  {
   "cell_type": "code",
   "execution_count": null,
   "metadata": {
    "colab": {
     "base_uri": "https://localhost:8080/",
     "height": 456
    },
    "executionInfo": {
     "elapsed": 269,
     "status": "ok",
     "timestamp": 1743246057682,
     "user": {
      "displayName": "Edoardo Gornetti",
      "userId": "05048424707797899325"
     },
     "user_tz": -60
    },
    "id": "ev_EOUKKQbaK",
    "outputId": "eddc79d6-9ce8-40a7-f31e-01d49a7ea5a8"
   },
   "outputs": [],
   "source": [
    "# Plotting\n",
    "\n",
    "plt.plot(l.detach(),'o',markerfacecolor='w',linewidth=.1)\n",
    "plt.xlabel('Epoch')\n",
    "plt.ylabel('Loss')\n",
    "plt.title('Model losses')\n",
    "\n",
    "plt.savefig('figure86_code_challenge_6.png')\n",
    "\n",
    "plt.show()\n",
    "\n",
    "files.download('figure86_code_challenge_6.png')\n"
   ]
  },
  {
   "cell_type": "code",
   "execution_count": null,
   "metadata": {
    "colab": {
     "base_uri": "https://localhost:8080/",
     "height": 456
    },
    "executionInfo": {
     "elapsed": 301,
     "status": "ok",
     "timestamp": 1743246081437,
     "user": {
      "displayName": "Edoardo Gornetti",
      "userId": "05048424707797899325"
     },
     "user_tz": -60
    },
    "id": "AUwQZ_CLSm7X",
    "outputId": "4031ce61-2d7a-4d22-c489-ae2acc3a48c7"
   },
   "outputs": [],
   "source": [
    "# More plotting\n",
    "\n",
    "plt.plot(p.detach(),'o',markerfacecolor='w',linewidth=.1)\n",
    "plt.xlabel('Data point')\n",
    "plt.ylabel('Probability')\n",
    "plt.title('Model predictions')\n",
    "\n",
    "plt.savefig('figure87_code_challenge_6.png')\n",
    "\n",
    "plt.show()\n",
    "\n",
    "files.download('figure87_code_challenge_6.png')\n"
   ]
  },
  {
   "cell_type": "code",
   "execution_count": null,
   "metadata": {
    "colab": {
     "base_uri": "https://localhost:8080/"
    },
    "executionInfo": {
     "elapsed": 59,
     "status": "ok",
     "timestamp": 1743247976388,
     "user": {
      "displayName": "Edoardo Gornetti",
      "userId": "05048424707797899325"
     },
     "user_tz": -60
    },
    "id": "RGDpyy8FRWr5",
    "outputId": "59a9361c-9d5f-47e0-94ad-31789e83340f"
   },
   "outputs": [],
   "source": [
    "# %% Parametric experiment on learning rates\n",
    "\n",
    "# Parameters\n",
    "num_epochs       = 1000\n",
    "learning_rates   = np.linspace(.001,.1,50)\n",
    "acc_by_learnRate = []\n",
    "all_losses       = np.zeros( (len(learning_rates),num_epochs) )\n",
    "\n",
    "# Loop through learning rates\n",
    "for i,lr in enumerate(learning_rates):\n",
    "\n",
    "    # Fresh model instance\n",
    "    model = ANNclassify()\n",
    "\n",
    "    # Generate and run the model\n",
    "    losses,predictions,tot_acc    = train_model(model)\n",
    "\n",
    "    # Store results\n",
    "    acc_by_learnRate.append(tot_acc)\n",
    "    all_losses[i,:] = losses.detach().numpy()\n",
    "\n",
    "# Proportion of accuracies greater than 70%\n",
    "prop = torch.sum(torch.tensor(acc_by_learnRate)>70)/len(acc_by_learnRate)\n",
    "print(f'Proportion of models with accuracy greater that 0.7 : {prop.item():.2f}')\n"
   ]
  },
  {
   "cell_type": "code",
   "execution_count": null,
   "metadata": {
    "colab": {
     "base_uri": "https://localhost:8080/",
     "height": 397
    },
    "executionInfo": {
     "elapsed": 414,
     "status": "ok",
     "timestamp": 1743246520879,
     "user": {
      "displayName": "Edoardo Gornetti",
      "userId": "05048424707797899325"
     },
     "user_tz": -60
    },
    "id": "3CrKLoOfRfs8",
    "outputId": "fd2f46d6-dbf5-4d09-daae-36ee9d06ed2d"
   },
   "outputs": [],
   "source": [
    "# Plotting\n",
    "\n",
    "fig,ax = plt.subplots(1,2,figsize=(12,4))\n",
    "\n",
    "ax[0].plot(learning_rates,acc_by_learnRate,'s-')\n",
    "ax[0].set_xlabel('Learning rate')\n",
    "ax[0].set_ylabel('Accuracy')\n",
    "ax[0].set_title('Accuracy by learning rate')\n",
    "\n",
    "ax[1].plot(all_losses.T)\n",
    "ax[1].set_title('Losses by learning rate')\n",
    "ax[1].set_xlabel('Epoch number')\n",
    "ax[1].set_ylabel('Loss')\n",
    "\n",
    "plt.savefig('figure88_code_challenge_6.png')\n",
    "\n",
    "plt.show()\n",
    "\n",
    "files.download('figure88_code_challenge_6.png')\n"
   ]
  }
 ],
 "metadata": {
  "colab": {
   "authorship_tag": "ABX9TyNDxSgtKuDaepDhmDtSc+/z",
   "provenance": []
  },
  "kernelspec": {
   "display_name": "Python 3",
   "name": "python3"
  },
  "language_info": {
   "name": "python"
  }
 },
 "nbformat": 4,
 "nbformat_minor": 0
}
