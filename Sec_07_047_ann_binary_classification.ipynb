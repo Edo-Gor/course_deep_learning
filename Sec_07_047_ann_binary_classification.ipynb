{
 "cells": [
  {
   "cell_type": "code",
   "execution_count": null,
   "metadata": {
    "id": "c7E-eXR1CPCE"
   },
   "outputs": [],
   "source": [
    "# %% Deep learning - Section 7.47\n",
    "#    ANN for classifying querties\n",
    "\n",
    "# This code pertains a deep learning course provided by Mike X. Cohen on Udemy:\n",
    "#   > https://www.udemy.com/course/deeplearning_x\n",
    "# The \"base\" code in this repository is adapted (with very minor modifications)\n",
    "# from code developed by the course instructor (Mike X. Cohen), while the\n",
    "# \"exercises\" and the \"code challenges\" contain more original solutions and\n",
    "# creative input from my side. If you are interested in DL (and if you are\n",
    "# reading this statement, chances are that you are), go check out the course, it\n",
    "# is singularly good.\n"
   ]
  },
  {
   "cell_type": "code",
   "execution_count": null,
   "metadata": {
    "id": "jC9OXx1yCabj"
   },
   "outputs": [],
   "source": [
    "# %% Libraries and modules\n",
    "import numpy               as np\n",
    "import matplotlib.pyplot   as plt\n",
    "import torch\n",
    "import torch.nn            as nn\n",
    "import copy\n",
    "\n",
    "from google.colab                     import files\n",
    "from matplotlib_inline.backend_inline import set_matplotlib_formats\n",
    "set_matplotlib_formats('svg')\n"
   ]
  },
  {
   "cell_type": "code",
   "execution_count": null,
   "metadata": {
    "id": "ElhZL_anCdYS"
   },
   "outputs": [],
   "source": [
    "# %% Data\n",
    "\n",
    "nClust = 100\n",
    "blur   = 1\n",
    "\n",
    "A = [1,1]\n",
    "B = [5,1]\n",
    "\n",
    "a = [ A[0]+np.random.randn(nClust)*blur, A[1]+np.random.randn(nClust)*blur ]\n",
    "b = [ B[0]+np.random.randn(nClust)*blur, B[1]+np.random.randn(nClust)*blur ]\n",
    "\n",
    "# True labels\n",
    "labels_np = np.vstack(( np.zeros((nClust,1)), np.ones((nClust,1)) ))\n",
    "\n",
    "# Concatenate\n",
    "data_np = np.hstack((a,b)).T\n",
    "\n",
    "# Convert into torch tensor\n",
    "data   = torch.tensor(data_np).float()\n",
    "labels = torch.tensor(labels_np).float()\n"
   ]
  },
  {
   "cell_type": "code",
   "execution_count": null,
   "metadata": {
    "colab": {
     "base_uri": "https://localhost:8080/",
     "height": 619
    },
    "executionInfo": {
     "elapsed": 315,
     "status": "ok",
     "timestamp": 1741630808639,
     "user": {
      "displayName": "Edoardo Gornetti",
      "userId": "05048424707797899325"
     },
     "user_tz": -60
    },
    "id": "u37ae_YEDiVm",
    "outputId": "ab09eb52-7f0f-4ea9-c7ff-5a069c844b20"
   },
   "outputs": [],
   "source": [
    "# Plotting\n",
    "\n",
    "fig = plt.figure(figsize=(7,7))\n",
    "\n",
    "plt.plot( data[np.where(labels==0)[0],0],data[np.where(labels==0)[0],1],'bs' )\n",
    "plt.plot( data[np.where(labels==1)[0],0],data[np.where(labels==1)[0],1],'ro' )\n",
    "plt.title('Some binary data')\n",
    "plt.xlabel('x1')\n",
    "plt.ylabel('x2')\n",
    "\n",
    "plt.savefig('figure15_ann_binary_classification.png')\n",
    "\n",
    "plt.show()\n",
    "\n",
    "files.download('figure15_ann_binary_classification.png')\n"
   ]
  },
  {
   "cell_type": "code",
   "execution_count": null,
   "metadata": {
    "colab": {
     "base_uri": "https://localhost:8080/"
    },
    "executionInfo": {
     "elapsed": 11,
     "status": "ok",
     "timestamp": 1741627364698,
     "user": {
      "displayName": "Edoardo Gornetti",
      "userId": "05048424707797899325"
     },
     "user_tz": -60
    },
    "id": "D6UUz8PpE2MP",
    "outputId": "89436ec9-96e8-4b92-b273-08781802e100"
   },
   "outputs": [],
   "source": [
    "# %% Inspect data types\n",
    "\n",
    "print(type(data_np))\n",
    "print(np.shape(data_np))\n",
    "print( )\n",
    "\n",
    "print(type(data))\n",
    "print(np.shape(data))\n"
   ]
  },
  {
   "cell_type": "code",
   "execution_count": null,
   "metadata": {
    "colab": {
     "base_uri": "https://localhost:8080/"
    },
    "executionInfo": {
     "elapsed": 7,
     "status": "ok",
     "timestamp": 1741630820803,
     "user": {
      "displayName": "Edoardo Gornetti",
      "userId": "05048424707797899325"
     },
     "user_tz": -60
    },
    "id": "04hCsKTPFLt0",
    "outputId": "63c37233-6301-49d5-b31e-6144049a64bc"
   },
   "outputs": [],
   "source": [
    "# %% Build the model\n",
    "\n",
    "ANNclassify = nn.Sequential(\n",
    "                 nn.Linear(2,1),   # input layer (num inputs, num outputs)\n",
    "                 nn.ReLU(),        # first activation function\n",
    "                 nn.Linear(1,1),   # output layer (num inputs, num outputs)\n",
    "                 nn.Sigmoid()      # second activation function\n",
    "                 )\n",
    "\n",
    "ANNclassify\n"
   ]
  },
  {
   "cell_type": "code",
   "execution_count": null,
   "metadata": {
    "id": "2KqvEy70FtGr"
   },
   "outputs": [],
   "source": [
    "# %% Training parameters\n",
    "\n",
    "# Learning rate\n",
    "learning_rate = 0.01\n",
    "\n",
    "# Loss function (binary cross-entropy for binary category data)\n",
    "loss_fun = nn.BCELoss()\n",
    "\n",
    "# Optimizer (i.e. the flavour of gradient to implement; here stocastic gradient descent)\n",
    "optimizer = torch.optim.SGD(ANNclassify.parameters(),lr=learning_rate)\n"
   ]
  },
  {
   "cell_type": "code",
   "execution_count": null,
   "metadata": {
    "id": "Oz4T3wXtGkJO"
   },
   "outputs": [],
   "source": [
    "# %% Train the model\n",
    "\n",
    "# Parameters\n",
    "num_epochs = 1000\n",
    "losses     = torch.zeros(num_epochs)\n",
    "\n",
    "## Training\n",
    "for epoch_i in range(num_epochs):\n",
    "\n",
    "    # Forward propagation\n",
    "    yHat = ANNclassify(data)\n",
    "\n",
    "    # Loss\n",
    "    loss = loss_fun(yHat,labels)\n",
    "    losses[epoch_i] = loss\n",
    "\n",
    "    # Backpropagation\n",
    "    optimizer.zero_grad()\n",
    "    loss.backward()\n",
    "    optimizer.step()\n"
   ]
  },
  {
   "cell_type": "code",
   "execution_count": null,
   "metadata": {
    "colab": {
     "base_uri": "https://localhost:8080/",
     "height": 456
    },
    "executionInfo": {
     "elapsed": 334,
     "status": "ok",
     "timestamp": 1741630831794,
     "user": {
      "displayName": "Edoardo Gornetti",
      "userId": "05048424707797899325"
     },
     "user_tz": -60
    },
    "id": "eDPzSkKKG1nB",
    "outputId": "e39958a6-b21d-4ace-8e59-c267f968a487"
   },
   "outputs": [],
   "source": [
    "# %% Show losses\n",
    "# Notice that when the losses do not plateau, it suggests that the model can still learn\n",
    "\n",
    "# Plotting\n",
    "plt.plot(losses.detach(),'o',markerfacecolor='w',linewidth=.1)\n",
    "plt.xlabel('Epoch')\n",
    "plt.ylabel('Loss')\n",
    "plt.title(f'Final loss = {np.round(losses.detach()[-1].item(),4)}')\n",
    "\n",
    "plt.savefig('figure16_ann_binary_classification.png')\n",
    "\n",
    "plt.show()\n",
    "\n",
    "files.download('figure16_ann_binary_classification.png')\n"
   ]
  },
  {
   "cell_type": "code",
   "execution_count": null,
   "metadata": {
    "colab": {
     "base_uri": "https://localhost:8080/"
    },
    "executionInfo": {
     "elapsed": 8,
     "status": "ok",
     "timestamp": 1741630843592,
     "user": {
      "displayName": "Edoardo Gornetti",
      "userId": "05048424707797899325"
     },
     "user_tz": -60
    },
    "id": "sIvngI-PH43J",
    "outputId": "8615cc48-a296-4fb9-e14e-ee0fec7f0a09"
   },
   "outputs": [],
   "source": [
    "# %% Compute predictions\n",
    "\n",
    "# Final forward pass\n",
    "predictions = ANNclassify(data)\n",
    "pred_labels = predictions > 0.5\n",
    "\n",
    "# Find errors\n",
    "misclassified = np.where(pred_labels != labels)[0]\n",
    "\n",
    "# Total accuracy\n",
    "tot_acc = 100 - 100*len(misclassified)/(2*nClust)\n",
    "\n",
    "print(f'Final accuracy = {tot_acc}%')\n"
   ]
  },
  {
   "cell_type": "code",
   "execution_count": null,
   "metadata": {
    "colab": {
     "base_uri": "https://localhost:8080/",
     "height": 619
    },
    "executionInfo": {
     "elapsed": 328,
     "status": "ok",
     "timestamp": 1741630858827,
     "user": {
      "displayName": "Edoardo Gornetti",
      "userId": "05048424707797899325"
     },
     "user_tz": -60
    },
    "id": "qpFqz8JDJJfE",
    "outputId": "c62b86b3-cd8b-4848-dddb-5d6a1d855e1b"
   },
   "outputs": [],
   "source": [
    "# %% Plot labelled data\n",
    "\n",
    "fig = plt.figure(figsize=(7,7))\n",
    "\n",
    "plt.plot( data[misclassified,0],data[misclassified,1],'gx',markersize=12,markeredgewidth=3 )\n",
    "plt.plot( data[np.where(~pred_labels)[0],0],data[np.where(~pred_labels)[0],1],'bs' )\n",
    "plt.plot( data[np.where(pred_labels)[0],0],data[np.where(pred_labels)[0],1] ,'ro' )\n",
    "plt.xlabel('x1')\n",
    "plt.ylabel('x2')\n",
    "plt.legend(['Misclassified','blue','red'])\n",
    "plt.title(f'Classification accuracy = {tot_acc}%')\n",
    "\n",
    "plt.savefig('figure17_ann_binary_classification.png')\n",
    "\n",
    "plt.show()\n",
    "\n",
    "files.download('figure17_ann_binary_classification.png')\n"
   ]
  },
  {
   "cell_type": "code",
   "execution_count": null,
   "metadata": {
    "id": "xmC38pBrQzUO"
   },
   "outputs": [],
   "source": [
    "# %% Exercise 1\n",
    "#    It is intuitive that the model can reach 100% accuracy if the qwerties are more separable. Modify the\n",
    "#    qwerty-generating code to get the model to have 100% classification accuracy.\n",
    "\n",
    "# E.g., modify the location of the centroid B to B = [8,3]. Surprisingly, one datapoint still gets\n",
    "# mislabelled despite the clusters being so obviously divided! In such a scenario even a simple KNN\n",
    "# or a K-mean clustering algorithm would perform flawlessy\n"
   ]
  },
  {
   "cell_type": "code",
   "execution_count": null,
   "metadata": {
    "colab": {
     "base_uri": "https://localhost:8080/"
    },
    "executionInfo": {
     "elapsed": 337,
     "status": "ok",
     "timestamp": 1741630021812,
     "user": {
      "displayName": "Edoardo Gornetti",
      "userId": "05048424707797899325"
     },
     "user_tz": -60
    },
    "id": "DkaE7bRmKalM",
    "outputId": "9d7c170b-fccf-41bf-eeef-fe8423c4e3eb"
   },
   "outputs": [],
   "source": [
    "# %% Exercise 2\n",
    "#    It is common in DL to train the model for a specified number of epochs. But you can also train until\n",
    "#    the model reaches a certain accuracy criterion. Re-write the code so that the model continues training\n",
    "#    until it reaches 90% accuracy.\n",
    "#    What would happen if the model falls into a local minimum and never reaches 90% accuracy? Yikes! You can\n",
    "#    force-quit a process in google-colab by clicking on the top-left 'play' button of a code cell.\n",
    "\n",
    "# Generate data and then run this code:\n",
    "\n",
    "# %% Build the model\n",
    "ANNclassify = nn.Sequential(\n",
    "                 nn.Linear(2,1),   # input layer (num inputs, num outputs)\n",
    "                 nn.ReLU(),        # first activation function\n",
    "                 nn.Linear(1,1),   # output layer (num inputs, num outputs)\n",
    "                 nn.Sigmoid()      # second activation function\n",
    "                 )\n",
    "\n",
    "# %% Training parameters\n",
    "learning_rate = 0.01\n",
    "loss_fun = nn.BCELoss()\n",
    "optimizer = torch.optim.SGD(ANNclassify.parameters(),lr=learning_rate)\n",
    "\n",
    "# %% Train the model (max epoch to avoid infinite loops)\n",
    "max_epochs = 5000\n",
    "losses     = []\n",
    "acc_thresh = 0.9\n",
    "epoch_i    = 0\n",
    "\n",
    "while epoch_i < max_epochs:\n",
    "\n",
    "    yHat = ANNclassify(data)\n",
    "\n",
    "    loss = loss_fun(yHat,labels)\n",
    "    losses.append(loss.item())\n",
    "\n",
    "    optimizer.zero_grad()\n",
    "    loss.backward()\n",
    "    optimizer.step()\n",
    "\n",
    "    predictions = ANNclassify(data)\n",
    "    pred_labels = predictions > 0.5\n",
    "\n",
    "    tot_acc = (pred_labels == labels).float().mean().item()\n",
    "\n",
    "    if tot_acc >= acc_thresh:\n",
    "        print(f'Stopping training at epoch {epoch_i} with accuracy {tot_acc:.4f}')\n",
    "        break\n",
    "\n",
    "    epoch_i += 1\n"
   ]
  },
  {
   "cell_type": "code",
   "execution_count": null,
   "metadata": {
    "colab": {
     "base_uri": "https://localhost:8080/",
     "height": 456
    },
    "executionInfo": {
     "elapsed": 324,
     "status": "ok",
     "timestamp": 1741630065284,
     "user": {
      "displayName": "Edoardo Gornetti",
      "userId": "05048424707797899325"
     },
     "user_tz": -60
    },
    "id": "3COKJzm3PMjl",
    "outputId": "45b13123-120b-4703-c9c9-c2845fcae574"
   },
   "outputs": [],
   "source": [
    "# %%  Plotting\n",
    "\n",
    "plt.plot(losses,'o',markerfacecolor='w',linewidth=.1)\n",
    "plt.xlabel('Epoch')\n",
    "plt.ylabel('Loss')\n",
    "plt.title(f'Final loss = {np.round(losses[-1],4)}')\n",
    "\n",
    "plt.savefig('figure22_ann_binary_classification_extra2.png')\n",
    "\n",
    "plt.show()\n",
    "\n",
    "files.download('figure22_ann_binary_classification_extra2.png')\n"
   ]
  },
  {
   "cell_type": "code",
   "execution_count": null,
   "metadata": {
    "colab": {
     "base_uri": "https://localhost:8080/",
     "height": 619
    },
    "executionInfo": {
     "elapsed": 331,
     "status": "ok",
     "timestamp": 1741630774323,
     "user": {
      "displayName": "Edoardo Gornetti",
      "userId": "05048424707797899325"
     },
     "user_tz": -60
    },
    "id": "hqvCMIhsPiVI",
    "outputId": "96fbd86a-9cd4-43ac-ffef-b5b2352e5fc0"
   },
   "outputs": [],
   "source": [
    "# %% Plotting\n",
    "\n",
    "misclassified = np.where(pred_labels != labels)[0]\n",
    "\n",
    "fig = plt.figure(figsize=(7,7))\n",
    "\n",
    "plt.plot( data[misclassified,0],data[misclassified,1],'gx',markersize=12,markeredgewidth=3 )\n",
    "plt.plot( data[np.where(~pred_labels)[0],0],data[np.where(~pred_labels)[0],1],'bs' )\n",
    "plt.plot( data[np.where(pred_labels)[0],0],data[np.where(pred_labels)[0],1] ,'ro' )\n",
    "plt.xlabel('x1')\n",
    "plt.ylabel('x2')\n",
    "plt.legend(['Misclassified','blue','red'])\n",
    "plt.title(f'Classification accuracy = {np.round(tot_acc,2)}%')\n",
    "\n",
    "plt.savefig('figure23_ann_binary_classification_extra2.png')\n",
    "\n",
    "plt.show()\n",
    "\n",
    "files.download('figure23_ann_binary_classification_extra2.png')\n"
   ]
  }
 ],
 "metadata": {
  "colab": {
   "authorship_tag": "ABX9TyNYxSaIybEl+LOyfR09A7AN",
   "provenance": []
  },
  "kernelspec": {
   "display_name": "Python 3",
   "name": "python3"
  },
  "language_info": {
   "name": "python"
  }
 },
 "nbformat": 4,
 "nbformat_minor": 0
}
