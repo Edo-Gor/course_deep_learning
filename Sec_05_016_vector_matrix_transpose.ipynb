{
 "cells": [
  {
   "cell_type": "code",
   "execution_count": null,
   "metadata": {
    "id": "M6tneD70jBP9"
   },
   "outputs": [],
   "source": [
    "# %% Deep learning - Section 5.16\n",
    "#    Vector and matrix transpose\n",
    "\n",
    "# This code pertains a deep learning course provided by Mike X. Cohen on Udemy:\n",
    "#   > https://www.udemy.com/course/deeplearning_x\n",
    "# The \"base\" code in this repository is adapted (with very minor modifications)\n",
    "# from code developed by the course instructor (Mike X. Cohen), while the \n",
    "# \"exercises\" and the \"code challenges\" contain more original solutions and \n",
    "# creative input from my side. If you are interested in DL (and if you are \n",
    "# reading this statement, chances are that you are), go check out the course, it\n",
    "# is singularly good.\n"
   ]
  },
  {
   "cell_type": "code",
   "execution_count": null,
   "metadata": {
    "id": "HzAcVH9MjKDH"
   },
   "outputs": [],
   "source": [
    "# %% Libraries and modules\n",
    "import numpy             as np\n",
    "import matplotlib.pyplot as plt\n",
    "import torch\n",
    "import copy\n",
    "\n",
    "from matplotlib_inline.backend_inline import set_matplotlib_formats\n",
    "set_matplotlib_formats('svg')\n"
   ]
  },
  {
   "cell_type": "code",
   "execution_count": null,
   "metadata": {
    "colab": {
     "base_uri": "https://localhost:8080/"
    },
    "executionInfo": {
     "elapsed": 5,
     "status": "ok",
     "timestamp": 1740080498636,
     "user": {
      "displayName": "Edoardo Gornetti",
      "userId": "05048424707797899325"
     },
     "user_tz": -60
    },
    "id": "xaQstjbwjcKW",
    "outputId": "00e5ece2-c24e-49fb-dbb8-6bca904f459a"
   },
   "outputs": [],
   "source": [
    "# %% Transpose operation in numpy\n",
    "\n",
    "# Vectors\n",
    "nv = np.array([ [1,2,3,4] ])\n",
    "print(nv), print( )\n",
    "\n",
    "print(nv.T), print( )\n",
    "\n",
    "nvT = nv.T\n",
    "print(nvT.T), print( )\n",
    "\n",
    "# Matrices\n",
    "nM = np.array([ [1,2,3,4],[5,6,7,8] ])\n",
    "print(nM), print( )\n",
    "\n",
    "print(nM.T), print( )\n",
    "\n",
    "nMT = nM.T\n",
    "print(nMT.T)\n"
   ]
  },
  {
   "cell_type": "code",
   "execution_count": null,
   "metadata": {
    "colab": {
     "base_uri": "https://localhost:8080/"
    },
    "executionInfo": {
     "elapsed": 57,
     "status": "ok",
     "timestamp": 1740080709110,
     "user": {
      "displayName": "Edoardo Gornetti",
      "userId": "05048424707797899325"
     },
     "user_tz": -60
    },
    "id": "Oo2Pwf_k3v7U",
    "outputId": "62ebfc4f-3ee1-4b74-dd6f-e023a0946260"
   },
   "outputs": [],
   "source": [
    "# %% Transpose operation in PyTorch\n",
    "\n",
    "# Vectors\n",
    "tv = torch.tensor([ [1,2,3,4] ])\n",
    "print(tv), print( )\n",
    "\n",
    "print(tv.T), print( )\n",
    "\n",
    "tvT = tv.T\n",
    "print(tvT.T), print( )\n",
    "\n",
    "# Matrices\n",
    "tM = torch.tensor([ [1,2,3,4],[5,6,7,8] ])\n",
    "print(tM), print( )\n",
    "\n",
    "print(tM.T), print( )\n",
    "\n",
    "tMT = tM.T\n",
    "print(tMT.T), print( )\n"
   ]
  },
  {
   "cell_type": "code",
   "execution_count": null,
   "metadata": {
    "colab": {
     "base_uri": "https://localhost:8080/"
    },
    "executionInfo": {
     "elapsed": 9,
     "status": "ok",
     "timestamp": 1740080806899,
     "user": {
      "displayName": "Edoardo Gornetti",
      "userId": "05048424707797899325"
     },
     "user_tz": -60
    },
    "id": "3qPE8jsk5Low",
    "outputId": "24fc688f-900c-4e41-a582-27164129b6f1"
   },
   "outputs": [],
   "source": [
    "# %% Examine data type\n",
    "\n",
    "print(f'Variable nv if of type {type(nv)}.')\n",
    "print(f'Variable nM if of type {type(nM)}.')\n",
    "print(f'Variable tv if of type {type(tv)}.')\n",
    "print(f'Variable tM if of type {type(tM)}.')\n"
   ]
  }
 ],
 "metadata": {
  "colab": {
   "authorship_tag": "ABX9TyNUoEqEqD4lnzttIp9Jrpr3",
   "provenance": []
  },
  "kernelspec": {
   "display_name": "Python 3",
   "name": "python3"
  },
  "language_info": {
   "name": "python"
  }
 },
 "nbformat": 4,
 "nbformat_minor": 0
}
