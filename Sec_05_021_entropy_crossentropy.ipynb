{
 "cells": [
  {
   "cell_type": "code",
   "execution_count": null,
   "metadata": {
    "id": "_2rhroW72u_g"
   },
   "outputs": [],
   "source": [
    "# %% Deep learning - Section 5.21\n",
    "#    Entropy and cross-entropy\n",
    "\n",
    "# This code pertains a deep learning course provided by Mike X. Cohen on Udemy:\n",
    "#   > https://www.udemy.com/course/deeplearning_x\n",
    "# The \"base\" code in this repository is adapted (with very minor modifications)\n",
    "# from code developed by the course instructor (Mike X. Cohen), while the \n",
    "# \"exercises\" and the \"code challenges\" contain more original solutions and \n",
    "# creative input from my side. If you are interested in DL (and if you are \n",
    "# reading this statement, chances are that you are), go check out the course, it\n",
    "# is singularly good.\n"
   ]
  },
  {
   "cell_type": "code",
   "execution_count": null,
   "metadata": {
    "id": "E-QXetNr208J"
   },
   "outputs": [],
   "source": [
    "# %% Libraries and modules\n",
    "import numpy               as np\n",
    "import matplotlib.pyplot   as plt\n",
    "import torch\n",
    "import torch.nn.functional as F\n",
    "import copy\n",
    "\n",
    "from google.colab                     import files\n",
    "from matplotlib_inline.backend_inline import set_matplotlib_formats\n",
    "set_matplotlib_formats('svg')\n"
   ]
  },
  {
   "cell_type": "code",
   "execution_count": null,
   "metadata": {
    "colab": {
     "base_uri": "https://localhost:8080/"
    },
    "executionInfo": {
     "elapsed": 4,
     "status": "ok",
     "timestamp": 1740184745821,
     "user": {
      "displayName": "Edoardo Gornetti",
      "userId": "05048424707797899325"
     },
     "user_tz": -60
    },
    "id": "QabnXN2L4G6M",
    "outputId": "01479922-21dd-4f02-c999-8b519e0a3b3c"
   },
   "outputs": [],
   "source": [
    "# %% Wrong entropy computation\n",
    "\n",
    "# This formulation is wrong because it does not consider the other n events; for\n",
    "# example, if it's a binary event like a coin toss, we have to loop over the\n",
    "# probability of the event occurring (say, p), and of the event not occurring\n",
    "# (1-p)\n",
    "\n",
    "p = .25\n",
    "H = - ( p*np.log(p) )\n",
    "\n",
    "print('Wrong entropy: ' + str(H))\n"
   ]
  },
  {
   "cell_type": "code",
   "execution_count": null,
   "metadata": {
    "colab": {
     "base_uri": "https://localhost:8080/"
    },
    "executionInfo": {
     "elapsed": 17,
     "status": "ok",
     "timestamp": 1740184765078,
     "user": {
      "displayName": "Edoardo Gornetti",
      "userId": "05048424707797899325"
     },
     "user_tz": -60
    },
    "id": "11xa5BoeE1-8",
    "outputId": "3a2a0db0-1b31-49e3-dd69-a3ce1fd4a3ac"
   },
   "outputs": [],
   "source": [
    "# %% Correct entropy computation\n",
    "\n",
    "x = [.25,.75]\n",
    "H = 0\n",
    "\n",
    "for p in x:\n",
    "    H += - ( p*np.log(p) )\n",
    "\n",
    "print('Correct entropy: ' + str(H))\n"
   ]
  },
  {
   "cell_type": "code",
   "execution_count": null,
   "metadata": {
    "colab": {
     "base_uri": "https://localhost:8080/"
    },
    "executionInfo": {
     "elapsed": 5,
     "status": "ok",
     "timestamp": 1740184769211,
     "user": {
      "displayName": "Edoardo Gornetti",
      "userId": "05048424707797899325"
     },
     "user_tz": -60
    },
    "id": "qC4Z4IBYFfYB",
    "outputId": "57d756ba-7777-4569-cb40-b5748a485f18"
   },
   "outputs": [],
   "source": [
    "# %% Also correct entropy computation\n",
    "\n",
    "H = - ( p*np.log(p) + (1-p)*np.log(1-p) )\n",
    "\n",
    "print('Correct entropy: ' + str(H))\n"
   ]
  },
  {
   "cell_type": "code",
   "execution_count": null,
   "metadata": {
    "colab": {
     "base_uri": "https://localhost:8080/"
    },
    "executionInfo": {
     "elapsed": 11,
     "status": "ok",
     "timestamp": 1740184916229,
     "user": {
      "displayName": "Edoardo Gornetti",
      "userId": "05048424707797899325"
     },
     "user_tz": -60
    },
    "id": "kaRVPtqtGLgD",
    "outputId": "abaf4569-07c3-4a85-f7a3-9d360db447c8"
   },
   "outputs": [],
   "source": [
    "# %% Cross-entropy\n",
    "\n",
    "# Notie that all probabilities must sum to 1\n",
    "p = [   1,0   ]\n",
    "q = [ .25,.75 ]\n",
    "H = 0\n",
    "\n",
    "for i in range(len(q)):\n",
    "    H += - ( p[i]*np.log(q[i]) )\n",
    "\n",
    "print('Cross-entropy: ' + str(H))\n"
   ]
  },
  {
   "cell_type": "code",
   "execution_count": null,
   "metadata": {
    "colab": {
     "base_uri": "https://localhost:8080/"
    },
    "executionInfo": {
     "elapsed": 11,
     "status": "ok",
     "timestamp": 1740185330250,
     "user": {
      "displayName": "Edoardo Gornetti",
      "userId": "05048424707797899325"
     },
     "user_tz": -60
    },
    "id": "q6WSHVEoHBvY",
    "outputId": "e1e839ca-5264-4bcb-f4f2-bc334a9f50bd"
   },
   "outputs": [],
   "source": [
    "# %% Also correct cross-entropy computation (plus simplification if p = [1,0])\n",
    "\n",
    "H = - ( p[0]*np.log(q[0]) + p[1]*np.log(q[1]) )\n",
    "print('Correct cross-entropy: ' + str(H))\n",
    "\n",
    "H = - ( 1*np.log(q[0]) + 0 )\n",
    "print('Manually simplified cross-entropy: ' + str(H))\n"
   ]
  },
  {
   "cell_type": "code",
   "execution_count": null,
   "metadata": {
    "colab": {
     "base_uri": "https://localhost:8080/"
    },
    "executionInfo": {
     "elapsed": 48,
     "status": "ok",
     "timestamp": 1740185725819,
     "user": {
      "displayName": "Edoardo Gornetti",
      "userId": "05048424707797899325"
     },
     "user_tz": -60
    },
    "id": "Bi7mWu2VIclL",
    "outputId": "b2ce26d8-cc9c-493a-a2de-eb11b37fb3e7"
   },
   "outputs": [],
   "source": [
    "# %% Binary cross-entropy using PyTorch\n",
    "\n",
    "# Inputs must be tensors as usual\n",
    "p_tensor = torch.Tensor(p)\n",
    "q_tensor = torch.Tensor(q)\n",
    "\n",
    "# And the order is inverted (model predicted probability first, actual label second); again Python is a fucking joke...\n",
    "H = F.binary_cross_entropy(q_tensor,p_tensor)\n",
    "\n",
    "print('Cross-entropy computed with PyTorch: ' + str(H))\n"
   ]
  }
 ],
 "metadata": {
  "colab": {
   "authorship_tag": "ABX9TyNni6owrJJVJOkKh4d/UCqy",
   "provenance": []
  },
  "kernelspec": {
   "display_name": "Python 3",
   "name": "python3"
  },
  "language_info": {
   "name": "python"
  }
 },
 "nbformat": 4,
 "nbformat_minor": 0
}
