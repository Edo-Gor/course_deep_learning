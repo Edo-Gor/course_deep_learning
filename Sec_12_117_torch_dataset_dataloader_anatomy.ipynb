{
 "cells": [
  {
   "cell_type": "code",
   "execution_count": null,
   "metadata": {
    "id": "ajZQZPTAL35r"
   },
   "outputs": [],
   "source": [
    "# %% Deep learning - Section 12.117\n",
    "#    Anatomy of a torch dataset and dataloader\n",
    "\n",
    "# This code pertains a deep learning course provided by Mike X. Cohen on Udemy:\n",
    "#   > https://www.udemy.com/course/deeplearning_x\n",
    "# The \"base\" code in this repository is adapted (with very minor modifications)\n",
    "# from code developed by the course instructor (Mike X. Cohen), while the\n",
    "# \"exercises\" and the \"code challenges\" contain more original solutions and\n",
    "# creative input from my side. If you are interested in DL (and if you are\n",
    "# reading this statement, chances are that you are), go check out the course, it\n",
    "# is singularly good.\n"
   ]
  },
  {
   "cell_type": "code",
   "execution_count": null,
   "metadata": {
    "id": "oH8Ro002LsPZ"
   },
   "outputs": [],
   "source": [
    "# %% Libraries and modules\n",
    "import numpy               as np\n",
    "import matplotlib.pyplot   as plt\n",
    "import torch\n",
    "import torch.nn            as nn\n",
    "import seaborn             as sns\n",
    "import copy\n",
    "import torch.nn.functional as F\n",
    "import pandas              as pd\n",
    "import scipy.stats         as stats\n",
    "import time\n",
    "\n",
    "from torch.utils.data                 import DataLoader,TensorDataset\n",
    "from sklearn.model_selection          import train_test_split\n",
    "from google.colab                     import files\n",
    "from torchsummary                     import summary\n",
    "from IPython                          import display\n",
    "from matplotlib_inline.backend_inline import set_matplotlib_formats\n",
    "set_matplotlib_formats('svg')\n"
   ]
  },
  {
   "cell_type": "code",
   "execution_count": null,
   "metadata": {
    "id": "0ILT2RNBMA9A"
   },
   "outputs": [],
   "source": [
    "# %% Data\n",
    "\n",
    "n_observations = 100\n",
    "n_features     = 20\n",
    "\n",
    "data = np.random.randn(n_observations,n_features)\n"
   ]
  },
  {
   "cell_type": "code",
   "execution_count": null,
   "metadata": {
    "colab": {
     "base_uri": "https://localhost:8080/"
    },
    "executionInfo": {
     "elapsed": 63,
     "status": "ok",
     "timestamp": 1753172094551,
     "user": {
      "displayName": "Edoardo Gornetti",
      "userId": "05048424707797899325"
     },
     "user_tz": -120
    },
    "id": "PZ6DWgCRMQ6l",
    "outputId": "ce5ef552-55a9-4449-ded7-b6da41684f9f"
   },
   "outputs": [],
   "source": [
    "# %% Convert to pytorch tensor\n",
    "\n",
    "data_T = torch.tensor(data)\n",
    "\n",
    "# Print some info for comparison\n",
    "print('Numpy data:')\n",
    "print(type(data))        # class of variable\n",
    "print(data.shape)        # size\n",
    "print(data.dtype)        # type of data\n",
    "print()\n",
    "\n",
    "print('Tensor data:')\n",
    "print(type(data_T))      # class of variable\n",
    "print(data_T.size())     # size (thanks python for the inconsistencies)\n",
    "print(data_T.dtype)      # type of data\n",
    "print()\n"
   ]
  },
  {
   "cell_type": "code",
   "execution_count": null,
   "metadata": {
    "colab": {
     "base_uri": "https://localhost:8080/"
    },
    "executionInfo": {
     "elapsed": 50,
     "status": "ok",
     "timestamp": 1753172476543,
     "user": {
      "displayName": "Edoardo Gornetti",
      "userId": "05048424707797899325"
     },
     "user_tz": -120
    },
    "id": "pajl3XgEM2mM",
    "outputId": "544f6e98-793b-4093-c280-fd6f537b48f8"
   },
   "outputs": [],
   "source": [
    "# %% Data type conversion\n",
    "\n",
    "# Sometimes you need to convert data into specific types, for example float for\n",
    "# numerical data, and int for labels (.float() and .long())\n",
    "data_T2 = torch.tensor(data,dtype=torch.float)\n",
    "data_T2 = torch.tensor(data).float()\n",
    "print(data_T2.dtype)\n",
    "\n",
    "data_T3 = torch.tensor(data,dtype=torch.long)\n",
    "data_T3 = torch.tensor(data).long()\n",
    "print(data_T3.dtype)\n"
   ]
  },
  {
   "cell_type": "code",
   "execution_count": null,
   "metadata": {
    "colab": {
     "base_uri": "https://localhost:8080/"
    },
    "executionInfo": {
     "elapsed": 9,
     "status": "ok",
     "timestamp": 1753172690548,
     "user": {
      "displayName": "Edoardo Gornetti",
      "userId": "05048424707797899325"
     },
     "user_tz": -120
    },
    "id": "nB3bB9bOOZJK",
    "outputId": "420f8651-4757-4e96-e7bd-a53fc01634c9"
   },
   "outputs": [],
   "source": [
    "# %% Convert tensor into PyTorch Dataset\n",
    "\n",
    "# Note that if you input the numpy 'data' it doesn't work, it requires a tensor\n",
    "dataset = TensorDataset(data_T)\n",
    "\n",
    "# The dataset is now a two-element tuple containing data and labels (here labels\n",
    "# are still missing)\n",
    "print(dataset.tensors)\n",
    "print(len(dataset.tensors))\n"
   ]
  },
  {
   "cell_type": "code",
   "execution_count": null,
   "metadata": {
    "colab": {
     "base_uri": "https://localhost:8080/"
    },
    "executionInfo": {
     "elapsed": 21,
     "status": "ok",
     "timestamp": 1753172900411,
     "user": {
      "displayName": "Edoardo Gornetti",
      "userId": "05048424707797899325"
     },
     "user_tz": -120
    },
    "id": "v8t2ffd3PFIj",
    "outputId": "8b4f4de4-d15b-4999-8efa-725d517e1160"
   },
   "outputs": [],
   "source": [
    "# %% Add some labels\n",
    "\n",
    "# Generate and convert into a column vector (otherwise it's just an un-ordered\n",
    "# list of elements)\n",
    "labels = torch.ceil(torch.linspace(.01,4,n_observations))\n",
    "labels = labels.reshape((len(labels),1))\n",
    "\n",
    "# Make another dataset\n",
    "dataset = TensorDataset(data_T,labels)\n",
    "\n",
    "# The dataset is now a two-element tuple containing data and labels\n",
    "print(dataset.tensors)\n",
    "print(len(dataset.tensors))\n",
    "print(dataset.tensors[0].size())\n",
    "print(dataset.tensors[1].size())\n",
    "print()\n",
    "print(np.shape(np.random.randint(5,size=n_observations)))\n"
   ]
  },
  {
   "cell_type": "code",
   "execution_count": null,
   "metadata": {
    "colab": {
     "base_uri": "https://localhost:8080/"
    },
    "executionInfo": {
     "elapsed": 65,
     "status": "ok",
     "timestamp": 1753173429088,
     "user": {
      "displayName": "Edoardo Gornetti",
      "userId": "05048424707797899325"
     },
     "user_tz": -120
    },
    "id": "Mn13nTLUQnFu",
    "outputId": "f15c8aca-009e-4e2b-8779-275d352afc85"
   },
   "outputs": [],
   "source": [
    "# %% DataLoader objects\n",
    "\n",
    "batch_size = 15\n",
    "dataloader = DataLoader(dataset,batch_size=batch_size,shuffle=False,drop_last=False)\n",
    "\n",
    "# Show size of DataLoader\n",
    "dataloader.dataset.tensors[0].size()\n",
    "\n",
    "# Show size of each batch by calling dataloader as an iterable\n",
    "for dat,lab in dataloader:\n",
    "    print('BATCH INFO:')\n",
    "    print(dat.size())\n",
    "    print(lab.size())\n",
    "    print()\n",
    "\n",
    "# Inspect labels as well\n",
    "for dat,lab in dataloader:\n",
    "    print(lab.T)\n",
    "    print()\n"
   ]
  },
  {
   "cell_type": "code",
   "execution_count": null,
   "metadata": {
    "colab": {
     "base_uri": "https://localhost:8080/"
    },
    "executionInfo": {
     "elapsed": 19,
     "status": "ok",
     "timestamp": 1753173594499,
     "user": {
      "displayName": "Edoardo Gornetti",
      "userId": "05048424707797899325"
     },
     "user_tz": -120
    },
    "id": "WNKJECdBR704",
    "outputId": "dc895ff8-514a-4ad7-ed4d-fe219dceed17"
   },
   "outputs": [],
   "source": [
    "# %% Same as above but with shuffling and drop last option\n",
    "\n",
    "batch_size = 15\n",
    "dataloader = DataLoader(dataset,batch_size=batch_size,shuffle=True,drop_last=True)\n",
    "\n",
    "# Show size of DataLoader\n",
    "dataloader.dataset.tensors[0].size()\n",
    "\n",
    "# Show size of each batch by calling dataloader as an iterable\n",
    "for dat,lab in dataloader:\n",
    "    print('BATCH INFO:')\n",
    "    print(dat.size())\n",
    "    print(lab.size())\n",
    "    print()\n",
    "\n",
    "# Inspect labels (notice that if shuffle is on, the dataloader will be\n",
    "# reshuffled any time is called as an iterable, you don't need to recall the\n",
    "# DataLoader() function; try by commenting out that line)\n",
    "for dat,lab in dataloader:\n",
    "    print(lab.T)\n",
    "    print()\n"
   ]
  },
  {
   "cell_type": "code",
   "execution_count": null,
   "metadata": {
    "colab": {
     "base_uri": "https://localhost:8080/"
    },
    "executionInfo": {
     "elapsed": 18,
     "status": "ok",
     "timestamp": 1753173680063,
     "user": {
      "displayName": "Edoardo Gornetti",
      "userId": "05048424707797899325"
     },
     "user_tz": -120
    },
    "id": "eM9mmz8CSj4j",
    "outputId": "fe82d208-63c0-4600-e707-ede54d0a8f3b"
   },
   "outputs": [],
   "source": [
    "# %% How to get only one batch\n",
    "\n",
    "# For example, for testing\n",
    "dat,lab = next(iter(dataloader))\n",
    "\n",
    "print(dat.T)\n",
    "print(lab.T)\n"
   ]
  }
 ],
 "metadata": {
  "colab": {
   "authorship_tag": "ABX9TyMuo8Ys7RSUW+S0ICa19agQ",
   "provenance": []
  },
  "kernelspec": {
   "display_name": "Python 3",
   "name": "python3"
  },
  "language_info": {
   "name": "python"
  }
 },
 "nbformat": 4,
 "nbformat_minor": 0
}
