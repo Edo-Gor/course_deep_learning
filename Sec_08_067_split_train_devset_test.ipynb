{
 "cells": [
  {
   "cell_type": "code",
   "execution_count": null,
   "metadata": {
    "id": "le5MsLuthBqv"
   },
   "outputs": [],
   "source": [
    "# %% Deep learning - Section 8.67\n",
    "#    Splitting data into train, devset, test\n",
    "\n",
    "# This code pertains a deep learning course provided by Mike X. Cohen on Udemy:\n",
    "#   > https://www.udemy.com/course/deeplearning_x\n",
    "# The \"base\" code in this repository is adapted (with very minor modifications)\n",
    "# from code developed by the course instructor (Mike X. Cohen), while the\n",
    "# \"exercises\" and the \"code challenges\" contain more original solutions and\n",
    "# creative input from my side. If you are interested in DL (and if you are\n",
    "# reading this statement, chances are that you are), go check out the course, it\n",
    "# is singularly good.\n"
   ]
  },
  {
   "cell_type": "code",
   "execution_count": null,
   "metadata": {
    "id": "ty5MFy8KhV0e"
   },
   "outputs": [],
   "source": [
    "# %% Libraries and modules\n",
    "import numpy               as np\n",
    "import matplotlib.pyplot   as plt\n",
    "import torch\n",
    "import torch.nn            as nn\n",
    "import seaborn             as sns\n",
    "import copy\n",
    "import torch.nn.functional as F\n",
    "\n",
    "from torch.utils.data                 import DataLoader,TensorDataset\n",
    "from sklearn.model_selection          import train_test_split\n",
    "from google.colab                     import files\n",
    "from torchsummary                     import summary\n",
    "from matplotlib_inline.backend_inline import set_matplotlib_formats\n",
    "set_matplotlib_formats('svg')\n"
   ]
  },
  {
   "cell_type": "code",
   "execution_count": null,
   "metadata": {
    "colab": {
     "base_uri": "https://localhost:8080/"
    },
    "executionInfo": {
     "elapsed": 14,
     "status": "ok",
     "timestamp": 1743955832858,
     "user": {
      "displayName": "Edoardo Gornetti",
      "userId": "05048424707797899325"
     },
     "user_tz": -120
    },
    "id": "V3poUy7C2F1z",
    "outputId": "41e9c3b0-cb00-494f-fa25-b0a076bb7c2a"
   },
   "outputs": [],
   "source": [
    "# Fake dataset\n",
    "\n",
    "fake_data   = np.tile( np.array([1,2,3,4]),(10,1) ) + np.tile( 10*np.arange(1,11),(4,1) ).T\n",
    "fake_labels = np.arange(10)>4\n",
    "\n",
    "print(fake_data)\n",
    "print()\n",
    "print(fake_labels)\n"
   ]
  },
  {
   "cell_type": "code",
   "execution_count": null,
   "metadata": {
    "colab": {
     "base_uri": "https://localhost:8080/"
    },
    "executionInfo": {
     "elapsed": 11,
     "status": "ok",
     "timestamp": 1743956474728,
     "user": {
      "displayName": "Edoardo Gornetti",
      "userId": "05048424707797899325"
     },
     "user_tz": -120
    },
    "id": "cTiN5Uq92hCB",
    "outputId": "c47c687e-5f6d-4560-b596-d4adcb9ab865"
   },
   "outputs": [],
   "source": [
    "# %% Partition with scikitlearn\n",
    "#    Basically split training data and else, and then split else into two subsets\n",
    "\n",
    "# Partition proportions (train,dev,test)\n",
    "partition = [.8,.1,.1]\n",
    "\n",
    "# Split data into train and temporary test\n",
    "train_data,testTMP_data,train_labels,testTMP_labels = train_test_split(fake_data,fake_labels,train_size=partition[0])\n",
    "\n",
    "# Split temporary test into devset and test set\n",
    "split = partition[1] / np.sum(partition[1:])\n",
    "dev_data,test_data,dev_labels,test_labels = train_test_split(testTMP_data,testTMP_labels,train_size=split)\n",
    "\n",
    "# Print sizes and data\n",
    "print(f'Training data size: {train_data.shape}')\n",
    "print(f'Devset data size: {dev_data.shape}')\n",
    "print(f'Test data size: {test_data.shape}')\n",
    "print()\n",
    "\n",
    "print(f'Training data: \\n{train_data}\\n')\n",
    "print(f'Devset data: \\n{dev_data}\\n')\n",
    "print(f'Test data: \\n{test_data}')\n"
   ]
  },
  {
   "cell_type": "code",
   "execution_count": null,
   "metadata": {
    "colab": {
     "base_uri": "https://localhost:8080/"
    },
    "executionInfo": {
     "elapsed": 45,
     "status": "ok",
     "timestamp": 1743957474200,
     "user": {
      "displayName": "Edoardo Gornetti",
      "userId": "05048424707797899325"
     },
     "user_tz": -120
    },
    "id": "iYCZFLHm6Jh7",
    "outputId": "bec20bcb-e66f-4a67-cfef-63c768ac9291"
   },
   "outputs": [],
   "source": [
    "# %% Manual partition\n",
    "\n",
    "# Proportions\n",
    "partition = np.array([.8,.1,.1])\n",
    "print(f'Partition proportions: {partition}')\n",
    "print()\n",
    "\n",
    "# Convert to integers\n",
    "partition_int = np.cumsum(partition*len(fake_labels)).astype(int)\n",
    "print(f'Partition boundaries: {partition_int}')\n",
    "print()\n",
    "\n",
    "# Randomise indices\n",
    "random_indices = np.random.permutation(range(len(fake_labels)))\n",
    "print(f'Randomised indices: {random_indices}')\n"
   ]
  },
  {
   "cell_type": "code",
   "execution_count": null,
   "metadata": {
    "colab": {
     "base_uri": "https://localhost:8080/"
    },
    "executionInfo": {
     "elapsed": 59,
     "status": "ok",
     "timestamp": 1743957833740,
     "user": {
      "displayName": "Edoardo Gornetti",
      "userId": "05048424707797899325"
     },
     "user_tz": -120
    },
    "id": "hhQbqgne95dt",
    "outputId": "7bc9b901-3bf4-4fa6-a7bb-02511555c14c"
   },
   "outputs": [],
   "source": [
    "# %% Manual selection\n",
    "\n",
    "# Get rows for training data\n",
    "train_data   = fake_data[random_indices[:partition_int[0]],:]\n",
    "train_labels = fake_labels[random_indices[:partition_int[0]]]\n",
    "\n",
    "# Get rows for training data\n",
    "dev_data   = fake_data[random_indices[partition_int[0]:partition_int[1]],:]\n",
    "dev_labels = fake_labels[random_indices[partition_int[0]:partition_int[1]]]\n",
    "\n",
    "# Get rows for training data\n",
    "test_data   = fake_data[random_indices[partition_int[1]:],:]\n",
    "test_labels = fake_labels[random_indices[partition_int[1]:]]\n",
    "\n",
    "# Print sizes and data\n",
    "print(f'Training data size: {train_data.shape}')\n",
    "print(f'Devset data size: {dev_data.shape}')\n",
    "print(f'Test data size: {test_data.shape}')\n",
    "print()\n",
    "\n",
    "print(f'Training data: \\n{train_data}\\n')\n",
    "print(f'Devset data: \\n{dev_data}\\n')\n",
    "print(f'Test data: \\n{test_data}')\n"
   ]
  }
 ],
 "metadata": {
  "colab": {
   "authorship_tag": "ABX9TyPWDEIAWC1nUl8b9XCijh2l",
   "provenance": []
  },
  "kernelspec": {
   "display_name": "Python 3",
   "name": "python3"
  },
  "language_info": {
   "name": "python"
  }
 },
 "nbformat": 4,
 "nbformat_minor": 0
}
