{
 "cells": [
  {
   "cell_type": "code",
   "execution_count": null,
   "metadata": {
    "id": "ajZQZPTAL35r"
   },
   "outputs": [],
   "source": [
    "# %% Deep learning - Section 12.124\n",
    "#    Getting data into colab\n",
    "\n",
    "# This code pertains a deep learning course provided by Mike X. Cohen on Udemy:\n",
    "#   > https://www.udemy.com/course/deeplearning_x\n",
    "# The \"base\" code in this repository is adapted (with very minor modifications)\n",
    "# from code developed by the course instructor (Mike X. Cohen), while the\n",
    "# \"exercises\" and the \"code challenges\" contain more original solutions and\n",
    "# creative input from my side. If you are interested in DL (and if you are\n",
    "# reading this statement, chances are that you are), go check out the course, it\n",
    "# is singularly good.\n"
   ]
  },
  {
   "cell_type": "code",
   "execution_count": null,
   "metadata": {
    "id": "oH8Ro002LsPZ"
   },
   "outputs": [],
   "source": [
    "# %% Libraries and modules\n",
    "import numpy               as np\n",
    "import matplotlib.pyplot   as plt\n",
    "import torch\n",
    "import torch.nn            as nn\n",
    "import seaborn             as sns\n",
    "import copy\n",
    "import torch.nn.functional as F\n",
    "import pandas              as pd\n",
    "import scipy.stats         as stats\n",
    "import time\n",
    "\n",
    "from torch.utils.data                 import DataLoader,TensorDataset\n",
    "from sklearn.model_selection          import train_test_split\n",
    "from google.colab                     import files\n",
    "from torchsummary                     import summary\n",
    "from IPython                          import display\n",
    "from matplotlib_inline.backend_inline import set_matplotlib_formats\n",
    "set_matplotlib_formats('svg')\n"
   ]
  },
  {
   "cell_type": "code",
   "execution_count": null,
   "metadata": {
    "id": "eaLgq54hUSLi"
   },
   "outputs": [],
   "source": [
    "# %% Four main ways to get data into colab\n"
   ]
  },
  {
   "cell_type": "code",
   "execution_count": null,
   "metadata": {
    "colab": {
     "base_uri": "https://localhost:8080/"
    },
    "collapsed": true,
    "executionInfo": {
     "elapsed": 13541,
     "status": "ok",
     "timestamp": 1754147295200,
     "user": {
      "displayName": "Edoardo Gornetti",
      "userId": "05048424707797899325"
     },
     "user_tz": -120
    },
    "id": "nQ5hcS49T4LF",
    "outputId": "b3d3e99c-5174-46a2-b74f-8514aee4a9c5"
   },
   "outputs": [],
   "source": [
    "# %% 1) Import from torchvision\n",
    "\n",
    "# Useful when working with images, CNNs, etc. It contains various datasets, and\n",
    "# you can conveniently store them in the cloud\n",
    "\n",
    "import torchvision\n",
    "data = torchvision.datasets.CIFAR10(root='cifar10',download=True)\n",
    "\n",
    "print(data)\n"
   ]
  },
  {
   "cell_type": "code",
   "execution_count": null,
   "metadata": {
    "colab": {
     "base_uri": "https://localhost:8080/",
     "height": 1000
    },
    "collapsed": true,
    "executionInfo": {
     "elapsed": 285,
     "status": "ok",
     "timestamp": 1754147515022,
     "user": {
      "displayName": "Edoardo Gornetti",
      "userId": "05048424707797899325"
     },
     "user_tz": -120
    },
    "id": "qju-sUcBVBCR",
    "outputId": "480a41ab-4b07-4a5c-98ad-9eca4a4e385a"
   },
   "outputs": [],
   "source": [
    "# %% 2) Download from the web\n",
    "\n",
    "# Dowload from online repositories and get into pandas\n",
    "\n",
    "marriage_url = 'https://www.cdc.gov/nchs/data/dvs/state-marriage-rates-90-95-99-19.xlsx'\n",
    "\n",
    "data = pd.read_excel(marriage_url,header=5)\n",
    "data\n"
   ]
  },
  {
   "cell_type": "code",
   "execution_count": null,
   "metadata": {
    "colab": {
     "base_uri": "https://localhost:8080/",
     "height": 38
    },
    "executionInfo": {
     "elapsed": 7392,
     "status": "ok",
     "timestamp": 1754147580607,
     "user": {
      "displayName": "Edoardo Gornetti",
      "userId": "05048424707797899325"
     },
     "user_tz": -120
    },
    "id": "EFKCCaWQVA4J",
    "outputId": "0b64e2c7-e2cc-4ba6-f630-6f24d2f5944d"
   },
   "outputs": [],
   "source": [
    "# %% 3) Upload from hard drive\n",
    "\n",
    "# Load anything you have in your storage\n",
    "\n",
    "from google.colab import files\n",
    "uploaded = files.upload()\n"
   ]
  },
  {
   "cell_type": "code",
   "execution_count": null,
   "metadata": {
    "id": "9dHcmnWoVAiU"
   },
   "outputs": [],
   "source": [
    "# %% 4) Map your google drive\n",
    "\n",
    "# Link anything you have in your g-drive\n",
    "\n",
    "from google.colab import drive\n",
    "drive.mount('/content/drive_data')\n"
   ]
  }
 ],
 "metadata": {
  "colab": {
   "authorship_tag": "ABX9TyPAIEl9l0VHnz+l1eJuBssc",
   "provenance": []
  },
  "kernelspec": {
   "display_name": "Python 3",
   "name": "python3"
  },
  "language_info": {
   "name": "python"
  }
 },
 "nbformat": 4,
 "nbformat_minor": 0
}
