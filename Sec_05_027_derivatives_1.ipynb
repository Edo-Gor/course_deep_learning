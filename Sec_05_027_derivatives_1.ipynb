{
 "cells": [
  {
   "cell_type": "code",
   "execution_count": null,
   "metadata": {
    "id": "dpTRRnsCouB5"
   },
   "outputs": [],
   "source": [
    "# %% Deep learning - Section 5.27\n",
    "#    Derivatives: intuition and polynomials\n",
    "\n",
    "# This code pertains a deep learning course provided by Mike X. Cohen on Udemy:\n",
    "#   > https://www.udemy.com/course/deeplearning_x\n",
    "# The \"base\" code in this repository is adapted (with very minor modifications)\n",
    "# from code developed by the course instructor (Mike X. Cohen), while the \n",
    "# \"exercises\" and the \"code challenges\" contain more original solutions and \n",
    "# creative input from my side. If you are interested in DL (and if you are \n",
    "# reading this statement, chances are that you are), go check out the course, it\n",
    "# is singularly good.\n"
   ]
  },
  {
   "cell_type": "code",
   "execution_count": null,
   "metadata": {
    "id": "cQKd8FcOpEjA"
   },
   "outputs": [],
   "source": [
    "# %% Libraries and modules\n",
    "import numpy               as np\n",
    "import matplotlib.pyplot   as plt\n",
    "import sympy               as sym\n",
    "import sympy.plotting.plot as symplot\n",
    "import copy\n",
    "\n",
    "from google.colab                     import files\n",
    "from matplotlib_inline.backend_inline import set_matplotlib_formats\n",
    "set_matplotlib_formats('svg')\n"
   ]
  },
  {
   "cell_type": "code",
   "execution_count": null,
   "metadata": {
    "colab": {
     "base_uri": "https://localhost:8080/"
    },
    "executionInfo": {
     "elapsed": 199,
     "status": "ok",
     "timestamp": 1740420769332,
     "user": {
      "displayName": "Edoardo Gornetti",
      "userId": "05048424707797899325"
     },
     "user_tz": -60
    },
    "id": "ObYXfd7GpHy7",
    "outputId": "902ff900-49de-475c-e528-fbde1c51ecf1"
   },
   "outputs": [],
   "source": [
    "# %% Data\n",
    "\n",
    "x  = sym.symbols('x')\n",
    "\n",
    "fx = 2*x**2\n",
    "df = sym.diff(fx,x)\n",
    "\n",
    "print(fx)\n",
    "print(df)\n"
   ]
  },
  {
   "cell_type": "code",
   "execution_count": null,
   "metadata": {
    "id": "yYg-ms11KfvM"
   },
   "outputs": [],
   "source": [
    "# %% Plotting\n",
    "\n",
    "# Function\n",
    "plot = symplot(fx,(x,-4,4),title='The function')\n",
    "\n",
    "plot.save('figure9_function1.png')\n",
    "\n",
    "plt.show()\n",
    "\n",
    "files.download('figure9_function1.png')\n",
    "\n",
    "# Derivative\n",
    "plot = symplot(df,(x,-4,4),title='Its derivative')\n",
    "\n",
    "plot.save('figure10_derivative1.png')\n",
    "\n",
    "plt.show()\n",
    "\n",
    "files.download('figure10_derivative1.png')"
   ]
  },
  {
   "cell_type": "code",
   "execution_count": null,
   "metadata": {
    "id": "XTgcgGvuLVCf"
   },
   "outputs": [],
   "source": [
    "# %% Another example : the ReLU and the Sigmoid\n",
    "\n",
    "# Symbolic functions\n",
    "relu    = sym.Max(0,x)\n",
    "sigmoid = 1 / (1+sym.exp(-x))\n",
    "\n",
    "# Plotting\n",
    "p = symplot( relu,(x,-4,4),label='ReLU',show=False,line_color='blue' )\n",
    "p.extend( symplot(sigmoid,(x,-4,4),label='Sigmoid',show=False,line_color='red') )\n",
    "p.legend = True\n",
    "p.title  = 'The functions'\n",
    "\n",
    "p.save('figure11_function2.png')\n",
    "\n",
    "p.show()\n",
    "\n",
    "files.download('figure11_function2.png')\n",
    "\n",
    "p = symplot( sym.diff(relu),(x,-4,4),label='df(ReLU)',show=False,line_color='blue' )\n",
    "p.extend( symplot(sym.diff(sigmoid),(x,-4,4),label='df(Sigmoid)',show=False,line_color='red') )\n",
    "p.legend = True\n",
    "p.title  = 'Their derivatives'\n",
    "\n",
    "p.save('figure12_derivative2.png')\n",
    "\n",
    "p.show()\n",
    "\n",
    "files.download('figure12_derivative2.png')\n"
   ]
  }
 ],
 "metadata": {
  "colab": {
   "authorship_tag": "ABX9TyNdoSM1if33deiJ5NCEtLcy",
   "provenance": []
  },
  "kernelspec": {
   "display_name": "Python 3",
   "name": "python3"
  },
  "language_info": {
   "name": "python"
  }
 },
 "nbformat": 4,
 "nbformat_minor": 0
}
