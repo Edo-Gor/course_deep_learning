{
 "cells": [
  {
   "cell_type": "code",
   "execution_count": null,
   "metadata": {
    "id": "JpE2IVtbBpoV"
   },
   "outputs": [],
   "source": [
    "# %% Deep learning - Section 5.25\n",
    "#    Reproducible randomness via seeding\n",
    "\n",
    "# This code pertains a deep learning course provided by Mike X. Cohen on Udemy:\n",
    "#   > https://www.udemy.com/course/deeplearning_x\n",
    "# The \"base\" code in this repository is adapted (with very minor modifications)\n",
    "# from code developed by the course instructor (Mike X. Cohen), while the \n",
    "# \"exercises\" and the \"code challenges\" contain more original solutions and \n",
    "# creative input from my side. If you are interested in DL (and if you are \n",
    "# reading this statement, chances are that you are), go check out the course, it\n",
    "# is singularly good.\n"
   ]
  },
  {
   "cell_type": "code",
   "execution_count": null,
   "metadata": {
    "id": "WFwTNKEXB51p"
   },
   "outputs": [],
   "source": [
    "# %% Libraries and modules\n",
    "import numpy             as np\n",
    "import matplotlib.pyplot as plt\n",
    "import torch\n",
    "import copy\n",
    "\n",
    "from google.colab                     import files\n",
    "from matplotlib_inline.backend_inline import set_matplotlib_formats\n",
    "set_matplotlib_formats('svg')\n"
   ]
  },
  {
   "cell_type": "code",
   "execution_count": null,
   "metadata": {
    "colab": {
     "base_uri": "https://localhost:8080/"
    },
    "executionInfo": {
     "elapsed": 10,
     "status": "ok",
     "timestamp": 1740268734990,
     "user": {
      "displayName": "Edoardo Gornetti",
      "userId": "05048424707797899325"
     },
     "user_tz": -60
    },
    "id": "7iu6SL6tCeeA",
    "outputId": "d579da90-d821-4eeb-ddb2-397a53f7b596"
   },
   "outputs": [],
   "source": [
    "# %% The importance of reproducible randomness in deep learning\n",
    "\n",
    "# When we initialise DL models, we usually provide the models with random\n",
    "# initial weights; this is good because it allows the model to get stuck in a\n",
    "# local minimum, but it is also bad for comparison (e.g., in case someone wants\n",
    "# to reproduce your model, they should be able to reproduce also the initial\n",
    "# randomness)\n",
    "\n",
    "# Example of randomness\n",
    "print( np.random.randn(5) )\n",
    "print( torch.randn(5) )\n"
   ]
  },
  {
   "cell_type": "code",
   "execution_count": null,
   "metadata": {
    "colab": {
     "base_uri": "https://localhost:8080/"
    },
    "executionInfo": {
     "elapsed": 17,
     "status": "ok",
     "timestamp": 1740268328555,
     "user": {
      "displayName": "Edoardo Gornetti",
      "userId": "05048424707797899325"
     },
     "user_tz": -60
    },
    "id": "ePlLTZwkB8SZ",
    "outputId": "3ea7735b-3ef3-4fd3-a329-0630e1544175"
   },
   "outputs": [],
   "source": [
    "# %% Seed functions in numpy\n",
    "\n",
    "# Old but still used (analogous idea to rng in MatLab)\n",
    "np.random.seed(17)\n",
    "print( np.random.randn(5) )\n",
    "print( np.random.randn(5) )\n",
    "print( )\n",
    "\n",
    "# New mechanism in numpy\n",
    "randseed1 = np.random.RandomState(17)\n",
    "randseed2 = np.random.RandomState(20210530)\n",
    "\n",
    "print( randseed1.randn(5) )\n",
    "print( randseed2.randn(5) )\n",
    "print( randseed1.randn(5) )\n",
    "print( randseed2.randn(5) )\n",
    "print( np.random.randn(5) )\n"
   ]
  },
  {
   "cell_type": "code",
   "execution_count": null,
   "metadata": {
    "colab": {
     "base_uri": "https://localhost:8080/"
    },
    "executionInfo": {
     "elapsed": 10,
     "status": "ok",
     "timestamp": 1740268719224,
     "user": {
      "displayName": "Edoardo Gornetti",
      "userId": "05048424707797899325"
     },
     "user_tz": -60
    },
    "id": "p6YuC8BnCQoS",
    "outputId": "7526ead6-2a80-47f4-f868-69e0f846ac96"
   },
   "outputs": [],
   "source": [
    "# %% Seed functions in PyTorch\n",
    "\n",
    "torch.manual_seed(17)\n",
    "print( torch.randn(5) )\n"
   ]
  }
 ],
 "metadata": {
  "colab": {
   "authorship_tag": "ABX9TyOFAI2/c8WCylfyI7PdrFPX",
   "provenance": []
  },
  "kernelspec": {
   "display_name": "Python 3",
   "name": "python3"
  },
  "language_info": {
   "name": "python"
  }
 },
 "nbformat": 4,
 "nbformat_minor": 0
}
