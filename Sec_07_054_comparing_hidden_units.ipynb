{
 "cells": [
  {
   "cell_type": "code",
   "execution_count": null,
   "metadata": {
    "id": "n4saE0AXrEzR"
   },
   "outputs": [],
   "source": [
    "# %% Deep learning - Section 7.54\n",
    "#    Comparing the number of hidden units\n",
    "\n",
    "# This code pertains a deep learning course provided by Mike X. Cohen on Udemy:\n",
    "#   > https://www.udemy.com/course/deeplearning_x\n",
    "# The \"base\" code in this repository is adapted (with very minor modifications)\n",
    "# from code developed by the course instructor (Mike X. Cohen), while the\n",
    "# \"exercises\" and the \"code challenges\" contain more original solutions and\n",
    "# creative input from my side. If you are interested in DL (and if you are\n",
    "# reading this statement, chances are that you are), go check out the course, it\n",
    "# is singularly good.\n"
   ]
  },
  {
   "cell_type": "code",
   "execution_count": null,
   "metadata": {
    "id": "Kpn2aUmCrLnQ"
   },
   "outputs": [],
   "source": [
    "# %% Libraries and modules\n",
    "import numpy             as np\n",
    "import matplotlib.pyplot as plt\n",
    "import torch\n",
    "import torch.nn          as nn\n",
    "import seaborn           as sns\n",
    "import copy\n",
    "\n",
    "from google.colab                     import files\n",
    "from matplotlib_inline.backend_inline import set_matplotlib_formats\n",
    "set_matplotlib_formats('svg')\n"
   ]
  },
  {
   "cell_type": "code",
   "execution_count": null,
   "metadata": {
    "colab": {
     "base_uri": "https://localhost:8080/",
     "height": 967
    },
    "executionInfo": {
     "elapsed": 4260,
     "status": "ok",
     "timestamp": 1742845431641,
     "user": {
      "displayName": "Edoardo Gornetti",
      "userId": "05048424707797899325"
     },
     "user_tz": -60
    },
    "id": "BqWegdNhrb6t",
    "outputId": "d8cae5ac-da14-48da-c4b6-9e2b0b185582"
   },
   "outputs": [],
   "source": [
    "# %% Import Iris dataset and plot\n",
    "\n",
    "iris = sns.load_dataset('iris')\n",
    "iris.head()\n",
    "\n",
    "sns.pairplot(iris,hue='species')\n",
    "\n",
    "plt.show()\n"
   ]
  },
  {
   "cell_type": "code",
   "execution_count": null,
   "metadata": {
    "colab": {
     "base_uri": "https://localhost:8080/"
    },
    "executionInfo": {
     "elapsed": 111,
     "status": "ok",
     "timestamp": 1742845594294,
     "user": {
      "displayName": "Edoardo Gornetti",
      "userId": "05048424707797899325"
     },
     "user_tz": -60
    },
    "id": "xC_yRt68rtY2",
    "outputId": "1d0a388d-96f7-45f8-8ca8-263bf7030314"
   },
   "outputs": [],
   "source": [
    "# %% Organise data\n",
    "\n",
    "# From pandas df to tensor\n",
    "data = torch.tensor( iris[iris.columns[0:4]].values ).float()\n",
    "\n",
    "# Species to number\n",
    "labels = torch.zeros(len(data),dtype=torch.long)\n",
    "labels[iris.species=='setosa']     = 0\n",
    "labels[iris.species=='versicolor'] = 1\n",
    "labels[iris.species=='virginica']  = 2\n",
    "\n",
    "labels\n"
   ]
  },
  {
   "cell_type": "code",
   "execution_count": null,
   "metadata": {
    "id": "pZjLsXtrsVsT"
   },
   "outputs": [],
   "source": [
    "# %% Functions\n"
   ]
  },
  {
   "cell_type": "code",
   "execution_count": null,
   "metadata": {
    "id": "vTYLAX6msj1G"
   },
   "outputs": [],
   "source": [
    "# %% Function to build the model\n",
    "\n",
    "def gen_iris_model(nHidden):\n",
    "\n",
    "    # Architecture (softcoded hidden units)\n",
    "    ANNiris = nn.Sequential(\n",
    "                 nn.Linear(4,nHidden),        # input layer\n",
    "                 nn.ReLU(),                   # a.f.\n",
    "                 nn.Linear(nHidden,nHidden),  # hidden layer\n",
    "                 nn.ReLU(),                   # a.f.\n",
    "                 nn.Linear(nHidden,3),        # output layer\n",
    "                 #nn.Softmax(dim=1)           # final a.f. (illustration purpose)\n",
    "                 )\n",
    "\n",
    "    # Loss function\n",
    "    loss_fun = nn.CrossEntropyLoss()\n",
    "\n",
    "    # Optimizer\n",
    "    optimizer = torch.optim.SGD(ANNiris.parameters(),lr=0.01)\n",
    "\n",
    "    return ANNiris, loss_fun, optimizer\n"
   ]
  },
  {
   "cell_type": "code",
   "execution_count": null,
   "metadata": {
    "id": "CqFjItSvuSLS"
   },
   "outputs": [],
   "source": [
    "# %% Function to train the model\n",
    "\n",
    "def train_iris_model(ANNiris):\n",
    "\n",
    "    for epoch_i in range(num_epochs):\n",
    "\n",
    "        # Forward propagation\n",
    "        yHat = ANNiris(data)\n",
    "\n",
    "        # Compute loss\n",
    "        loss = loss_fun(yHat,labels)\n",
    "\n",
    "        # Backpropagation\n",
    "        optimizer.zero_grad()\n",
    "        loss.backward()\n",
    "        optimizer.step()\n",
    "\n",
    "    # Final forward pass\n",
    "    predictions = ANNiris(data)\n",
    "    pred_labels = torch.argmax(predictions,axis=1)\n",
    "\n",
    "    return 100*torch.mean( (pred_labels==labels).float() )\n"
   ]
  },
  {
   "cell_type": "code",
   "execution_count": null,
   "metadata": {
    "id": "FxYt_wvnwEZN"
   },
   "outputs": [],
   "source": [
    "# Run the parametric experiment\n",
    "\n",
    "num_epochs = 150\n",
    "num_hidden = np.arange(1,129)  # Exclusive upper bound\n",
    "accuracies = []\n",
    "\n",
    "for unit_i in num_hidden:\n",
    "\n",
    "    # Create fresh model instance\n",
    "    ANNiris,loss_fun,optimizer = gen_iris_model(unit_i)\n",
    "\n",
    "    # Run model\n",
    "    acc = train_iris_model(ANNiris)\n",
    "    accuracies.append(acc)\n"
   ]
  },
  {
   "cell_type": "code",
   "execution_count": null,
   "metadata": {
    "colab": {
     "base_uri": "https://localhost:8080/",
     "height": 582
    },
    "executionInfo": {
     "elapsed": 301,
     "status": "ok",
     "timestamp": 1742848069147,
     "user": {
      "displayName": "Edoardo Gornetti",
      "userId": "05048424707797899325"
     },
     "user_tz": -60
    },
    "id": "Je8xm9GGwp6X",
    "outputId": "08006371-4d92-47e4-9b00-524fd4fe9c77"
   },
   "outputs": [],
   "source": [
    "# Plotting\n",
    "\n",
    "fig,ax = plt.subplots(1,figsize=(12,6))\n",
    "\n",
    "ax.plot(accuracies,'o-',markerfacecolor='w',markersize=8)\n",
    "ax.plot(num_hidden[[0,-1]],[33,33],'--',color=[.75,.75,.75])\n",
    "ax.plot(num_hidden[[0,-1]],[67,67],'--',color=[.75,.75,.75])\n",
    "ax.set_xlabel('Number of hidden units')\n",
    "ax.set_ylabel('Accuracy')\n",
    "ax.set_title(f'Number of epochs: {num_epochs} - Learning rate: 0.01')\n",
    "fig.suptitle('Accuracy for different numbers of units in hidden layer')\n",
    "\n",
    "plt.savefig('figure72_number_hidden_units.png')\n",
    "\n",
    "plt.show()\n",
    "\n",
    "files.download('figure72_number_hidden_units.png')\n"
   ]
  },
  {
   "cell_type": "code",
   "execution_count": null,
   "metadata": {
    "id": "Z50uJ1QKyMUf"
   },
   "outputs": [],
   "source": [
    "# %% Exercise 1\n",
    "#    The results here show that models with fewer than ~50 hidden units have lackluster performance. Would these models\n",
    "#    eventually learn if they were given more training epochs? Try this by re-running the experiment using 500 epochs.\n",
    "#    Tip: Copy/paste the plotting code into a new cell to keep both plots. Or, take screenshots of the plots.\n",
    "\n",
    "# The model performace increases dramatically with more epochs, and even 10/15 units in the hidden layer seem enough\n",
    "# to get a ceiling performace. Not sure about what method is more computationally expensive\n"
   ]
  },
  {
   "cell_type": "code",
   "execution_count": null,
   "metadata": {
    "id": "IZXWpTCjyMNE"
   },
   "outputs": [],
   "source": [
    "# %% Exercise 2\n",
    "#    Going back to 150 epochs, explore the effect of changing the learning rate. This doesn't need to be a full parametric\n",
    "#    experiment; you can simply try is again using learning rates of .1, .01 (what we used in the video), and .001.\n",
    "\n",
    "# A learning rate of 0.001 is too small and keeps the model from converging to some optimal minimum, a learning\n",
    "# rate of 0.1 is a bit coarse, it produces relatively high accuracy values, but the model remains highly variable\n",
    "# also for a high number of units in the hidden layer\n"
   ]
  },
  {
   "cell_type": "code",
   "execution_count": null,
   "metadata": {
    "colab": {
     "base_uri": "https://localhost:8080/",
     "height": 582
    },
    "executionInfo": {
     "elapsed": 395,
     "status": "ok",
     "timestamp": 1742851201101,
     "user": {
      "displayName": "Edoardo Gornetti",
      "userId": "05048424707797899325"
     },
     "user_tz": -60
    },
    "id": "LrBVu0JhyMEp",
    "outputId": "501ace46-0c5d-4b4a-8001-44e208930407"
   },
   "outputs": [],
   "source": [
    "# %% Exercise 3\n",
    "#    With simple models and small datasets, it's possible to test many different parameter settings. However, larger\n",
    "#    models take longer to train, and so running 128 tests is not always feasible. Modify the code to have the number of\n",
    "#    hidden units range from 1 to 128 in steps of 14. Plot the results on top of the results using steps of 1 (that is,\n",
    "#    show both results in the same graph). Does your interpretation change with fewer experiment runs?\n",
    "\n",
    "# No reason to expect radically different results, even though some differences might occur\n",
    "# due to stocasticity in the algorithm, the conclusions are basically the same\n",
    "\n",
    "# Run the parametric experiment with steps of 1 and 14\n",
    "num_epochs    = 150\n",
    "num_hidden    = np.arange(1,129)    # Exclusive upper bound\n",
    "num_hidden_14 = np.arange(1,129,14)\n",
    "\n",
    "accuracies_1  = []\n",
    "accuracies_14 = []\n",
    "\n",
    "for unit_i in num_hidden:\n",
    "\n",
    "    # Create fresh model instance and run model\n",
    "    ANNiris,loss_fun,optimizer = gen_iris_model(unit_i)\n",
    "    acc = train_iris_model(ANNiris)\n",
    "\n",
    "    # Get all accuracies\n",
    "    accuracies_1.append(acc)\n",
    "\n",
    "# Get accuracies for hidden layer in steps of 14 (no need to recompute)\n",
    "accuracies_14 = np.full_like(accuracies_1,np.nan,dtype=np.float32)\n",
    "\n",
    "for i,val in enumerate(num_hidden):\n",
    "    if val in num_hidden_14:\n",
    "        accuracies_14[i] = accuracies_1[i]\n",
    "\n",
    "\n",
    "# Plotting\n",
    "valid_indices = ~np.isnan(accuracies_14)\n",
    "accuracies_14 = accuracies_14[valid_indices]\n",
    "\n",
    "fig,ax = plt.subplots(1,figsize=(12,6))\n",
    "\n",
    "ax.plot(num_hidden,   accuracies_1, 'o-',markerfacecolor='w',markersize=8)\n",
    "ax.plot(num_hidden_14,accuracies_14,'s-',markerfacecolor='w',markersize=8)\n",
    "ax.plot(num_hidden[[0,-1]],[33,33],'--',color=[.75,.75,.75])\n",
    "ax.plot(num_hidden[[0,-1]],[67,67],'--',color=[.75,.75,.75])\n",
    "ax.set_xlabel('Number of hidden units')\n",
    "ax.set_ylabel('Accuracy')\n",
    "ax.set_title(f'Number of epochs: {num_epochs} - Learning rate: 0.01')\n",
    "fig.suptitle('Accuracy for different numbers of units in hidden layer')\n",
    "\n",
    "plt.savefig('figure76_number_hidden_units_extra3.png')\n",
    "\n",
    "plt.show()\n",
    "\n",
    "files.download('figure76_number_hidden_units_extra3.png')\n"
   ]
  },
  {
   "cell_type": "code",
   "execution_count": null,
   "metadata": {
    "colab": {
     "base_uri": "https://localhost:8080/",
     "height": 582
    },
    "executionInfo": {
     "elapsed": 302,
     "status": "ok",
     "timestamp": 1742850688337,
     "user": {
      "displayName": "Edoardo Gornetti",
      "userId": "05048424707797899325"
     },
     "user_tz": -60
    },
    "id": "1boxadSD_OeV",
    "outputId": "b00b9a1a-f33a-43ab-aac6-8ffc7b72f17b"
   },
   "outputs": [],
   "source": [
    "# %% Try without extrapolation but by recomputing\n",
    "\n",
    "# Run the parametric experiment with steps of 1 and 14\n",
    "num_epochs    = 150\n",
    "num_hidden    = np.arange(1,129)    # Exclusive upper bound\n",
    "num_hidden_14 = np.arange(1,129,14)\n",
    "\n",
    "accuracies_1  = []\n",
    "accuracies_14 = []\n",
    "\n",
    "for unit_i in num_hidden:\n",
    "\n",
    "    # Create fresh model instance and run model\n",
    "    ANNiris,loss_fun,optimizer = gen_iris_model(unit_i)\n",
    "    acc = train_iris_model(ANNiris)\n",
    "\n",
    "    # Get all accuracies\n",
    "    accuracies_1.append(acc)\n",
    "\n",
    "for unit_i in num_hidden_14:\n",
    "\n",
    "    # Create fresh model instance and run model\n",
    "    ANNiris,loss_fun,optimizer = gen_iris_model(unit_i)\n",
    "    acc = train_iris_model(ANNiris)\n",
    "\n",
    "    # Get all accuracies\n",
    "    accuracies_14.append(acc)\n",
    "\n",
    "\n",
    "# Plotting\n",
    "fig,ax = plt.subplots(1,figsize=(12,6))\n",
    "\n",
    "ax.plot(num_hidden,   accuracies_1, 'o-',markerfacecolor='w',markersize=8)\n",
    "ax.plot(num_hidden_14,accuracies_14,'s-',markerfacecolor='w',markersize=8)\n",
    "ax.plot(num_hidden[[0,-1]],[33,33],'--',color=[.75,.75,.75])\n",
    "ax.plot(num_hidden[[0,-1]],[67,67],'--',color=[.75,.75,.75])\n",
    "ax.set_xlabel('Number of hidden units')\n",
    "ax.set_ylabel('Accuracy')\n",
    "ax.set_title(f'Number of epochs: {num_epochs} - Learning rate: 0.01')\n",
    "fig.suptitle('Accuracy for different numbers of units in hidden layer')\n",
    "\n",
    "plt.savefig('figure77_number_hidden_units_extra3.png')\n",
    "\n",
    "plt.show()\n",
    "\n",
    "files.download('figure77_number_hidden_units_extra3.png')\n"
   ]
  }
 ],
 "metadata": {
  "colab": {
   "authorship_tag": "ABX9TyMr3koAf8NfqEDxDde0QMDc",
   "provenance": []
  },
  "kernelspec": {
   "display_name": "Python 3",
   "name": "python3"
  },
  "language_info": {
   "name": "python"
  }
 },
 "nbformat": 4,
 "nbformat_minor": 0
}
