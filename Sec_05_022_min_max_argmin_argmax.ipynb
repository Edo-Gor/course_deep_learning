{
 "cells": [
  {
   "cell_type": "code",
   "execution_count": null,
   "metadata": {
    "id": "RTm-7kpZKZcv"
   },
   "outputs": [],
   "source": [
    "# %% Deep learning - Section 5.22\n",
    "#    Min/max and argmin/argmax\n",
    "\n",
    "# This code pertains a deep learning course provided by Mike X. Cohen on Udemy:\n",
    "#   > https://www.udemy.com/course/deeplearning_x\n",
    "# The \"base\" code in this repository is adapted (with very minor modifications)\n",
    "# from code developed by the course instructor (Mike X. Cohen), while the \n",
    "# \"exercises\" and the \"code challenges\" contain more original solutions and \n",
    "# creative input from my side. If you are interested in DL (and if you are \n",
    "# reading this statement, chances are that you are), go check out the course, it\n",
    "# is singularly good.\n"
   ]
  },
  {
   "cell_type": "code",
   "execution_count": null,
   "metadata": {
    "id": "rx4RfQ9AKmyB"
   },
   "outputs": [],
   "source": [
    "# %% Libraries and modules\n",
    "import numpy             as np\n",
    "import matplotlib.pyplot as plt\n",
    "import torch\n",
    "import copy\n",
    "\n",
    "from google.colab                     import files\n",
    "from matplotlib_inline.backend_inline import set_matplotlib_formats\n",
    "set_matplotlib_formats('svg')\n"
   ]
  },
  {
   "cell_type": "code",
   "execution_count": null,
   "metadata": {
    "colab": {
     "base_uri": "https://localhost:8080/"
    },
    "executionInfo": {
     "elapsed": 11,
     "status": "ok",
     "timestamp": 1740237178831,
     "user": {
      "displayName": "Edoardo Gornetti",
      "userId": "05048424707797899325"
     },
     "user_tz": -60
    },
    "id": "0tiV_lOYKpVO",
    "outputId": "7e5818f9-ff8c-4111-8e16-b66885b4b5e7"
   },
   "outputs": [],
   "source": [
    "# %% Min/max and argmin/argmax in numpy - Vectors\n",
    "\n",
    "v = np.array([ 1,40,2,-4,-3 ])\n",
    "\n",
    "minval = np.min(v)\n",
    "maxval = np.max(v)\n",
    "\n",
    "print('Min/max values in v: %g,%g' %(minval,maxval))\n",
    "\n",
    "minidx = np.argmin(v)\n",
    "maxidx = np.argmax(v)\n",
    "\n",
    "print('Min/max indices in v: %g,%g' %(minidx,maxidx))\n",
    "\n",
    "# Confirm\n",
    "print(f'Min val is {v[minidx]} \\nMax val is {v[maxidx]}')\n"
   ]
  },
  {
   "cell_type": "code",
   "execution_count": null,
   "metadata": {
    "colab": {
     "base_uri": "https://localhost:8080/"
    },
    "executionInfo": {
     "elapsed": 10,
     "status": "ok",
     "timestamp": 1740238240646,
     "user": {
      "displayName": "Edoardo Gornetti",
      "userId": "05048424707797899325"
     },
     "user_tz": -60
    },
    "id": "_fjCg0NOOM83",
    "outputId": "bb683a69-b8d1-46ae-8796-9f209e5cb8ff"
   },
   "outputs": [],
   "source": [
    "# %% Min/max and argmin/argmax in numpy - Matrices\n",
    "\n",
    "M = np.array([ [0,1,10],\n",
    "               [-2,9,5],\n",
    "               [7,-8,1]])\n",
    "\n",
    "# In this case you have 3 options: global, column-wise, or row-wise minima\n",
    "minval1 = np.min(M)\n",
    "minval2 = np.min(M,axis=0)\n",
    "minval3 = np.min(M,axis=1)\n",
    "\n",
    "print(f'Global min: {minval1}')\n",
    "print(f'Column-wise min: {minval2.tolist()}')\n",
    "print(f'Row-wise min: {minval3.tolist()}'), print( )\n",
    "\n",
    "# Same for maxima\n",
    "maxval1 = np.max(M)\n",
    "maxval2 = np.max(M,axis=0)\n",
    "maxval3 = np.max(M,axis=1)\n",
    "\n",
    "print(f'Global max: {maxval1}')\n",
    "print(f'Column-wise max: {maxval2.tolist()}')\n",
    "print(f'Row-wise max: {maxval3.tolist()}'), print( )\n",
    "\n",
    "# And same for argmin/argmax\n",
    "minidx1 = np.argmin(M)\n",
    "minidx2 = np.argmin(M,axis=0)\n",
    "minidx3 = np.argmin(M,axis=1)\n",
    "\n",
    "print(f'Global min index: {minidx1}')\n",
    "print(f'Column-wise min indices: {minidx2.tolist()}')\n",
    "print(f'Row-wise min indices: {minidx3.tolist()}'), print( )\n",
    "\n",
    "maxidx1 = np.argmax(M)\n",
    "maxidx2 = np.argmax(M,axis=0)\n",
    "maxidx3 = np.argmax(M,axis=1)\n",
    "\n",
    "print(f'Global max index: {maxidx1}')\n",
    "print(f'Column-wise max indices: {maxidx2.tolist()}')\n",
    "print(f'Row-wise max indices: {maxidx3.tolist()}')\n"
   ]
  },
  {
   "cell_type": "code",
   "execution_count": null,
   "metadata": {
    "colab": {
     "base_uri": "https://localhost:8080/"
    },
    "executionInfo": {
     "elapsed": 162,
     "status": "ok",
     "timestamp": 1740238334620,
     "user": {
      "displayName": "Edoardo Gornetti",
      "userId": "05048424707797899325"
     },
     "user_tz": -60
    },
    "id": "gUnucltIMyan",
    "outputId": "5de2a24d-a3c4-4ca2-b073-dcffef4e14ed"
   },
   "outputs": [],
   "source": [
    "# %% Min/max and argmin/argmax in PyTorch - Vectors\n",
    "\n",
    "v = torch.tensor([ 1,40,2,-4,-3 ])\n",
    "\n",
    "minval = torch.min(v)\n",
    "maxval = torch.max(v)\n",
    "\n",
    "print('Min/max values in v: %g,%g' %(minval,maxval))\n",
    "\n",
    "minidx = torch.argmin(v)\n",
    "maxidx = torch.argmax(v)\n",
    "\n",
    "print('Min/max indices in v: %g,%g' %(minidx,maxidx))\n",
    "\n",
    "# Confirm\n",
    "print(f'Min val is {v[minidx]} \\nMax val is {v[maxidx]}')\n"
   ]
  },
  {
   "cell_type": "code",
   "execution_count": null,
   "metadata": {
    "colab": {
     "base_uri": "https://localhost:8080/"
    },
    "executionInfo": {
     "elapsed": 3692,
     "status": "ok",
     "timestamp": 1740239505310,
     "user": {
      "displayName": "Edoardo Gornetti",
      "userId": "05048424707797899325"
     },
     "user_tz": -60
    },
    "id": "QA2MJjvASjmt",
    "outputId": "81cebee1-6f73-4112-8b0d-ac2c44f78e11"
   },
   "outputs": [],
   "source": [
    "# %% Min/max and argmin/argmax in PyTorch - Matrices\n",
    "\n",
    "M = torch.tensor([ [0,10,1],\n",
    "                   [6,9,20] ])\n",
    "\n",
    "# Again, you have 3 options: global, column-wise, or row-wise minima, notice how\n",
    "# for more that 1 values, torch.min() already return both values and indices\n",
    "min1 = torch.min(M)\n",
    "min2 = torch.min(M,axis=0)\n",
    "min3 = torch.min(M,axis=1)\n",
    "\n",
    "print(f'Global min: {min1}')\n",
    "print(f'Column-wise min: {min2.values}')\n",
    "print(f'Row-wise min: {min3.values}'), print( )\n",
    "\n",
    "# Same for maxima\n",
    "max1 = torch.max(M)\n",
    "max2 = torch.max(M,axis=0)\n",
    "max3 = torch.max(M,axis=1)\n",
    "\n",
    "print(f'Global max: {max1}')\n",
    "print(f'Column-wise max: {max2.values}')\n",
    "print(f'Row-wise max: {max3.values}'), print( )\n",
    "\n",
    "# Report indices (quite convoluted for the global indices)\n",
    "minidx1 = torch.argmin(M)\n",
    "maxidx1 = torch.argmax(M)\n",
    "\n",
    "print(f'Global min index: {torch.unravel_index(minidx1,M.shape)}')\n",
    "print(f'Column-wise min indices: {min2.indices}')\n",
    "print(f'Row-wise min indices: {min3.indices}'), print( )\n",
    "\n",
    "print(f'Global max index: {torch.unravel_index(maxidx1,M.shape)}')\n",
    "print(f'Column-wise max indices: {max2.indices}')\n",
    "print(f'Row-wise max indices: {max3.indices}')\n"
   ]
  }
 ],
 "metadata": {
  "colab": {
   "authorship_tag": "ABX9TyMj9aWwCEn1I6DteHI94cv9",
   "provenance": []
  },
  "kernelspec": {
   "display_name": "Python 3",
   "name": "python3"
  },
  "language_info": {
   "name": "python"
  }
 },
 "nbformat": 4,
 "nbformat_minor": 0
}
