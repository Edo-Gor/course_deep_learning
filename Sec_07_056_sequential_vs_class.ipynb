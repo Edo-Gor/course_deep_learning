{
 "cells": [
  {
   "cell_type": "code",
   "execution_count": null,
   "metadata": {
    "id": "YYGpCdM7tjUj"
   },
   "outputs": [],
   "source": [
    "# %% Deep learning - Section 7.56\n",
    "#    Defining models using sequential vs. class\n",
    "\n",
    "# This code pertains a deep learning course provided by Mike X. Cohen on Udemy:\n",
    "#   > https://www.udemy.com/course/deeplearning_x\n",
    "# The \"base\" code in this repository is adapted (with very minor modifications)\n",
    "# from code developed by the course instructor (Mike X. Cohen), while the\n",
    "# \"exercises\" and the \"code challenges\" contain more original solutions and\n",
    "# creative input from my side. If you are interested in DL (and if you are\n",
    "# reading this statement, chances are that you are), go check out the course, it\n",
    "# is singularly good.\n"
   ]
  },
  {
   "cell_type": "code",
   "execution_count": null,
   "metadata": {
    "id": "fg7r3sIkt1Kr"
   },
   "outputs": [],
   "source": [
    "# %% Libraries and modules\n",
    "import numpy               as np\n",
    "import matplotlib.pyplot   as plt\n",
    "import torch\n",
    "import torch.nn            as nn\n",
    "import seaborn             as sns\n",
    "import copy\n",
    "import torch.nn.functional as F\n",
    "\n",
    "from google.colab                     import files\n",
    "from torchsummary                     import summary\n",
    "from matplotlib_inline.backend_inline import set_matplotlib_formats\n",
    "set_matplotlib_formats('svg')\n"
   ]
  },
  {
   "cell_type": "code",
   "execution_count": null,
   "metadata": {
    "id": "soD-VyOmt38K"
   },
   "outputs": [],
   "source": [
    "# %% Data\n",
    "\n",
    "nClust = 100\n",
    "blur   = 1\n",
    "\n",
    "A = [1,1]\n",
    "B = [5,1]\n",
    "\n",
    "a = [ A[0]+np.random.randn(nClust)*blur, A[1]+np.random.randn(nClust)*blur ]\n",
    "b = [ B[0]+np.random.randn(nClust)*blur, B[1]+np.random.randn(nClust)*blur ]\n",
    "\n",
    "# True labels\n",
    "labels_np = np.vstack(( np.zeros((nClust,1)), np.ones((nClust,1)) ))\n",
    "\n",
    "# Concatenate\n",
    "data_np = np.hstack((a,b)).T\n",
    "\n",
    "# Convert into torch tensor\n",
    "data   = torch.tensor(data_np).float()\n",
    "labels = torch.tensor(labels_np).float()\n"
   ]
  },
  {
   "cell_type": "code",
   "execution_count": null,
   "metadata": {
    "colab": {
     "base_uri": "https://localhost:8080/",
     "height": 619
    },
    "executionInfo": {
     "elapsed": 555,
     "status": "ok",
     "timestamp": 1743199746107,
     "user": {
      "displayName": "Edoardo Gornetti",
      "userId": "05048424707797899325"
     },
     "user_tz": -60
    },
    "id": "qhhJIIL3zODj",
    "outputId": "b50659d4-a933-4cb8-906d-9d7f31a7440b"
   },
   "outputs": [],
   "source": [
    "# Plotting\n",
    "\n",
    "fig = plt.figure(figsize=(7,7))\n",
    "\n",
    "plt.plot( data[np.where(labels==0)[0],0],data[np.where(labels==0)[0],1],'bs' )\n",
    "plt.plot( data[np.where(labels==1)[0],0],data[np.where(labels==1)[0],1],'ro' )\n",
    "plt.title('Some binary data')\n",
    "plt.xlabel('x1')\n",
    "plt.ylabel('x2')\n",
    "\n",
    "plt.savefig('figure78_sequential_vs_class.png')\n",
    "\n",
    "plt.show()\n",
    "\n",
    "files.download('figure78_sequential_vs_class.png')\n"
   ]
  },
  {
   "cell_type": "code",
   "execution_count": null,
   "metadata": {
    "id": "PaCzieKGzXkt"
   },
   "outputs": [],
   "source": [
    "# Build model using nn.Sequential\n",
    "\n",
    "ANNclassify = nn.Sequential(\n",
    "                 nn.Linear(2,1),\n",
    "                 nn.ReLU(),\n",
    "                 nn.Linear(1,1),\n",
    "                 #nn.Sigmoid()\n",
    "                 )\n"
   ]
  },
  {
   "cell_type": "code",
   "execution_count": null,
   "metadata": {
    "id": "5CPsWZAn0B1Z"
   },
   "outputs": [],
   "source": [
    "# Build model using a class\n",
    "\n",
    "class Class4ANN(nn.Module):\n",
    "    def __init__(self):\n",
    "        super().__init__()\n",
    "\n",
    "        # Input layer\n",
    "        self.input = nn.Linear(2,1)\n",
    "\n",
    "        # Output layer\n",
    "        self.output = nn.Linear(1,1)\n",
    "\n",
    "    # Forward propagation\n",
    "    def forward(self,x):\n",
    "\n",
    "        # Pass through input layer\n",
    "        x = self.input(x)\n",
    "\n",
    "        # Apply ReLU\n",
    "        x = F.relu(x)\n",
    "\n",
    "        # Output layer\n",
    "        x = self.output(x)\n",
    "        x = torch.sigmoid(x)\n",
    "\n",
    "        return x\n",
    "\n",
    "# Create an instance of the class\n",
    "ANNclassify = Class4ANN()\n"
   ]
  },
  {
   "cell_type": "code",
   "execution_count": null,
   "metadata": {
    "id": "nSVPZEX01E1-"
   },
   "outputs": [],
   "source": [
    "# Other model features (learning rate, loss function and optimizer)\n",
    "\n",
    "learn_rate = 0.01\n",
    "loss_fun   = nn.BCELoss()\n",
    "optimizer  = torch.optim.SGD(ANNclassify.parameters(),lr=learn_rate)\n"
   ]
  },
  {
   "cell_type": "code",
   "execution_count": null,
   "metadata": {
    "id": "ziY-KkOf19WV"
   },
   "outputs": [],
   "source": [
    "# Train model\n",
    "\n",
    "num_epochs = 1000\n",
    "losses     = torch.zeros(num_epochs)\n",
    "\n",
    "for epoch_i in range(num_epochs):\n",
    "\n",
    "    # Forward propagation\n",
    "    yHat = ANNclassify(data)\n",
    "\n",
    "    # Compute loss\n",
    "    loss = loss_fun(yHat,labels)\n",
    "    losses[epoch_i] = loss\n",
    "\n",
    "    # Backpropagation\n",
    "    optimizer.zero_grad()\n",
    "    loss.backward()\n",
    "    optimizer.step()\n"
   ]
  },
  {
   "cell_type": "code",
   "execution_count": null,
   "metadata": {
    "colab": {
     "base_uri": "https://localhost:8080/",
     "height": 456
    },
    "executionInfo": {
     "elapsed": 326,
     "status": "ok",
     "timestamp": 1743200702693,
     "user": {
      "displayName": "Edoardo Gornetti",
      "userId": "05048424707797899325"
     },
     "user_tz": -60
    },
    "id": "5dwQN_SW2d-e",
    "outputId": "d023f654-af25-41cb-dba7-f52dc151c3e3"
   },
   "outputs": [],
   "source": [
    "# Plotting\n",
    "\n",
    "plt.plot(losses.detach(),'o',markerfacecolor='w',linewidth=.1)\n",
    "plt.xlabel('Epoch')\n",
    "plt.ylabel('Loss')\n",
    "plt.title('Losses over epoch')\n",
    "\n",
    "plt.savefig('figure79_sequential_vs_class.png')\n",
    "\n",
    "plt.show()\n",
    "\n",
    "files.download('figure79_sequential_vs_class.png')\n"
   ]
  },
  {
   "cell_type": "code",
   "execution_count": null,
   "metadata": {
    "colab": {
     "base_uri": "https://localhost:8080/"
    },
    "executionInfo": {
     "elapsed": 47,
     "status": "ok",
     "timestamp": 1743201006542,
     "user": {
      "displayName": "Edoardo Gornetti",
      "userId": "05048424707797899325"
     },
     "user_tz": -60
    },
    "id": "v_yVmwY5250L",
    "outputId": "089ba944-d6b9-41b5-f9c3-2fa55143db43"
   },
   "outputs": [],
   "source": [
    "# Compute predictions\n",
    "\n",
    "# Final forward pass\n",
    "predictions = ANNclassify(data)\n",
    "pred_labels = predictions > 0.5\n",
    "\n",
    "# Find errors\n",
    "misclassified = np.where(pred_labels != labels)[0]\n",
    "\n",
    "# Accuracy\n",
    "tot_acc = 100-100*len(misclassified)/(2*nClust)\n",
    "print(f'Total accuracy: {tot_acc}%')\n"
   ]
  },
  {
   "cell_type": "code",
   "execution_count": null,
   "metadata": {
    "colab": {
     "base_uri": "https://localhost:8080/",
     "height": 619
    },
    "executionInfo": {
     "elapsed": 299,
     "status": "ok",
     "timestamp": 1743201342513,
     "user": {
      "displayName": "Edoardo Gornetti",
      "userId": "05048424707797899325"
     },
     "user_tz": -60
    },
    "id": "zOnzhk-b3wOx",
    "outputId": "2bc3269d-bc95-489e-a59d-a6e13aa8b3be"
   },
   "outputs": [],
   "source": [
    "# Plotting\n",
    "\n",
    "# Show labeled data\n",
    "fig = plt.figure(figsize=(7,7))\n",
    "\n",
    "plt.plot( data[misclassified,0],data[misclassified,1],'rx',markersize=12,markeredgewidth=3 )\n",
    "plt.plot( data[np.where(~pred_labels)[0],0],data[np.where(~pred_labels)[0],1],'s' )\n",
    "plt.plot( data[np.where(pred_labels)[0],0], data[np.where(pred_labels)[0],1],'o'  )\n",
    "\n",
    "plt.legend(['Misclassified','Group 1','Group 2'])\n",
    "plt.xlabel('x1')\n",
    "plt.ylabel('x2')\n",
    "plt.title(f'Overall accuracy: {tot_acc}%')\n",
    "\n",
    "plt.savefig('figure80_sequential_vs_class.png')\n",
    "\n",
    "plt.show()\n",
    "\n",
    "files.download('figure80_sequential_vs_class.png')\n"
   ]
  }
 ],
 "metadata": {
  "colab": {
   "authorship_tag": "ABX9TyPqdWEMhU0PFLjIh5qFczJA",
   "provenance": []
  },
  "kernelspec": {
   "display_name": "Python 3",
   "name": "python3"
  },
  "language_info": {
   "name": "python"
  }
 },
 "nbformat": 4,
 "nbformat_minor": 0
}
