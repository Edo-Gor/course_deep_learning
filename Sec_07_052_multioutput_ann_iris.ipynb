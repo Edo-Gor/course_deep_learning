{
 "cells": [
  {
   "cell_type": "code",
   "execution_count": null,
   "metadata": {
    "id": "vPQjymGFZhk9"
   },
   "outputs": [],
   "source": [
    "# %% Deep learning - Section 7.52\n",
    "#    Multi-output ANN (iris dataset)\n",
    "\n",
    "# This code pertains a deep learning course provided by Mike X. Cohen on Udemy:\n",
    "#   > https://www.udemy.com/course/deeplearning_x\n",
    "# The \"base\" code in this repository is adapted (with very minor modifications)\n",
    "# from code developed by the course instructor (Mike X. Cohen), while the\n",
    "# \"exercises\" and the \"code challenges\" contain more original solutions and\n",
    "# creative input from my side. If you are interested in DL (and if you are\n",
    "# reading this statement, chances are that you are), go check out the course, it\n",
    "# is singularly good.\n"
   ]
  },
  {
   "cell_type": "code",
   "execution_count": null,
   "metadata": {
    "id": "Lw1khBH7ZvL-"
   },
   "outputs": [],
   "source": [
    "# %% Libraries and modules\n",
    "import numpy             as np\n",
    "import matplotlib.pyplot as plt\n",
    "import torch\n",
    "import torch.nn          as nn\n",
    "import seaborn           as sns\n",
    "import copy\n",
    "\n",
    "from google.colab                     import files\n",
    "from matplotlib_inline.backend_inline import set_matplotlib_formats\n",
    "set_matplotlib_formats('svg')\n"
   ]
  },
  {
   "cell_type": "code",
   "execution_count": null,
   "metadata": {
    "colab": {
     "base_uri": "https://localhost:8080/",
     "height": 206
    },
    "executionInfo": {
     "elapsed": 380,
     "status": "ok",
     "timestamp": 1742413529181,
     "user": {
      "displayName": "Edoardo Gornetti",
      "userId": "05048424707797899325"
     },
     "user_tz": -60
    },
    "id": "50XzcgUrZybJ",
    "outputId": "987ae9be-3a29-43da-9f94-2533fb8ae645"
   },
   "outputs": [],
   "source": [
    "# %% Import Iris dataset (it comes with seaborn)\n",
    "\n",
    "iris = sns.load_dataset('iris')\n",
    "iris.head()\n"
   ]
  },
  {
   "cell_type": "code",
   "execution_count": null,
   "metadata": {
    "colab": {
     "base_uri": "https://localhost:8080/",
     "height": 967
    },
    "executionInfo": {
     "elapsed": 4408,
     "status": "ok",
     "timestamp": 1742413535646,
     "user": {
      "displayName": "Edoardo Gornetti",
      "userId": "05048424707797899325"
     },
     "user_tz": -60
    },
    "id": "87ICSxv5g65z",
    "outputId": "48a827b9-ee2c-412f-9b7b-d55d1dccb19b"
   },
   "outputs": [],
   "source": [
    "# %% Plotting\n",
    "\n",
    "sns.pairplot(iris,hue='species')\n",
    "\n",
    "plt.savefig('figure56_multioutput_ann_iris.png')\n",
    "\n",
    "plt.show()\n",
    "\n",
    "files.download('figure56_multioutput_ann_iris.png')\n"
   ]
  },
  {
   "cell_type": "code",
   "execution_count": null,
   "metadata": {
    "colab": {
     "base_uri": "https://localhost:8080/"
    },
    "executionInfo": {
     "elapsed": 128,
     "status": "ok",
     "timestamp": 1742413537043,
     "user": {
      "displayName": "Edoardo Gornetti",
      "userId": "05048424707797899325"
     },
     "user_tz": -60
    },
    "id": "WakWbcwHhejY",
    "outputId": "dd36fd6a-e72d-4aa8-8362-1f06b0cdf0c7"
   },
   "outputs": [],
   "source": [
    "# %% Organise data\n",
    "\n",
    "# Convert from pandas dataframe to tensor\n",
    "data = torch.tensor( iris[iris.columns[0:4]].values ).float()\n",
    "\n",
    "# Convert labels to dummy variables\n",
    "labels = torch.zeros( len(data),dtype=torch.long )\n",
    "\n",
    "labels[iris.species=='setosa']     = 0  # technically no need\n",
    "labels[iris.species=='versicolor'] = 1\n",
    "labels[iris.species=='virginica']  = 2\n",
    "\n",
    "labels\n"
   ]
  },
  {
   "cell_type": "code",
   "execution_count": null,
   "metadata": {
    "id": "w3KsC0CLisGk"
   },
   "outputs": [],
   "source": [
    "# %% Build the model\n",
    "\n",
    "# Architecture\n",
    "ANNiris = nn.Sequential(\n",
    "             nn.Linear(4,64),   # input layer\n",
    "             nn.ReLU(),         # a.f.\n",
    "             nn.Linear(64,64),  # hidden layer\n",
    "             nn.ReLU(),         # a.f.\n",
    "             nn.Linear(64,3)    # output layer\n",
    "             )\n",
    "\n",
    "# Loss function (includes [Log]Softmax)\n",
    "loss_fun = nn.CrossEntropyLoss()\n",
    "\n",
    "# Optimizer\n",
    "optimizer = torch.optim.SGD(ANNiris.parameters(),lr=0.01)\n"
   ]
  },
  {
   "cell_type": "code",
   "execution_count": null,
   "metadata": {
    "colab": {
     "base_uri": "https://localhost:8080/"
    },
    "executionInfo": {
     "elapsed": 1067,
     "status": "ok",
     "timestamp": 1742242709275,
     "user": {
      "displayName": "Edoardo Gornetti",
      "userId": "05048424707797899325"
     },
     "user_tz": -60
    },
    "id": "9uXE49HyjlYF",
    "outputId": "c81bb95c-ed36-4bde-fcff-c5b14098c1f2"
   },
   "outputs": [],
   "source": [
    "# %% Train the model\n",
    "\n",
    "num_epochs  = 1000\n",
    "losses      = torch.zeros(num_epochs)\n",
    "ongoing_acc = []\n",
    "\n",
    "for epoch_i in range(num_epochs):\n",
    "\n",
    "    # Forward propagation\n",
    "    yHat = ANNiris(data)\n",
    "\n",
    "    # Loss\n",
    "    loss = loss_fun(yHat,labels)\n",
    "    losses[epoch_i] = loss\n",
    "\n",
    "    # Backpropagation\n",
    "    optimizer.zero_grad()\n",
    "    loss.backward()\n",
    "    optimizer.step()\n",
    "\n",
    "    # Accuracy over iteration (argmax takes the index with the highest val in yHat rows)\n",
    "    matches     = torch.argmax(yHat,axis=1) == labels  # booleans\n",
    "    matches_num = matches.float()                      # booleans2numeric\n",
    "    acc_perc    = 100*torch.mean(matches_num)          # percent\n",
    "    ongoing_acc.append(acc_perc)                       # append to list\n",
    "\n",
    "# Final forward pass\n",
    "predictions = ANNiris(data)\n",
    "\n",
    "pred_labels = torch.argmax(predictions,axis=1)\n",
    "tot_acc     = 100*torch.mean((pred_labels == labels).float())\n",
    "\n",
    "print(f'Final accuracy = {tot_acc.item():.4f}%')\n"
   ]
  },
  {
   "cell_type": "code",
   "execution_count": null,
   "metadata": {
    "colab": {
     "base_uri": "https://localhost:8080/",
     "height": 397
    },
    "executionInfo": {
     "elapsed": 874,
     "status": "ok",
     "timestamp": 1742243389604,
     "user": {
      "displayName": "Edoardo Gornetti",
      "userId": "05048424707797899325"
     },
     "user_tz": -60
    },
    "id": "F4TxbR4cmLrd",
    "outputId": "1cfe6c88-14ad-4074-f5f8-a0bcde2cb1bd"
   },
   "outputs": [],
   "source": [
    "# %% Plotting\n",
    "\n",
    "fig,ax = plt.subplots(1,2,figsize=(12,4))\n",
    "\n",
    "ax[0].plot(losses.detach())\n",
    "ax[0].set_ylabel('Loss')\n",
    "ax[0].set_xlabel('Epoch')\n",
    "ax[0].set_title('Losses over epochs')\n",
    "\n",
    "ax[1].plot(ongoing_acc)\n",
    "ax[1].set_ylabel('Accuracy')\n",
    "ax[1].set_xlabel('Epoch')\n",
    "ax[1].set_title('Accuracy over epochs')\n",
    "\n",
    "plt.savefig('figure57_multioutput_ann_iris.png')\n",
    "\n",
    "plt.show()\n",
    "\n",
    "files.download('figure57_multioutput_ann_iris.png')\n"
   ]
  },
  {
   "cell_type": "code",
   "execution_count": null,
   "metadata": {
    "id": "-Gl9_8VQoYeJ"
   },
   "outputs": [],
   "source": [
    "# %% Confirm that predictions sum to 1 after softmax\n",
    "\n",
    "sm = nn.Softmax(1)\n",
    "\n",
    "print(torch.sum(yHat,axis=1))\n",
    "print( )\n",
    "print(torch.sum(sm(yHat),axis=1))\n"
   ]
  },
  {
   "cell_type": "code",
   "execution_count": null,
   "metadata": {
    "colab": {
     "base_uri": "https://localhost:8080/",
     "height": 397
    },
    "executionInfo": {
     "elapsed": 1009,
     "status": "ok",
     "timestamp": 1742244994460,
     "user": {
      "displayName": "Edoardo Gornetti",
      "userId": "05048424707797899325"
     },
     "user_tz": -60
    },
    "id": "C47PVSqeo4qv",
    "outputId": "d4c49380-0a00-4630-bed7-cf555799200c"
   },
   "outputs": [],
   "source": [
    "# %% Plotting\n",
    "\n",
    "fig = plt.figure(figsize=(10,4))\n",
    "\n",
    "plt.plot(sm(yHat.detach()),'s-',markerfacecolor='w')\n",
    "plt.xlabel('Stimulus number')\n",
    "plt.ylabel('Probability')\n",
    "plt.legend(['Setosa','Versicolor','Virginica'])\n",
    "plt.title('Classification probabilities')\n",
    "\n",
    "plt.savefig('figure59_multioutput_ann_iris.png')\n",
    "\n",
    "plt.show()\n",
    "\n",
    "files.download('figure59_multioutput_ann_iris.png')\n"
   ]
  },
  {
   "cell_type": "code",
   "execution_count": null,
   "metadata": {
    "colab": {
     "base_uri": "https://localhost:8080/",
     "height": 397
    },
    "executionInfo": {
     "elapsed": 1018,
     "status": "ok",
     "timestamp": 1742241166548,
     "user": {
      "displayName": "Edoardo Gornetti",
      "userId": "05048424707797899325"
     },
     "user_tz": -60
    },
    "id": "S26ZCwBqqZwL",
    "outputId": "3546c3d8-a2cc-4d57-960c-7aeef25a6ef5"
   },
   "outputs": [],
   "source": [
    "# %% Plotting\n",
    "\n",
    "fig = plt.figure(figsize=(10,4))\n",
    "\n",
    "plt.plot(yHat.detach(),'s-',markerfacecolor='w')\n",
    "plt.xlabel('Stimulus number')\n",
    "plt.ylabel('Probability')\n",
    "plt.legend(['Setosa','Versicolor','Virginica'])\n",
    "plt.title('Classification raw output')\n",
    "\n",
    "plt.savefig('figure60_multioutput_ann_iris.png')\n",
    "\n",
    "plt.show()\n",
    "\n",
    "files.download('figure60_multioutput_ann_iris.png')\n"
   ]
  },
  {
   "cell_type": "code",
   "execution_count": null,
   "metadata": {
    "id": "RksXxaj7px7o"
   },
   "outputs": [],
   "source": [
    "# %% Exercise 1\n",
    "#    When the loss does not reach an asymptote, it's a good idea to train the model for more epochs. Increase the number of\n",
    "#    epochs until the plot of the losses seems to hit a \"floor\" (that's a statistical term for being as small as possible).\n",
    "\n",
    "# Hard to say exactly when the losses hit the floor, but even with 2500 epochs, the\n",
    "# model does not seem to really improve the accuracy\n"
   ]
  },
  {
   "cell_type": "code",
   "execution_count": null,
   "metadata": {
    "id": "0UrLQEESqDr7"
   },
   "outputs": [],
   "source": [
    "# %% Exercise 2\n",
    "#    We used a model with 64 hidden units. Modify the code to have 16 hidden units. How does this model perform? If there\n",
    "#    is a decrease in accuracy, is that decrease distributed across all three iris types, or does the model learn some\n",
    "#    iris types and not others?\n",
    "\n",
    "# Epochs reset to 1000. The model seems to perform equally good with 16 hidden\n",
    "# nodes or with 64 hidden nodes, at least from a visual inspection of accuracy\n",
    "# and plots; the iris setosa is well classified while the other two species are\n",
    "# a bit more difficult to disentangle. If anything, maybe it takes a bit more\n",
    "# epochs to reach a near-ceil accuracy\n",
    "\n",
    "# Architecture\n",
    "ANNiris = nn.Sequential(\n",
    "             nn.Linear(4,16),   # input layer\n",
    "             nn.ReLU(),         # a.f.\n",
    "             nn.Linear(16,16),  # hidden layer\n",
    "             nn.ReLU(),         # a.f.\n",
    "             nn.Linear(16,3)    # output layer\n",
    "             )\n",
    "\n",
    "# Loss function (includes [Log]Softmax)\n",
    "loss_fun = nn.CrossEntropyLoss()\n",
    "\n",
    "# Optimizer\n",
    "optimizer = torch.optim.SGD(ANNiris.parameters(),lr=0.01)\n"
   ]
  },
  {
   "cell_type": "code",
   "execution_count": null,
   "metadata": {
    "colab": {
     "base_uri": "https://localhost:8080/"
    },
    "executionInfo": {
     "elapsed": 1129,
     "status": "ok",
     "timestamp": 1742244982972,
     "user": {
      "displayName": "Edoardo Gornetti",
      "userId": "05048424707797899325"
     },
     "user_tz": -60
    },
    "id": "ro63fBTAqE-B",
    "outputId": "cbed06a3-ca93-41c1-e449-d68f1189b5e6"
   },
   "outputs": [],
   "source": [
    "# %% Exercise 3\n",
    "#    Write code to compute three accuracy scores, one for each iris type. In real DL projects, category-specific accuracies\n",
    "#    are often more informative than the aggregated accuracy.\n",
    "\n",
    "# Model reset to 64 hidden nodes and 1000 epochs. In the end compute accuracy\n",
    "# specifically for each category to show whether there is variability; as clued\n",
    "# by the plots, the iris versicolor is not always perfectly categorised as the\n",
    "# labels provided in the dataset\n",
    "\n",
    "# Train the model\n",
    "num_epochs  = 1000\n",
    "losses      = torch.zeros(num_epochs)\n",
    "ongoing_acc = []\n",
    "\n",
    "for epoch_i in range(num_epochs):\n",
    "\n",
    "    # Forward propagation\n",
    "    yHat = ANNiris(data)\n",
    "\n",
    "    # Loss\n",
    "    loss = loss_fun(yHat,labels)\n",
    "    losses[epoch_i] = loss\n",
    "\n",
    "    # Backpropagation\n",
    "    optimizer.zero_grad()\n",
    "    loss.backward()\n",
    "    optimizer.step()\n",
    "\n",
    "    # Accuracy over iteration (argmax takes the index with the highest val in yHat rows)\n",
    "    matches     = torch.argmax(yHat,axis=1) == labels  # booleans\n",
    "    matches_num = matches.float()                      # booleans2numeric\n",
    "    acc_perc    = 100*torch.mean(matches_num)          # percent\n",
    "    ongoing_acc.append(acc_perc)                       # append to list\n",
    "\n",
    "# Final forward pass\n",
    "predictions = ANNiris(data)\n",
    "\n",
    "# Overall accuracy\n",
    "pred_labels = torch.argmax(predictions,axis=1)\n",
    "tot_acc     = 100 * torch.mean((pred_labels == labels).float())\n",
    "\n",
    "# Class accuracy (labels = [0,1,2], use boolean mask for category)\n",
    "class_acc = torch.zeros(3)\n",
    "for c in range(3):\n",
    "\n",
    "    class_mask    = ( labels == c )\n",
    "    correct_preds = ( pred_labels[class_mask] == labels[class_mask] ).float()\n",
    "\n",
    "    if correct_preds.numel() > 0:\n",
    "        class_acc[c]  = 100 * torch.mean(correct_preds)\n",
    "    else:\n",
    "        torch.tensor(0)\n",
    "\n",
    "print(f'Final overall accuracy = {tot_acc:.2f}%')\n",
    "print(f'Final accuracy for iris setosa = {class_acc[0].item():.2f}%')\n",
    "print(f'Final accuracy for iris versicolor = {class_acc[1].item():.2f}%')\n",
    "print(f'Final accuracy for iris virginica = {class_acc[2].item():.2f}%')\n"
   ]
  },
  {
   "cell_type": "code",
   "execution_count": null,
   "metadata": {
    "colab": {
     "base_uri": "https://localhost:8080/",
     "height": 397
    },
    "executionInfo": {
     "elapsed": 423,
     "status": "ok",
     "timestamp": 1742245066258,
     "user": {
      "displayName": "Edoardo Gornetti",
      "userId": "05048424707797899325"
     },
     "user_tz": -60
    },
    "id": "VE2n-CHqya66",
    "outputId": "21d1651a-d414-4e00-cb74-72296f1faab5"
   },
   "outputs": [],
   "source": [
    "# %% Plotting\n",
    "\n",
    "plt.figure(figsize=(6,4))\n",
    "\n",
    "plt.bar(['Setosa','Versicolor','Virginica'],class_acc,color=['blue','green','red'])\n",
    "plt.xlabel('Class')\n",
    "plt.ylabel('Accuracy (%)')\n",
    "plt.title('Classification accuracy per category')\n",
    "plt.ylim(75,105)\n",
    "\n",
    "plt.savefig('figure66_multioutput_ann_iris_extra3.png')\n",
    "\n",
    "plt.show()\n",
    "\n",
    "files.download('figure66_multioutput_ann_iris_extra3.png')\n"
   ]
  }
 ],
 "metadata": {
  "colab": {
   "authorship_tag": "ABX9TyMeBCajV9eZkv7OjFhyAcot",
   "provenance": []
  },
  "kernelspec": {
   "display_name": "Python 3",
   "name": "python3"
  },
  "language_info": {
   "name": "python"
  }
 },
 "nbformat": 4,
 "nbformat_minor": 0
}
