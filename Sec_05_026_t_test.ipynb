{
 "cells": [
  {
   "cell_type": "code",
   "execution_count": null,
   "metadata": {
    "id": "UMtAee3ZGdXa"
   },
   "outputs": [],
   "source": [
    "# %% Deep learning - Section 5.26\n",
    "#    The t-test\n",
    "\n",
    "# This code pertains a deep learning course provided by Mike X. Cohen on Udemy:\n",
    "#   > https://www.udemy.com/course/deeplearning_x\n",
    "# The \"base\" code in this repository is adapted (with very minor modifications)\n",
    "# from code developed by the course instructor (Mike X. Cohen), while the \n",
    "# \"exercises\" and the \"code challenges\" contain more original solutions and \n",
    "# creative input from my side. If you are interested in DL (and if you are \n",
    "# reading this statement, chances are that you are), go check out the course, it\n",
    "# is singularly good.\n"
   ]
  },
  {
   "cell_type": "code",
   "execution_count": null,
   "metadata": {
    "id": "ChJaoJX1G23U"
   },
   "outputs": [],
   "source": [
    "# %% Libraries and modules\n",
    "import numpy             as np\n",
    "import matplotlib.pyplot as plt\n",
    "import scipy.stats       as stats\n",
    "import copy\n",
    "\n",
    "from google.colab                     import files\n",
    "from matplotlib_inline.backend_inline import set_matplotlib_formats\n",
    "set_matplotlib_formats('svg')\n"
   ]
  },
  {
   "cell_type": "code",
   "execution_count": null,
   "metadata": {
    "id": "GT1TBky6G8Jr"
   },
   "outputs": [],
   "source": [
    "# %% Data\n",
    "\n",
    "# Sample sizes and population means\n",
    "n1  = 30\n",
    "n2  = 40\n",
    "mu1 = 1\n",
    "mu2 = 2\n",
    "\n",
    "# Generate data\n",
    "data1 = mu1 + np.random.randn(n1)\n",
    "data2 = mu2 + np.random.randn(n2)\n"
   ]
  },
  {
   "cell_type": "code",
   "execution_count": null,
   "metadata": {
    "colab": {
     "base_uri": "https://localhost:8080/",
     "height": 418
    },
    "executionInfo": {
     "elapsed": 318,
     "status": "ok",
     "timestamp": 1740344327530,
     "user": {
      "displayName": "Edoardo Gornetti",
      "userId": "05048424707797899325"
     },
     "user_tz": -60
    },
    "id": "Eb4lPUMalnPO",
    "outputId": "236d4699-ed84-431d-abf2-8dec5a9a4021"
   },
   "outputs": [],
   "source": [
    "# %% Plotting\n",
    "\n",
    "plt.plot(np.zeros(n1),data1,'rs',markerfacecolor='w',markersize=14)\n",
    "plt.plot(np.ones(n2), data2,'bs',markerfacecolor='w',markersize=14)\n",
    "plt.xlim([-1,2])\n",
    "plt.xticks([0,1],labels=['Group 1','Group 2'])\n",
    "\n",
    "plt.savefig('figure7_t_test.png')\n",
    "\n",
    "plt.show()\n",
    "\n",
    "files.download('figure7_t_test.png')\n"
   ]
  },
  {
   "cell_type": "code",
   "execution_count": null,
   "metadata": {
    "colab": {
     "base_uri": "https://localhost:8080/"
    },
    "executionInfo": {
     "elapsed": 13,
     "status": "ok",
     "timestamp": 1740344423178,
     "user": {
      "displayName": "Edoardo Gornetti",
      "userId": "05048424707797899325"
     },
     "user_tz": -60
    },
    "id": "l1irxeHAmzDz",
    "outputId": "1ee59fc7-0d14-4fc2-d4dd-db4d60d1e929"
   },
   "outputs": [],
   "source": [
    "# The t-test\n",
    "\n",
    "# Assuming the two distributions above are independent samples\n",
    "t,p  = stats.ttest_ind(data1,data2)\n",
    "\n",
    "print(t)\n",
    "print(p)\n"
   ]
  },
  {
   "cell_type": "code",
   "execution_count": null,
   "metadata": {
    "colab": {
     "base_uri": "https://localhost:8080/",
     "height": 527
    },
    "executionInfo": {
     "elapsed": 1274,
     "status": "ok",
     "timestamp": 1740344981882,
     "user": {
      "displayName": "Edoardo Gornetti",
      "userId": "05048424707797899325"
     },
     "user_tz": -60
    },
    "id": "QpQxxhDpnINL",
    "outputId": "8842f534-bc47-485d-f12a-2bbdc4e9d598"
   },
   "outputs": [],
   "source": [
    "# Plotting\n",
    "\n",
    "fig = plt.figure(figsize=(10,6))\n",
    "\n",
    "plt.plot(0+np.random.randn(n1)/50,data1,'rs',markerfacecolor='w',markersize=14)\n",
    "plt.plot(1+np.random.randn(n2)/50,data2,'bs',markerfacecolor='w',markersize=14)\n",
    "plt.xlim([-1,2])\n",
    "plt.xticks([0,1],labels=['Group 1','Group 2'])\n",
    "plt.title(f't = {t:.2f}, p = {p:.4f}')\n",
    "\n",
    "plt.savefig('figure8_t_test.png')\n",
    "\n",
    "plt.show()\n",
    "\n",
    "files.download('figure8_t_test.png')\n"
   ]
  }
 ],
 "metadata": {
  "colab": {
   "authorship_tag": "ABX9TyMB4eL1x6K0YhqlOqkWLVC5",
   "provenance": []
  },
  "kernelspec": {
   "display_name": "Python 3",
   "name": "python3"
  },
  "language_info": {
   "name": "python"
  }
 },
 "nbformat": 4,
 "nbformat_minor": 0
}
