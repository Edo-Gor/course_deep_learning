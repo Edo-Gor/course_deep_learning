{
 "cells": [
  {
   "cell_type": "code",
   "execution_count": null,
   "metadata": {
    "id": "yveCkLJIDJYR"
   },
   "outputs": [],
   "source": [
    "# %% Deep learning - Section 10.95\n",
    "#    Loss functions in PyTorch\n",
    "\n",
    "# This code pertains a deep learning course provided by Mike X. Cohen on Udemy:\n",
    "#   > https://www.udemy.com/course/deeplearning_x\n",
    "# The \"base\" code in this repository is adapted (with very minor modifications)\n",
    "# from code developed by the course instructor (Mike X. Cohen), while the\n",
    "# \"exercises\" and the \"code challenges\" contain more original solutions and\n",
    "# creative input from my side. If you are interested in DL (and if you are\n",
    "# reading this statement, chances are that you are), go check out the course, it\n",
    "# is singularly good.\n"
   ]
  },
  {
   "cell_type": "code",
   "execution_count": null,
   "metadata": {
    "id": "gD2FwLtjDeQv"
   },
   "outputs": [],
   "source": [
    "# %% Libraries and modules\n",
    "import numpy               as np\n",
    "import matplotlib.pyplot   as plt\n",
    "import torch\n",
    "import torch.nn            as nn\n",
    "import seaborn             as sns\n",
    "import copy\n",
    "import torch.nn.functional as F\n",
    "import pandas              as pd\n",
    "import scipy.stats         as stats\n",
    "import time\n",
    "\n",
    "from torch.utils.data                 import DataLoader,TensorDataset\n",
    "from sklearn.model_selection          import train_test_split\n",
    "from google.colab                     import files\n",
    "from torchsummary                     import summary\n",
    "from IPython                          import display\n",
    "from matplotlib_inline.backend_inline import set_matplotlib_formats\n",
    "set_matplotlib_formats('svg')\n"
   ]
  },
  {
   "cell_type": "code",
   "execution_count": null,
   "metadata": {
    "colab": {
     "base_uri": "https://localhost:8080/",
     "height": 545
    },
    "executionInfo": {
     "elapsed": 338,
     "status": "ok",
     "timestamp": 1748787925524,
     "user": {
      "displayName": "Edoardo Gornetti",
      "userId": "05048424707797899325"
     },
     "user_tz": -120
    },
    "id": "k7MKIxDc1c0L",
    "outputId": "8e5842c1-2df0-4937-c4ec-0846482432f7"
   },
   "outputs": [],
   "source": [
    "# %% Mean-squared error (MSE)\n",
    "\n",
    "# Loss\n",
    "loss_fun = nn.MSELoss()\n",
    "\n",
    "yHat = torch.linspace(-2,2,101)\n",
    "y    = torch.tensor(.5)\n",
    "\n",
    "L = np.zeros(len(yHat))\n",
    "for i,yH in enumerate(yHat):\n",
    "    L[i] = loss_fun(yH,y)\n",
    "\n",
    "\n",
    "# Plotting\n",
    "phi = ( 1 + np.sqrt(5) ) / 2\n",
    "fig = plt.figure(figsize=(6*phi,6))\n",
    "\n",
    "plt.plot(yHat,L,linewidth=2,label='Loss')\n",
    "plt.plot([y,y],[0,np.max(L)],'r--')\n",
    "\n",
    "plt.legend()\n",
    "plt.grid()\n",
    "plt.xlabel('Predicted value')\n",
    "plt.ylabel('Loss')\n",
    "plt.title('MSE loss function')\n",
    "\n",
    "plt.savefig('figure56_loss_functions_pytorch.png')\n",
    "\n",
    "plt.show()\n",
    "\n",
    "files.download('figure56_loss_functions_pytorch.png')\n"
   ]
  },
  {
   "cell_type": "code",
   "execution_count": null,
   "metadata": {
    "id": "twRSYR6t4j7E"
   },
   "outputs": [],
   "source": [
    "# %% Binary cross-entropy (BCE)\n",
    "\n",
    "# Loss\n",
    "loss_fun = nn.BCELoss()\n",
    "\n",
    "yHat = torch.linspace(0.001,0.999,101)\n",
    "y1   = torch.tensor(0.)\n",
    "y2   = torch.tensor(1.)\n",
    "\n",
    "L = np.zeros((len(yHat),2))\n",
    "for i,yH in enumerate(yHat):\n",
    "    L[i,0] = loss_fun(yH,y1)\n",
    "    L[i,1] = loss_fun(yH,y2)\n",
    "\n",
    "# Plotting\n",
    "phi = ( 1 + np.sqrt(5) ) / 2\n",
    "fig = plt.figure(figsize=(6*phi,6))\n",
    "\n",
    "plt.plot(yHat,L,linewidth=2)\n",
    "plt.plot([y1,y1],[0,np.max(L)],'r--')\n",
    "plt.plot([y2,y2],[0,np.max(L)],'r--')\n",
    "\n",
    "plt.legend(['Correct = 0','Correct = 1'])\n",
    "plt.grid()\n",
    "plt.xlabel('Predicted value')\n",
    "plt.ylabel('Loss')\n",
    "plt.title('MSE loss function')\n",
    "plt.yscale('log')\n",
    "\n",
    "plt.savefig('figure57_loss_functions_pytorch.png')\n",
    "\n",
    "plt.show()\n",
    "\n",
    "files.download('figure57_loss_functions_pytorch.png')\n"
   ]
  },
  {
   "cell_type": "code",
   "execution_count": null,
   "metadata": {
    "id": "5Xf_mvVw6hHK"
   },
   "outputs": [],
   "source": [
    "# %% BCE without probability transform (e.g. sigmoid if binary)\n",
    "\n",
    "# Use a 'raw' output\n",
    "yHat = torch.tensor(2.)\n",
    "print(loss_fun(yHat,y2))\n",
    "\n",
    "# Convert to probability with sigmoid\n",
    "yHat = torch.sigmoid(yHat)\n",
    "print(loss_fun(yHat,y2))\n"
   ]
  },
  {
   "cell_type": "code",
   "execution_count": null,
   "metadata": {
    "colab": {
     "base_uri": "https://localhost:8080/"
    },
    "executionInfo": {
     "elapsed": 17,
     "status": "ok",
     "timestamp": 1748788737003,
     "user": {
      "displayName": "Edoardo Gornetti",
      "userId": "05048424707797899325"
     },
     "user_tz": -120
    },
    "id": "6JT41tL_7Mfx",
    "outputId": "6291e8cf-eae5-4113-d1cb-57000d138abf"
   },
   "outputs": [],
   "source": [
    "# %% Nota bene\n",
    "\n",
    "# However, PyTorch recommends using a single function that incorporates\n",
    "# sigmoid+BCE due to increased numerical stability (in toy examples, numerical\n",
    "# accuracy usually isn't a problem).\n",
    "# See : https://pytorch.org/docs/stable/generated/torch.nn.BCEWithLogitsLoss.html?highlight=nn%20bcewithlogitsloss#torch.nn.BCEWithLogitsLoss\n",
    "\n",
    "# Thus, the recommended way to do it:\n",
    "loss_fun = nn.BCEWithLogitsLoss()\n",
    "yHat     = torch.tensor(2.)\n",
    "print(loss_fun(yHat,y2))\n"
   ]
  },
  {
   "cell_type": "code",
   "execution_count": null,
   "metadata": {
    "colab": {
     "base_uri": "https://localhost:8080/"
    },
    "executionInfo": {
     "elapsed": 17,
     "status": "ok",
     "timestamp": 1748789652989,
     "user": {
      "displayName": "Edoardo Gornetti",
      "userId": "05048424707797899325"
     },
     "user_tz": -120
    },
    "id": "A91sp-dB7uRQ",
    "outputId": "83b183cb-cffa-465d-b64b-519e096f5200"
   },
   "outputs": [],
   "source": [
    "# %% Categorical cross-entropy (CCE)\n",
    "\n",
    "# Loss\n",
    "loss_fun = nn.CrossEntropyLoss()\n",
    "\n",
    "yHat = torch.tensor([[1.,4,3]]) # output layer (3 units) before softmax\n",
    "\n",
    "for i in range(3):\n",
    "    correct_answer = torch.tensor([i])\n",
    "    current_loss   = loss_fun(yHat,correct_answer).item()\n",
    "    print(f'Loss for correct answer index {i} equals {current_loss:.4f}')\n"
   ]
  },
  {
   "cell_type": "code",
   "execution_count": null,
   "metadata": {
    "colab": {
     "base_uri": "https://localhost:8080/"
    },
    "executionInfo": {
     "elapsed": 24,
     "status": "ok",
     "timestamp": 1748789655249,
     "user": {
      "displayName": "Edoardo Gornetti",
      "userId": "05048424707797899325"
     },
     "user_tz": -120
    },
    "id": "Z9ZIxEHS9TwI",
    "outputId": "e4c368b7-468d-4e0b-cb06-afdbe0c275d0"
   },
   "outputs": [],
   "source": [
    "# %% Repeat but with softmax\n",
    "# Not correct because nn.CrossEntropyLoss() already applies softmax\n",
    "\n",
    "sm      = nn.Softmax(dim=1)\n",
    "yHat_sm = sm(yHat)\n",
    "\n",
    "for i in range(3):\n",
    "    correct_answer = torch.tensor([i])\n",
    "    current_loss   = loss_fun(yHat_sm,correct_answer).item()\n",
    "    print(f'Loss for correct answer index {i} equals {current_loss:.4f}')\n"
   ]
  },
  {
   "cell_type": "code",
   "execution_count": null,
   "metadata": {
    "colab": {
     "base_uri": "https://localhost:8080/"
    },
    "executionInfo": {
     "elapsed": 13,
     "status": "ok",
     "timestamp": 1748789674249,
     "user": {
      "displayName": "Edoardo Gornetti",
      "userId": "05048424707797899325"
     },
     "user_tz": -120
    },
    "id": "79Ms45pH94s7",
    "outputId": "5350c262-d481-4b49-9b20-178c7523fd99"
   },
   "outputs": [],
   "source": [
    "# %% Compare raw, softmax, and log-softmax outputs\n",
    "\n",
    "log_sm     = nn.LogSoftmax(dim=1)\n",
    "yHat_logsm = log_sm(yHat)\n",
    "\n",
    "print(yHat)\n",
    "print(yHat_sm)\n",
    "print(yHat_logsm)\n"
   ]
  },
  {
   "cell_type": "code",
   "execution_count": null,
   "metadata": {
    "colab": {
     "base_uri": "https://localhost:8080/"
    },
    "executionInfo": {
     "elapsed": 58,
     "status": "ok",
     "timestamp": 1748789844492,
     "user": {
      "displayName": "Edoardo Gornetti",
      "userId": "05048424707797899325"
     },
     "user_tz": -120
    },
    "id": "NieG79WT-m2B",
    "outputId": "aeaa4659-fb5e-4244-a705-0262e22be9c8"
   },
   "outputs": [],
   "source": [
    "# %% Create your own custom loss function\n",
    "#    Not recommended unless you really need it\n",
    "\n",
    "class my_loss(nn.Module):\n",
    "    def __init__(self):\n",
    "        super().__init__()\n",
    "\n",
    "    def forward(self,x,y):\n",
    "        loss = torch.abs(x-y)\n",
    "        return loss\n",
    "\n",
    "# Test\n",
    "custom_fun = my_loss()\n",
    "custom_fun(torch.tensor(4),torch.tensor(5.2))\n"
   ]
  }
 ],
 "metadata": {
  "colab": {
   "authorship_tag": "ABX9TyPAfnTYr8BjF6tOPaf/GZRy",
   "provenance": []
  },
  "kernelspec": {
   "display_name": "Python 3",
   "name": "python3"
  },
  "language_info": {
   "name": "python"
  }
 },
 "nbformat": 4,
 "nbformat_minor": 0
}
