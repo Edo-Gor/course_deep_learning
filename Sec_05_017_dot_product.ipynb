{
 "cells": [
  {
   "cell_type": "code",
   "execution_count": null,
   "metadata": {
    "id": "s9gu9tri5mxm"
   },
   "outputs": [],
   "source": [
    "# %% Deep learning - Section 5.17\n",
    "#    OMG it's the dot product!\n",
    "\n",
    "# This code pertains a deep learning course provided by Mike X. Cohen on Udemy:\n",
    "#   > https://www.udemy.com/course/deeplearning_x\n",
    "# The \"base\" code in this repository is adapted (with very minor modifications)\n",
    "# from code developed by the course instructor (Mike X. Cohen), while the \n",
    "# \"exercises\" and the \"code challenges\" contain more original solutions and \n",
    "# creative input from my side. If you are interested in DL (and if you are \n",
    "# reading this statement, chances are that you are), go check out the course, it\n",
    "# is singularly good.\n"
   ]
  },
  {
   "cell_type": "code",
   "execution_count": null,
   "metadata": {
    "id": "vJxLomhi55do"
   },
   "outputs": [],
   "source": [
    "# %% Libraries and modules\n",
    "import numpy             as np\n",
    "import matplotlib.pyplot as plt\n",
    "import torch\n",
    "import copy\n",
    "\n",
    "from matplotlib_inline.backend_inline import set_matplotlib_formats\n",
    "set_matplotlib_formats('svg')\n"
   ]
  },
  {
   "cell_type": "code",
   "execution_count": null,
   "metadata": {
    "colab": {
     "base_uri": "https://localhost:8080/"
    },
    "executionInfo": {
     "elapsed": 22,
     "status": "ok",
     "timestamp": 1740082853606,
     "user": {
      "displayName": "Edoardo Gornetti",
      "userId": "05048424707797899325"
     },
     "user_tz": -60
    },
    "id": "QMlXQv6N6RSc",
    "outputId": "02a22e02-9848-471a-d5ce-7a010c5fe263"
   },
   "outputs": [],
   "source": [
    "# %% Dot product in numpy\n",
    "\n",
    "nv1 = np.array( [1,2,3,4] )\n",
    "nv2 = np.array( [0,1,0,-1] )\n",
    "\n",
    "print(np.dot(nv1,nv2))\n",
    "print(np.sum(nv1*nv2))\n"
   ]
  },
  {
   "cell_type": "code",
   "execution_count": null,
   "metadata": {
    "colab": {
     "base_uri": "https://localhost:8080/"
    },
    "executionInfo": {
     "elapsed": 75,
     "status": "ok",
     "timestamp": 1740082941261,
     "user": {
      "displayName": "Edoardo Gornetti",
      "userId": "05048424707797899325"
     },
     "user_tz": -60
    },
    "id": "AW6n-32KAZeE",
    "outputId": "2c3f303f-9437-4e44-d95c-0f526c39d0f3"
   },
   "outputs": [],
   "source": [
    "# %% Dot product in PyTorch\n",
    "\n",
    "tv1 = torch.tensor( [1,2,3,4] )\n",
    "tv2 = torch.tensor( [0,1,0,-1] )\n",
    "\n",
    "print(torch.dot(tv1,tv2))\n",
    "print(torch.sum(tv1*tv2))\n"
   ]
  }
 ],
 "metadata": {
  "colab": {
   "authorship_tag": "ABX9TyOhTuVfdWp1L9QXo82c81c7",
   "provenance": []
  },
  "kernelspec": {
   "display_name": "Python 3",
   "name": "python3"
  },
  "language_info": {
   "name": "python"
  }
 },
 "nbformat": 4,
 "nbformat_minor": 0
}
