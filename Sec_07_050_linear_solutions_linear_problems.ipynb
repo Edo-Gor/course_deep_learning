{
 "cells": [
  {
   "cell_type": "code",
   "execution_count": null,
   "metadata": {
    "id": "V8E9HS2AMD7X"
   },
   "outputs": [],
   "source": [
    "# %% Deep learning - Section 7.50\n",
    "#    Linear solutions to linear problems\n",
    "\n",
    "# This code pertains a deep learning course provided by Mike X. Cohen on Udemy:\n",
    "#   > https://www.udemy.com/course/deeplearning_x\n",
    "# The \"base\" code in this repository is adapted (with very minor modifications)\n",
    "# from code developed by the course instructor (Mike X. Cohen), while the\n",
    "# \"exercises\" and the \"code challenges\" contain more original solutions and\n",
    "# creative input from my side. If you are interested in DL (and if you are\n",
    "# reading this statement, chances are that you are), go check out the course, it\n",
    "# is singularly good.\n"
   ]
  },
  {
   "cell_type": "code",
   "execution_count": null,
   "metadata": {
    "id": "MiAluKBYMKpX"
   },
   "outputs": [],
   "source": [
    "# %% Libraries and modules\n",
    "import numpy               as np\n",
    "import matplotlib.pyplot   as plt\n",
    "import torch\n",
    "import torch.nn            as nn\n",
    "import copy\n",
    "\n",
    "from google.colab                     import files\n",
    "from matplotlib_inline.backend_inline import set_matplotlib_formats\n",
    "set_matplotlib_formats('svg')\n"
   ]
  },
  {
   "cell_type": "code",
   "execution_count": null,
   "metadata": {
    "id": "PsSVS8SUMMn9"
   },
   "outputs": [],
   "source": [
    "# %% Data\n",
    "\n",
    "nClust = 100\n",
    "blur   = 1\n",
    "\n",
    "A = [1, 3]\n",
    "B = [1,-2]\n",
    "\n",
    "a = [ A[0]+np.random.randn(nClust)*blur, A[1]+np.random.randn(nClust)*blur ]\n",
    "b = [ B[0]+np.random.randn(nClust)*blur, B[1]+np.random.randn(nClust)*blur ]\n",
    "\n",
    "# True labels\n",
    "labels_np = np.vstack(( np.zeros((nClust,1)), np.ones((nClust,1)) ))\n",
    "\n",
    "# Concatenate\n",
    "data_np = np.hstack((a,b)).T\n",
    "\n",
    "# Convert into torch tensor\n",
    "data   = torch.tensor(data_np).float()\n",
    "labels = torch.tensor(labels_np).float()\n"
   ]
  },
  {
   "cell_type": "code",
   "execution_count": null,
   "metadata": {
    "colab": {
     "base_uri": "https://localhost:8080/",
     "height": 619
    },
    "executionInfo": {
     "elapsed": 411,
     "status": "ok",
     "timestamp": 1742056797943,
     "user": {
      "displayName": "Edoardo Gornetti",
      "userId": "05048424707797899325"
     },
     "user_tz": -60
    },
    "id": "t7tuQHCWMZBM",
    "outputId": "93660b26-a8f2-4536-bf35-9bae2af047ba"
   },
   "outputs": [],
   "source": [
    "# Plotting\n",
    "\n",
    "fig = plt.figure(figsize=(7,7))\n",
    "\n",
    "plt.plot( data[np.where(labels==0)[0],0],data[np.where(labels==0)[0],1],'bs' )\n",
    "plt.plot( data[np.where(labels==1)[0],0],data[np.where(labels==1)[0],1],'ro' )\n",
    "plt.title('Some binary data')\n",
    "plt.xlabel('x1')\n",
    "plt.ylabel('x2')\n",
    "\n",
    "plt.savefig('figure54_linear_solutions_linear_problems.png')\n",
    "\n",
    "plt.show()\n",
    "\n",
    "files.download('figure54_linear_solutions_linear_problems.png')\n"
   ]
  },
  {
   "cell_type": "code",
   "execution_count": null,
   "metadata": {
    "id": "uQ4oXN_PKRFg"
   },
   "outputs": [],
   "source": [
    "# %% Functions\n"
   ]
  },
  {
   "cell_type": "code",
   "execution_count": null,
   "metadata": {
    "id": "stxVunldIu7A"
   },
   "outputs": [],
   "source": [
    "# %% Function to build the model\n",
    "\n",
    "# Remove non-linear activation function from input and hidden layers, only keep\n",
    "# the sigmoid at the end\n",
    "\n",
    "def gen_model(learning_rate):\n",
    "\n",
    "    # Model architecture (ReLUs inside, sigmoid at the end)\n",
    "    ANNclassify = nn.Sequential(\n",
    "                     nn.Linear(2,16),  # input layer (num inputs, num outputs)\n",
    "                     #nn.ReLU(),        # first activation function\n",
    "                     nn.Linear(16,1),  # hidden layer (num inputs, num outputs)\n",
    "                     #nn.ReLU(),        # second activation function\n",
    "                     nn.Linear(1,1),   # output layer (num inputs, num outputs)\n",
    "                     nn.Sigmoid()      # third activation function (not needed if use BCEWithLogitsLoss)\n",
    "                     )\n",
    "\n",
    "    # Loss function\n",
    "    loss_fun = nn.BCELoss()\n",
    "\n",
    "    # Optimizer\n",
    "    optimizer = torch.optim.SGD(ANNclassify.parameters(),lr=learning_rate)\n",
    "\n",
    "    # Outputs\n",
    "    return ANNclassify,loss_fun,optimizer\n"
   ]
  },
  {
   "cell_type": "code",
   "execution_count": null,
   "metadata": {
    "id": "qIOwKTUpNcnx"
   },
   "outputs": [],
   "source": [
    "# %% Function to train the model\n",
    "\n",
    "num_epochs = 1000\n",
    "\n",
    "def train_model(ANNmodel):\n",
    "\n",
    "    # Initialise losses\n",
    "    losses = torch.zeros(num_epochs)\n",
    "\n",
    "    # Loop over epochs\n",
    "    for epoch_i in range(num_epochs):\n",
    "\n",
    "        # Forward propagation\n",
    "        yHat = ANNmodel(data)\n",
    "\n",
    "        # Compute loss\n",
    "        loss = loss_fun(yHat,labels)\n",
    "        losses[epoch_i] = loss\n",
    "\n",
    "        # Backpropagation\n",
    "        optimizer.zero_grad()\n",
    "        loss.backward()\n",
    "        optimizer.step()\n",
    "\n",
    "    # Final forward pass\n",
    "    predictions = ANNmodel(data)\n",
    "\n",
    "    # Accuracy (here .5 because manual Sigmoid implementation [no BCEWithLogitsLoss])\n",
    "    tot_acc = 100*torch.mean( ((predictions>.5)==labels).float() )\n",
    "\n",
    "    return losses,predictions,tot_acc\n"
   ]
  },
  {
   "cell_type": "code",
   "execution_count": null,
   "metadata": {
    "id": "DndifcM9qR0r"
   },
   "outputs": [],
   "source": [
    "# %% Parametric experiment on learning rates\n",
    "\n",
    "# Parameters\n",
    "learning_rates   = np.linspace(.001,.1,50)\n",
    "acc_by_learnRate = []\n",
    "all_losses       = np.zeros( (len(learning_rates),num_epochs) )\n",
    "\n",
    "# Loop through learning rates\n",
    "for i,lr in enumerate(learning_rates):\n",
    "\n",
    "    # Generate and run the model\n",
    "    ANNclassify,lossfun,optimizer = gen_model(lr)\n",
    "    losses,predictions,tot_acc    = train_model(ANNclassify)\n",
    "\n",
    "    # Store results\n",
    "    acc_by_learnRate.append(tot_acc)\n",
    "    all_losses[i,:] = losses.detach()\n"
   ]
  },
  {
   "cell_type": "code",
   "execution_count": null,
   "metadata": {
    "colab": {
     "base_uri": "https://localhost:8080/",
     "height": 397
    },
    "executionInfo": {
     "elapsed": 686,
     "status": "ok",
     "timestamp": 1742057034188,
     "user": {
      "displayName": "Edoardo Gornetti",
      "userId": "05048424707797899325"
     },
     "user_tz": -60
    },
    "id": "pTsRmvoKqUib",
    "outputId": "e450141b-31ab-46cc-ef85-9ce3087d2397"
   },
   "outputs": [],
   "source": [
    "# Plotting\n",
    "\n",
    "fig,ax = plt.subplots(1,2,figsize=(12,4))\n",
    "\n",
    "ax[0].plot(learning_rates,acc_by_learnRate,'s-')\n",
    "ax[0].set_xlabel('Learning rate')\n",
    "ax[0].set_ylabel('Accuracy (mind the axis scale!)')\n",
    "ax[0].set_title('Accuracy by learning rate')\n",
    "ax[0].set_title('Accuracy by learning rate')\n",
    "\n",
    "ax[1].plot(all_losses.T)\n",
    "ax[1].set_title('Losses by learning rate')\n",
    "ax[1].set_xlabel('Epoch number')\n",
    "ax[1].set_ylabel('Loss (mind the axis scale!)')\n",
    "\n",
    "plt.savefig('figure55_linear_solutions_linear_problems.png')\n",
    "\n",
    "plt.show()\n",
    "\n",
    "files.download('figure55_linear_solutions_linear_problems.png')\n"
   ]
  }
 ],
 "metadata": {
  "colab": {
   "authorship_tag": "ABX9TyNR701ZwxE4WJmOOdE2tmX1",
   "provenance": []
  },
  "kernelspec": {
   "display_name": "Python 3",
   "name": "python3"
  },
  "language_info": {
   "name": "python"
  }
 },
 "nbformat": 4,
 "nbformat_minor": 0
}
