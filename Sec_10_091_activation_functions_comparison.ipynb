{
 "cells": [
  {
   "cell_type": "code",
   "execution_count": null,
   "metadata": {
    "id": "QG4cDbcB3hUK"
   },
   "outputs": [],
   "source": [
    "# %% Deep learning - Section 10.91\n",
    "#    Activation functions comparison\n",
    "\n",
    "# This code pertains a deep learning course provided by Mike X. Cohen on Udemy:\n",
    "#   > https://www.udemy.com/course/deeplearning_x\n",
    "# The \"base\" code in this repository is adapted (with very minor modifications)\n",
    "# from code developed by the course instructor (Mike X. Cohen), while the\n",
    "# \"exercises\" and the \"code challenges\" contain more original solutions and\n",
    "# creative input from my side. If you are interested in DL (and if you are\n",
    "# reading this statement, chances are that you are), go check out the course, it\n",
    "# is singularly good.\n"
   ]
  },
  {
   "cell_type": "code",
   "execution_count": null,
   "metadata": {
    "id": "SsTmLtEZ3uMI"
   },
   "outputs": [],
   "source": [
    "# %% Libraries and modules\n",
    "import numpy               as np\n",
    "import matplotlib.pyplot   as plt\n",
    "import torch\n",
    "import torch.nn            as nn\n",
    "import seaborn             as sns\n",
    "import copy\n",
    "import torch.nn.functional as F\n",
    "import pandas              as pd\n",
    "import scipy.stats         as stats\n",
    "import time\n",
    "\n",
    "from torch.utils.data                 import DataLoader,TensorDataset\n",
    "from sklearn.model_selection          import train_test_split\n",
    "from google.colab                     import files\n",
    "from torchsummary                     import summary\n",
    "from IPython                          import display\n",
    "from matplotlib_inline.backend_inline import set_matplotlib_formats\n",
    "set_matplotlib_formats('svg')\n"
   ]
  },
  {
   "cell_type": "code",
   "execution_count": null,
   "metadata": {
    "colab": {
     "base_uri": "https://localhost:8080/"
    },
    "executionInfo": {
     "elapsed": 542,
     "status": "ok",
     "timestamp": 1748636912084,
     "user": {
      "displayName": "Edoardo Gornetti",
      "userId": "05048424707797899325"
     },
     "user_tz": -120
    },
    "id": "F2sdQWOX3uEV",
    "outputId": "15b4de8c-b295-48d2-b3df-f6b2a60aaa46"
   },
   "outputs": [],
   "source": [
    "# %% Load and prepare data\n",
    "\n",
    "# Load\n",
    "url = \"https://archive.ics.uci.edu/ml/machine-learning-databases/wine-quality/winequality-red.csv\"\n",
    "data = pd.read_csv(url,sep=';')\n",
    "\n",
    "# Remove some outliers (see lec. 82 for why)\n",
    "data = data[data['total sulfur dioxide']<200]\n",
    "\n",
    "# Z-score all the variables but quality\n",
    "cols2zscore = data.keys()\n",
    "cols2zscore = cols2zscore.drop('quality')\n",
    "\n",
    "for col in cols2zscore:\n",
    "    mean_val  = np.mean(data[col])\n",
    "    std_val   = np.std(data[col])\n",
    "    data[col] = (data[col] - mean_val) / std_val\n",
    "\n",
    "# Binarise quality\n",
    "data.loc[:,'boolean_quality'] = 0\n",
    "data.loc[data['quality']>5, 'boolean_quality'] = 1\n",
    "data.loc[data['quality']<6, 'boolean_quality'] = 0 # Implicit but here for clarity\n",
    "\n",
    "# Convert from pandas dataframe to PyTorch tensor\n",
    "data_t = torch.tensor( data[cols2zscore].values ).float()\n",
    "labels = torch.tensor( data['boolean_quality'].values ).float()\n",
    "\n",
    "print(f'Data shape: {data_t.shape}')\n",
    "print(f'Labels shape: {labels.shape}')\n",
    "\n",
    "# Labels need to be multidimentional for PyTorch, not an array, and need to be long integers too\n",
    "labels = labels[:,None]\n",
    "print(f'Proper labels shape: {labels.shape}')\n"
   ]
  },
  {
   "cell_type": "code",
   "execution_count": null,
   "metadata": {
    "id": "XVTvl3wN4dNS"
   },
   "outputs": [],
   "source": [
    "# %% Split into train and test data\n",
    "\n",
    "# Split with scikitlearn\n",
    "train_data,test_data,train_labels,test_labels = train_test_split(data_t,labels,test_size=0.1)\n",
    "\n",
    "# Convert into PyTorch datasets\n",
    "train_data = TensorDataset(train_data,train_labels)\n",
    "test_data  = TensorDataset(test_data,test_labels)\n",
    "\n",
    "# Convert into DataLoader objects\n",
    "batch_size   = 32\n",
    "train_loader = DataLoader(train_data,batch_size=batch_size,shuffle=True,drop_last=True)\n",
    "test_loader  = DataLoader(test_data,batch_size=test_data.tensors[0].shape[0])\n"
   ]
  },
  {
   "cell_type": "code",
   "execution_count": null,
   "metadata": {
    "id": "b03nkebW4iO6"
   },
   "outputs": [],
   "source": [
    "# %% Model class\n",
    "\n",
    "# Optional arg to switch activation function\n",
    "class ANN_wine(nn.Module):\n",
    "    def __init__(self,act_fun):\n",
    "        super().__init__()\n",
    "\n",
    "        # Layers\n",
    "        self.input  = nn.Linear(11,32)\n",
    "        self.hid1   = nn.Linear(32,32)\n",
    "        self.hid2   = nn.Linear(32,32)\n",
    "        self.output = nn.Linear(32,1)\n",
    "\n",
    "        # Activation function\n",
    "        self.act_fun = act_fun\n",
    "\n",
    "    # Forward propagation\n",
    "    def forward(self,x):\n",
    "\n",
    "        act_fun = getattr(torch.nn.functional,self.act_fun)\n",
    "        x = act_fun(self.input(x))\n",
    "        x = act_fun(self.hid1(x))\n",
    "        x = act_fun(self.hid2(x))\n",
    "        x = self.output(x)\n",
    "\n",
    "        return x\n"
   ]
  },
  {
   "cell_type": "code",
   "execution_count": null,
   "metadata": {
    "colab": {
     "base_uri": "https://localhost:8080/"
    },
    "executionInfo": {
     "elapsed": 6,
     "status": "ok",
     "timestamp": 1748638173738,
     "user": {
      "displayName": "Edoardo Gornetti",
      "userId": "05048424707797899325"
     },
     "user_tz": -120
    },
    "id": "klM9sd655lGa",
    "outputId": "496391ed-ee1c-40e2-cdc8-79e1123135ef"
   },
   "outputs": [],
   "source": [
    "# %% Test model\n",
    "\n",
    "# Use for ex. sigmoid, relu, or tanh\n",
    "ANN = ANN_wine('sigmoid')\n",
    "ANN( torch.randn(10,11) ).shape\n"
   ]
  },
  {
   "cell_type": "code",
   "execution_count": null,
   "metadata": {
    "id": "l9Rbnb-a5_MD"
   },
   "outputs": [],
   "source": [
    "# %% Function to train the model\n",
    "\n",
    "# Parameters\n",
    "num_epochs = 1000\n",
    "\n",
    "def train_model():\n",
    "\n",
    "    # Loss function and optimizer\n",
    "    loss_fun  = nn.BCEWithLogitsLoss()\n",
    "    optimizer = torch.optim.SGD(ANN.parameters(),lr=0.01)\n",
    "\n",
    "    # Initialise losses\n",
    "    train_acc = []\n",
    "    test_acc  = []\n",
    "    losses    = []\n",
    "\n",
    "    # Loop over epochs\n",
    "    for epoch_i in range(num_epochs):\n",
    "\n",
    "        # Switch training mode on\n",
    "        ANN.train()\n",
    "\n",
    "        batch_acc  = []\n",
    "        batch_loss = []\n",
    "\n",
    "        for X,y in train_loader:\n",
    "\n",
    "            # Forward propagation and loss (with batchnorm arg)\n",
    "            yHat = ANN(X)\n",
    "            loss = loss_fun(yHat,y)\n",
    "\n",
    "            # Only now do backpropagation\n",
    "            optimizer.zero_grad()\n",
    "            loss.backward()\n",
    "            optimizer.step()\n",
    "\n",
    "            # Batch training accuracy\n",
    "            batch_acc.append( 100*torch.mean(((yHat>0) == y).float()).item() )\n",
    "            batch_loss.append(loss.item())\n",
    "\n",
    "        # Average accuracy from batch\n",
    "        train_acc.append(np.mean(batch_acc))\n",
    "        losses.append(np.mean(batch_loss))\n",
    "\n",
    "        # Test accuracy\n",
    "        ANN.eval()\n",
    "        X,y = next(iter(test_loader))\n",
    "        with torch.no_grad():\n",
    "            yHat = ANN(X)\n",
    "        test_acc.append( 100*torch.mean(((yHat>0) == y).float()).item() )\n",
    "\n",
    "    # Function output\n",
    "    return train_acc,test_acc,losses\n"
   ]
  },
  {
   "cell_type": "code",
   "execution_count": null,
   "metadata": {
    "id": "9OvrA8PN6fSM"
   },
   "outputs": [],
   "source": [
    "# %% Parametric experiment on activation functions\n",
    "\n",
    "activation_funs = [ 'relu','leaky_relu','tanh','sigmoid', ]\n",
    "\n",
    "train_funs = np.zeros((num_epochs,len(activation_funs)))\n",
    "test_funs  = np.zeros((num_epochs,len(activation_funs)))\n",
    "\n",
    "for a,fun in enumerate(activation_funs):\n",
    "\n",
    "    ANN = ANN_wine(fun)\n",
    "    train_acc,test_acc,losses = train_model()\n",
    "\n",
    "    train_funs[:,a] = train_acc\n",
    "    test_funs[:,a]  = test_acc\n"
   ]
  },
  {
   "cell_type": "code",
   "execution_count": null,
   "metadata": {
    "id": "aYF7pFVm9V82"
   },
   "outputs": [],
   "source": [
    "# %% Functions for 1D smoothing filter\n",
    "\n",
    "# Improved for edge effects - adaptive window\n",
    "def smooth_adaptive(x,k):\n",
    "    smoothed = np.zeros_like(x)\n",
    "    half_k   = k // 2\n",
    "\n",
    "    for i in range(len(x)):\n",
    "        start       = max(0, i-half_k)\n",
    "        end         = min(len(x), i+half_k + 1)\n",
    "        smoothed[i] = np.mean(x[start:end])\n",
    "\n",
    "    return smoothed\n"
   ]
  },
  {
   "cell_type": "code",
   "execution_count": null,
   "metadata": {
    "colab": {
     "base_uri": "https://localhost:8080/",
     "height": 545
    },
    "executionInfo": {
     "elapsed": 841,
     "status": "ok",
     "timestamp": 1748639728163,
     "user": {
      "displayName": "Edoardo Gornetti",
      "userId": "05048424707797899325"
     },
     "user_tz": -120
    },
    "id": "1vtaZNI17zI_",
    "outputId": "ebdd2584-dc33-440a-cf5d-5834dee93c21"
   },
   "outputs": [],
   "source": [
    "# %% Plotting\n",
    "\n",
    "phi = ( 1 + np.sqrt(5) ) / 2\n",
    "fig,ax = plt.subplots(1,2,figsize=(1.5*6*phi,6))\n",
    "\n",
    "cmaps = plt.cm.plasma(np.linspace(.1,.9,len(activation_funs)))\n",
    "for i in range(len(activation_funs)):\n",
    "    ax[0].plot(smooth_adaptive(train_funs[:,i],20),color=cmaps[i])\n",
    "    ax[1].plot(smooth_adaptive(test_funs[:,i],20),color=cmaps[i])\n",
    "\n",
    "ax[0].set_title('Train accuracy')\n",
    "ax[1].set_title('Test accuracy')\n",
    "\n",
    "# Make the legend easier to read\n",
    "leglabels = [fun for i,fun in enumerate(activation_funs)]\n",
    "\n",
    "# Common features\n",
    "for i in range(2):\n",
    "    ax[i].legend(leglabels)\n",
    "    ax[i].set_xlabel('Epoch')\n",
    "    ax[i].set_ylabel('Accuracy (%)')\n",
    "    ax[i].set_ylim([30,101])\n",
    "    ax[i].grid()\n",
    "\n",
    "plt.savefig('figure43_activation_functions_comparison.png')\n",
    "\n",
    "plt.show()\n",
    "\n",
    "files.download('figure43_activation_functions_comparison.png')\n"
   ]
  },
  {
   "cell_type": "code",
   "execution_count": null,
   "metadata": {
    "id": "uIZ78Lrd_vep"
   },
   "outputs": [],
   "source": [
    "# %% Exercise 1\n",
    "#    Lower the learning rate to .001 (instead of .01), and increase the number of epochs to 1500.\n",
    "#    Do the conclusions about the activation functions change?\n",
    "\n",
    "# In this case the sigmoid function is no longer able to perform above chance\n",
    "# level, not even with more epochs. Other activation functions underperform a bit too\n"
   ]
  },
  {
   "cell_type": "code",
   "execution_count": null,
   "metadata": {
    "colab": {
     "base_uri": "https://localhost:8080/",
     "height": 545
    },
    "executionInfo": {
     "elapsed": 654,
     "status": "ok",
     "timestamp": 1748640528441,
     "user": {
      "displayName": "Edoardo Gornetti",
      "userId": "05048424707797899325"
     },
     "user_tz": -120
    },
    "id": "wWR1tPehAKgr",
    "outputId": "478ba3d6-dc2c-49ed-b128-dd07b3cb96a7"
   },
   "outputs": [],
   "source": [
    "# %% Exercise 2\n",
    "#    Most of accuracy plots in this course show train and test in separate axes. Modify the visualization code to show\n",
    "#    both train and test accuracy in the same plot. What additional visualization considerations are there?\n",
    "\n",
    "# I guess some differences in the plotting line style to make the plot understandable\n",
    "\n",
    "# Plotting\n",
    "phi = ( 1 + np.sqrt(5) ) / 2\n",
    "fig,ax = plt.subplots(1,1,figsize=(6*phi,6))\n",
    "\n",
    "cmaps = plt.cm.plasma(np.linspace(.1,.9,len(activation_funs)))\n",
    "for i in range(len(activation_funs)):\n",
    "    ax.plot(smooth_adaptive(train_funs[:,i],20),color=cmaps[i])\n",
    "    ax.plot(smooth_adaptive(test_funs[:,i],20),'--',color=cmaps[i])\n",
    "\n",
    "ax.set_title('Train and test accuracy')\n",
    "\n",
    "# Make the legend easier to read\n",
    "leglabels = [fun for fun in activation_funs for _ in range(2)]\n",
    "\n",
    "# Common features\n",
    "ax.legend(leglabels)\n",
    "ax.set_xlabel('Epoch')\n",
    "ax.set_ylabel('Accuracy (%)')\n",
    "ax.set_ylim([30,101])\n",
    "ax.grid()\n",
    "\n",
    "plt.savefig('figure45_activation_functions_comparison_extra2.png')\n",
    "\n",
    "plt.show()\n",
    "\n",
    "files.download('figure45_activation_functions_comparison_extra2.png')\n"
   ]
  }
 ],
 "metadata": {
  "colab": {
   "authorship_tag": "ABX9TyPkYAvkCGqveoNwf1RXkBxe",
   "provenance": []
  },
  "kernelspec": {
   "display_name": "Python 3",
   "name": "python3"
  },
  "language_info": {
   "name": "python"
  }
 },
 "nbformat": 4,
 "nbformat_minor": 0
}
