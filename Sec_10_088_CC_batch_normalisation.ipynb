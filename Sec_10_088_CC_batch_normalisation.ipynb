{
 "cells": [
  {
   "cell_type": "code",
   "execution_count": null,
   "metadata": {
    "id": "oUs2fhTatHey"
   },
   "outputs": [],
   "source": [
    "# %% Deep learning - Section 10.88\n",
    "#    Code challenge 9: batch-normalise the qwerties\n",
    "\n",
    "#    1) Use the data and the model from\n",
    "#    2) Implement batch normalisation after the input layer\n",
    "#    3) Optional: use a class\n",
    "\n",
    "# This code pertains a deep learning course provided by Mike X. Cohen on Udemy:\n",
    "#   > https://www.udemy.com/course/deeplearning_x\n",
    "# The \"base\" code in this repository is adapted (with very minor modifications)\n",
    "# from code developed by the course instructor (Mike X. Cohen), while the\n",
    "# \"exercises\" and the \"code challenges\" contain more original solutions and\n",
    "# creative input from my side. If you are interested in DL (and if you are\n",
    "# reading this statement, chances are that you are), go check out the course, it\n",
    "# is singularly good.\n"
   ]
  },
  {
   "cell_type": "code",
   "execution_count": null,
   "metadata": {
    "id": "0JENCgyotKwU"
   },
   "outputs": [],
   "source": [
    "# %% Libraries and modules\n",
    "import numpy               as np\n",
    "import matplotlib.pyplot   as plt\n",
    "import torch\n",
    "import torch.nn            as nn\n",
    "import seaborn             as sns\n",
    "import copy\n",
    "import torch.nn.functional as F\n",
    "import pandas              as pd\n",
    "import scipy.stats         as stats\n",
    "import time\n",
    "\n",
    "from torch.utils.data                 import DataLoader,TensorDataset\n",
    "from sklearn.model_selection          import train_test_split\n",
    "from google.colab                     import files\n",
    "from torchsummary                     import summary\n",
    "from IPython                          import display\n",
    "from matplotlib_inline.backend_inline import set_matplotlib_formats\n",
    "set_matplotlib_formats('svg')\n"
   ]
  },
  {
   "cell_type": "code",
   "execution_count": null,
   "metadata": {
    "id": "Jls3gMJOt8UW"
   },
   "outputs": [],
   "source": [
    "# %% Data\n",
    "\n",
    "nClust = 100\n",
    "blur   = 1\n",
    "\n",
    "A = [1, 3]\n",
    "B = [1,-2]\n",
    "\n",
    "a = [ A[0]+np.random.randn(nClust)*blur, A[1]+np.random.randn(nClust)*blur ]\n",
    "b = [ B[0]+np.random.randn(nClust)*blur, B[1]+np.random.randn(nClust)*blur ]\n",
    "\n",
    "# True labels\n",
    "labels_np = np.vstack(( np.zeros((nClust,1)), np.ones((nClust,1)) ))\n",
    "\n",
    "# Concatenate\n",
    "data_np = np.hstack((a,b)).T\n",
    "\n",
    "# Convert into torch tensor\n",
    "data   = torch.tensor(data_np).float()\n",
    "labels = torch.tensor(labels_np).float()\n"
   ]
  },
  {
   "cell_type": "code",
   "execution_count": null,
   "metadata": {
    "colab": {
     "base_uri": "https://localhost:8080/",
     "height": 545
    },
    "executionInfo": {
     "elapsed": 159,
     "status": "ok",
     "timestamp": 1748285269773,
     "user": {
      "displayName": "Edoardo Gornetti",
      "userId": "05048424707797899325"
     },
     "user_tz": -120
    },
    "id": "qy134VbyuBJK",
    "outputId": "9d0fd195-5b94-4bd0-86f4-13ef74b15369"
   },
   "outputs": [],
   "source": [
    "# %% Plotting\n",
    "\n",
    "phi = ( 1 + np.sqrt(5) ) / 2\n",
    "fig = plt.figure(figsize=(6*phi,6))\n",
    "\n",
    "plt.plot( data[np.where(labels==0)[0],0],data[np.where(labels==0)[0],1],'bs' )\n",
    "plt.plot( data[np.where(labels==1)[0],0],data[np.where(labels==1)[0],1],'ro' )\n",
    "plt.title('Some binary data')\n",
    "plt.xlabel('x1')\n",
    "plt.ylabel('x2')\n",
    "\n",
    "plt.savefig('figure22_code_challenge_9.png')\n",
    "\n",
    "plt.show()\n",
    "\n",
    "files.download('figure22_code_challenge_9.png')\n"
   ]
  },
  {
   "cell_type": "code",
   "execution_count": null,
   "metadata": {
    "id": "htMGuXqsumRu"
   },
   "outputs": [],
   "source": [
    "# %% Model class\n",
    "\n",
    "class ANN(nn.Module):\n",
    "    def __init__(self,doBN=True):\n",
    "        super().__init__()\n",
    "\n",
    "        # Batch normalisation property\n",
    "        self.doBN = doBN\n",
    "\n",
    "        # Architecture and batch norm\n",
    "        self.input  = nn.Linear( 2,16)\n",
    "        self.hidden = nn.Linear(16,1 )\n",
    "        self.bn1    = nn.BatchNorm1d(16)\n",
    "        self.output = nn.Linear( 1,1 )\n",
    "\n",
    "    # Forward propagation\n",
    "    def forward(self,x):\n",
    "\n",
    "        # Input (already normalised if data normalised)\n",
    "        x = F.relu( self.input(x) )\n",
    "\n",
    "        # Hidden layers (batchnorm, weighted sum, activation function)\n",
    "        if self.doBN:\n",
    "\n",
    "            x = self.bn1(x)\n",
    "            x = self.hidden(x)\n",
    "            x = F.relu(x)\n",
    "\n",
    "        else:\n",
    "\n",
    "            x = self.hidden( F.relu(x) )\n",
    "\n",
    "        # Output\n",
    "        x = torch.sigmoid( self.output(x) )\n",
    "\n",
    "        return x\n"
   ]
  },
  {
   "cell_type": "code",
   "execution_count": null,
   "metadata": {
    "id": "zzqs-rGNutBf"
   },
   "outputs": [],
   "source": [
    "# %% Function to train the model\n",
    "\n",
    "num_epochs = 1000\n",
    "\n",
    "def train_model(ANN,learning_rate):\n",
    "\n",
    "    # Loss function and optimizer\n",
    "    loss_fun = nn.BCELoss()\n",
    "    optimizer = torch.optim.SGD(ANN.parameters(),lr=learning_rate)\n",
    "\n",
    "    # Initialise losses\n",
    "    losses = torch.zeros(num_epochs)\n",
    "\n",
    "    # Loop over epochs\n",
    "    for epoch_i in range(num_epochs):\n",
    "\n",
    "        # Forward propagation\n",
    "        yHat = ANN(data)\n",
    "\n",
    "        # Compute loss\n",
    "        loss = loss_fun(yHat,labels)\n",
    "        losses[epoch_i] = loss\n",
    "\n",
    "        # Backpropagation\n",
    "        optimizer.zero_grad()\n",
    "        loss.backward()\n",
    "        optimizer.step()\n",
    "\n",
    "    # Final forward pass\n",
    "    predictions = ANN(data)\n",
    "\n",
    "    # Accuracy (here .5 because manual Sigmoid implementation [no BCEWithLogitsLoss])\n",
    "    tot_acc = 100*torch.mean( ((predictions>.5)==labels).float() )\n",
    "\n",
    "    return losses,predictions,tot_acc\n"
   ]
  },
  {
   "cell_type": "code",
   "execution_count": null,
   "metadata": {
    "colab": {
     "base_uri": "https://localhost:8080/"
    },
    "executionInfo": {
     "elapsed": 1275,
     "status": "ok",
     "timestamp": 1748285709774,
     "user": {
      "displayName": "Edoardo Gornetti",
      "userId": "05048424707797899325"
     },
     "user_tz": -120
    },
    "id": "rohkG_ryuy8Z",
    "outputId": "7f505d59-8ac2-492a-ed5d-26c351e48b9c"
   },
   "outputs": [],
   "source": [
    "# %% Test model once\n",
    "\n",
    "model = ANN(doBN=True)\n",
    "losses,predictions,tot_acc = train_model(model,0.01)\n",
    "\n",
    "print(f'Final accuracy = {tot_acc}%')\n"
   ]
  },
  {
   "cell_type": "code",
   "execution_count": null,
   "metadata": {
    "colab": {
     "base_uri": "https://localhost:8080/",
     "height": 545
    },
    "executionInfo": {
     "elapsed": 267,
     "status": "ok",
     "timestamp": 1748285288702,
     "user": {
      "displayName": "Edoardo Gornetti",
      "userId": "05048424707797899325"
     },
     "user_tz": -120
    },
    "id": "G0mevqLauzwB",
    "outputId": "feb485e5-3b67-4769-c29f-244efee1b0c3"
   },
   "outputs": [],
   "source": [
    "# %% Plotting\n",
    "\n",
    "phi = ( 1 + np.sqrt(5) ) / 2\n",
    "fig = plt.figure(figsize=(6*phi,6))\n",
    "\n",
    "plt.plot(losses.detach(),'o',markerfacecolor='w',linewidth=.1)\n",
    "plt.xlabel('Epoch')\n",
    "plt.ylabel('Loss')\n",
    "plt.title('Model losses')\n",
    "\n",
    "plt.savefig('figure23_code_challenge_9.png')\n",
    "\n",
    "plt.show()\n",
    "\n",
    "files.download('figure23_code_challenge_9.png')\n"
   ]
  },
  {
   "cell_type": "code",
   "execution_count": null,
   "metadata": {
    "colab": {
     "base_uri": "https://localhost:8080/",
     "height": 545
    },
    "executionInfo": {
     "elapsed": 240,
     "status": "ok",
     "timestamp": 1748285323716,
     "user": {
      "displayName": "Edoardo Gornetti",
      "userId": "05048424707797899325"
     },
     "user_tz": -120
    },
    "id": "ti6l-E0Lu1s8",
    "outputId": "3db9a8b7-871c-4f18-f363-65b0f0cf75d1"
   },
   "outputs": [],
   "source": [
    "# %% More plotting\n",
    "\n",
    "phi = ( 1 + np.sqrt(5) ) / 2\n",
    "fig = plt.figure(figsize=(6*phi,6))\n",
    "\n",
    "plt.plot(predictions.detach(),'o',markerfacecolor='w',linewidth=.1)\n",
    "plt.xlabel('Data point')\n",
    "plt.ylabel('Probability')\n",
    "plt.title('Model predictions')\n",
    "\n",
    "plt.savefig('figure24_code_challenge_9.png')\n",
    "\n",
    "plt.show()\n",
    "\n",
    "files.download('figure24_code_challenge_9.png')\n"
   ]
  },
  {
   "cell_type": "code",
   "execution_count": null,
   "metadata": {
    "id": "38Lb1ErJu4AL"
   },
   "outputs": [],
   "source": [
    "# %% Parametric experiment on learning rates\n",
    "\n",
    "# Parameters\n",
    "learning_rates   = np.linspace(.001,.1,50)\n",
    "acc_by_learnRate = []\n",
    "all_losses       = np.zeros( (len(learning_rates),num_epochs) )\n",
    "\n",
    "# Loop through learning rates\n",
    "for i,lr in enumerate(learning_rates):\n",
    "\n",
    "    # Generate and run the model\n",
    "    model = ANN(doBN=True)\n",
    "    losses,predictions,tot_acc = train_model(model,lr)\n",
    "\n",
    "    # Store results\n",
    "    acc_by_learnRate.append(tot_acc)\n",
    "    all_losses[i,:] = losses.detach().numpy()\n"
   ]
  },
  {
   "cell_type": "code",
   "execution_count": null,
   "metadata": {
    "colab": {
     "base_uri": "https://localhost:8080/",
     "height": 545
    },
    "executionInfo": {
     "elapsed": 847,
     "status": "ok",
     "timestamp": 1748286234968,
     "user": {
      "displayName": "Edoardo Gornetti",
      "userId": "05048424707797899325"
     },
     "user_tz": -120
    },
    "id": "TiQBVSsFu84m",
    "outputId": "31dbe1ca-be19-4f03-ac37-1427027838c4"
   },
   "outputs": [],
   "source": [
    "# %% Plotting\n",
    "\n",
    "phi = ( 1 + np.sqrt(5) ) / 2\n",
    "fig,ax = plt.subplots(1,2,figsize=(1.5*6*phi,6))\n",
    "\n",
    "ax[0].plot(learning_rates,acc_by_learnRate,'s-')\n",
    "ax[0].set_xlabel('Learning rate')\n",
    "ax[0].set_ylabel('Accuracy')\n",
    "ax[0].set_title('Accuracy by learning rate')\n",
    "\n",
    "cmaps = plt.cm.plasma(np.linspace(.1,.9,len(all_losses.T[1])))\n",
    "for i in range(len(all_losses.T[1])):\n",
    "    ax[1].plot(all_losses.T[:,i],color=cmaps[i])\n",
    "\n",
    "#ax[1].plot(all_losses.T)\n",
    "ax[1].set_title('Losses by learning rate')\n",
    "ax[1].set_xlabel('Epoch number')\n",
    "ax[1].set_ylabel('Loss')\n",
    "\n",
    "plt.savefig('figure25_code_challenge_9.png')\n",
    "\n",
    "plt.show()\n",
    "\n",
    "files.download('figure25_code_challenge_9.png')\n"
   ]
  }
 ],
 "metadata": {
  "colab": {
   "authorship_tag": "ABX9TyPCVh+kKnBpMoI6oXN54Q0I",
   "provenance": []
  },
  "kernelspec": {
   "display_name": "Python 3",
   "name": "python3"
  },
  "language_info": {
   "name": "python"
  }
 },
 "nbformat": 4,
 "nbformat_minor": 0
}
