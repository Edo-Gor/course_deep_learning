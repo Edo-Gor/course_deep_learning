{
 "cells": [
  {
   "cell_type": "code",
   "execution_count": null,
   "metadata": {
    "id": "vxLsu_5_Ao80"
   },
   "outputs": [],
   "source": [
    "# %% Deep learning - Section 11.108\n",
    "#    Code challenge 14: binarised MNIST images\n",
    "\n",
    "#    1) Start drom code from video 11.107\n",
    "#    2) Use the same model architecture and metaparameters\n",
    "#    3) Binarize the images so that each pixel is either 1 or 0\n",
    "#    4) Test the model with these modified data\n",
    "#    5) Optional: use different binarisation strategies (e.g. median split or\n",
    "#       greater than 0)\n",
    "\n",
    "# This code pertains a deep learning course provided by Mike X. Cohen on Udemy:\n",
    "#   > https://www.udemy.com/course/deeplearning_x\n",
    "# The \"base\" code in this repository is adapted (with very minor modifications)\n",
    "# from code developed by the course instructor (Mike X. Cohen), while the\n",
    "# \"exercises\" and the \"code challenges\" contain more original solutions and\n",
    "# creative input from my side. If you are interested in DL (and if you are\n",
    "# reading this statement, chances are that you are), go check out the course, it\n",
    "# is singularly good.\n"
   ]
  },
  {
   "cell_type": "code",
   "execution_count": null,
   "metadata": {
    "id": "eFOW2iaUArr4"
   },
   "outputs": [],
   "source": [
    "# %% Libraries and modules\n",
    "import numpy               as np\n",
    "import matplotlib.pyplot   as plt\n",
    "import torch\n",
    "import torch.nn            as nn\n",
    "import seaborn             as sns\n",
    "import copy\n",
    "import torch.nn.functional as F\n",
    "import pandas              as pd\n",
    "import scipy.stats         as stats\n",
    "import time\n",
    "\n",
    "from torch.utils.data                 import DataLoader,TensorDataset\n",
    "from sklearn.model_selection          import train_test_split\n",
    "from google.colab                     import files\n",
    "from torchsummary                     import summary\n",
    "from IPython                          import display\n",
    "from matplotlib_inline.backend_inline import set_matplotlib_formats\n",
    "set_matplotlib_formats('svg')\n"
   ]
  },
  {
   "cell_type": "code",
   "execution_count": null,
   "metadata": {
    "id": "DzaWpZkK_QI1"
   },
   "outputs": [],
   "source": [
    "# %% Data\n",
    "\n",
    "# Load data\n",
    "data = np.loadtxt(open('sample_data/mnist_train_small.csv','rb'),delimiter=',')\n",
    "\n",
    "# Split labels from data\n",
    "labels = data[:,0]\n",
    "data   = data[:,1:]\n",
    "\n",
    "# Normalise data (original range is (0,255))\n",
    "data_norm = data / np.max(data)\n"
   ]
  },
  {
   "cell_type": "code",
   "execution_count": null,
   "metadata": {
    "id": "06uvS5hvCXLV"
   },
   "outputs": [],
   "source": [
    "# %% Binarise the normalise data\n",
    "\n",
    "split_val = 0.5\n",
    "data_bin  = np.where(data_norm > split_val,1,0)\n"
   ]
  },
  {
   "cell_type": "code",
   "execution_count": null,
   "metadata": {
    "colab": {
     "base_uri": "https://localhost:8080/",
     "height": 590
    },
    "executionInfo": {
     "elapsed": 2365,
     "status": "ok",
     "timestamp": 1750351744288,
     "user": {
      "displayName": "Edoardo Gornetti",
      "userId": "05048424707797899325"
     },
     "user_tz": -120
    },
    "id": "yguVzAt4Cs4G",
    "outputId": "2290621d-f183-41b5-fc03-1bdcd0f0ba52"
   },
   "outputs": [],
   "source": [
    "# %% Plotting\n",
    "\n",
    "phi = ( 1 + np.sqrt(5) ) / 2\n",
    "fig,axs = plt.subplots(3,4,figsize=(6*phi,6))\n",
    "\n",
    "for ax in axs.flatten():\n",
    "\n",
    "    rand_img = np.random.randint(0,high=data_bin.shape[0])\n",
    "    img = np.reshape(data_bin[rand_img,:],(28,28))\n",
    "    ax.imshow(img,cmap='gray')\n",
    "    ax.set_title('The number %i' %labels[rand_img])\n",
    "\n",
    "plt.suptitle(f'How humans see the data\\nSplit at {split_val}',fontsize=18)\n",
    "plt.tight_layout(rect=[0,0,1,.95])\n",
    "\n",
    "plt.savefig('figure14_code_challenge_14.png')\n",
    "\n",
    "plt.show()\n",
    "\n",
    "files.download('figure14_code_challenge_14.png')\n"
   ]
  },
  {
   "cell_type": "code",
   "execution_count": null,
   "metadata": {
    "colab": {
     "base_uri": "https://localhost:8080/",
     "height": 590
    },
    "executionInfo": {
     "elapsed": 2678,
     "status": "ok",
     "timestamp": 1750351769764,
     "user": {
      "displayName": "Edoardo Gornetti",
      "userId": "05048424707797899325"
     },
     "user_tz": -120
    },
    "id": "1w4RpsrvCyLs",
    "outputId": "1295979d-fe5e-46f7-8828-4549816b2382"
   },
   "outputs": [],
   "source": [
    "# %% Plotting\n",
    "\n",
    "phi = ( 1 + np.sqrt(5) ) / 2\n",
    "fig,axs = plt.subplots(3,4,figsize=(6*phi,6))\n",
    "\n",
    "for ax in axs.flatten():\n",
    "\n",
    "    rand_img = np.random.randint(0,high=data_bin.shape[0])\n",
    "    ax.plot(data_bin[rand_img,:],'ko')\n",
    "    ax.set_title('The number %i' %labels[rand_img])\n",
    "\n",
    "plt.suptitle(f'How the FFN model see the data\\nSplit at {split_val}',fontsize=18)\n",
    "plt.tight_layout(rect=[0,0,1,.95])\n",
    "\n",
    "plt.savefig('figure15_code_challenge_14.png')\n",
    "\n",
    "plt.show()\n",
    "\n",
    "files.download('figure15_code_challenge_14.png')\n"
   ]
  },
  {
   "cell_type": "code",
   "execution_count": null,
   "metadata": {
    "id": "P36e5bLKB-hd"
   },
   "outputs": [],
   "source": [
    "# %% Create train and test datasets\n",
    "\n",
    "# Convert to tensor (float and integers)\n",
    "data_tensor   = torch.tensor(data_bin).float()\n",
    "labels_tensor = torch.tensor(labels).long()\n",
    "\n",
    "# Split data with scikitlearn (10% test data)\n",
    "train_data,test_data,train_labels,test_labels = train_test_split(data_tensor,labels_tensor,test_size=0.1)\n",
    "\n",
    "# Convert to PyTorch datasets\n",
    "train_data = TensorDataset(train_data,train_labels)\n",
    "test_data  = TensorDataset(test_data,test_labels)\n",
    "\n",
    "# Convert into DataLoader objects\n",
    "batch_size   = 32\n",
    "train_loader = DataLoader(train_data,batch_size=batch_size,shuffle=True,drop_last=True)\n",
    "test_loader  = DataLoader(test_data,batch_size=test_data.tensors[0].shape[0])\n"
   ]
  },
  {
   "cell_type": "code",
   "execution_count": null,
   "metadata": {
    "id": "aO5LXN3D87TB"
   },
   "outputs": [],
   "source": [
    "# %% Function to generate the model\n",
    "\n",
    "def gen_model():\n",
    "\n",
    "    class mnist_FFN(nn.Module):\n",
    "        def __init__(self):\n",
    "            super().__init__()\n",
    "\n",
    "            # Architecture\n",
    "            self.input  = nn.Linear(784,64)\n",
    "            self.fc1    = nn.Linear( 64,32)\n",
    "            self.fc2    = nn.Linear( 32,32)\n",
    "            self.output = nn.Linear( 32,10)\n",
    "\n",
    "        # Forward propagation (log-softmax because NLLLoss instead of CrossEntropyLoss)\n",
    "        def forward(self,x):\n",
    "\n",
    "            x = F.relu(self.input(x))\n",
    "            x = F.relu(self.fc1(x))\n",
    "            x = F.relu(self.fc2(x))\n",
    "            x = torch.log_softmax( self.output(x),axis=1 )\n",
    "\n",
    "            return x\n",
    "\n",
    "    # Create model instance\n",
    "    ANN = mnist_FFN()\n",
    "\n",
    "    # Loss function\n",
    "    loss_fun = nn.NLLLoss()\n",
    "\n",
    "    # Optimizer (SGD to slow down learning for illustration purpose)\n",
    "    optimizer = torch.optim.SGD(ANN.parameters(),lr=0.01)\n",
    "\n",
    "    return ANN,loss_fun,optimizer\n"
   ]
  },
  {
   "cell_type": "code",
   "execution_count": null,
   "metadata": {
    "colab": {
     "base_uri": "https://localhost:8080/"
    },
    "collapsed": true,
    "executionInfo": {
     "elapsed": 13,
     "status": "ok",
     "timestamp": 1750351800103,
     "user": {
      "displayName": "Edoardo Gornetti",
      "userId": "05048424707797899325"
     },
     "user_tz": -120
    },
    "id": "1P-V22PH62Rx",
    "outputId": "66774883-50e0-4a19-9a97-bc8a75b0a085"
   },
   "outputs": [],
   "source": [
    "# Test the model on one batch\n",
    "\n",
    "ANN,loss_fun,optimizer = gen_model()\n",
    "\n",
    "X,y  = next(iter(train_loader))\n",
    "yHat = ANN(X)\n",
    "\n",
    "# Print log-softmax output (size should be batch_size by output nodes)\n",
    "print(yHat)\n",
    "print(yHat.shape)\n",
    "print()\n",
    "\n",
    "# Print probabilities\n",
    "print(torch.exp(yHat))\n",
    "print()\n",
    "\n",
    "# Compute loss\n",
    "loss = loss_fun(yHat,y)\n",
    "print('Loss: ')\n",
    "print(loss)\n"
   ]
  },
  {
   "cell_type": "code",
   "execution_count": null,
   "metadata": {
    "id": "3BPr1HkE8WXF"
   },
   "outputs": [],
   "source": [
    "# %% Function to train the model\n",
    "\n",
    "def train_model():\n",
    "\n",
    "    # Parameters, model instance, inizialise vars\n",
    "    num_epochs = 60\n",
    "    ANN,loss_fun,optimizer = gen_model()\n",
    "\n",
    "    losses    = []\n",
    "    train_acc = []\n",
    "    test_acc  = []\n",
    "\n",
    "    # Loop over epochs\n",
    "    for epoch_i in range(num_epochs):\n",
    "\n",
    "        # Loop over training batches\n",
    "        batch_acc  = []\n",
    "        batch_loss = []\n",
    "\n",
    "        for X,y in train_loader:\n",
    "\n",
    "            # Forward propagation and loss\n",
    "            yHat = ANN(X)\n",
    "            loss = loss_fun(yHat,y)\n",
    "\n",
    "            # Backpropagation\n",
    "            optimizer.zero_grad()\n",
    "            loss.backward()\n",
    "            optimizer.step()\n",
    "\n",
    "            # Loss and accuracy from this batch\n",
    "            batch_loss.append(loss.item())\n",
    "\n",
    "            matches     = torch.argmax(yHat,axis=1) == y\n",
    "            matches_num = matches.float()\n",
    "            accuracy    = 100 * torch.mean(matches_num)\n",
    "            batch_acc.append(accuracy)\n",
    "\n",
    "        losses.append( np.mean(batch_loss) )\n",
    "        train_acc.append( np.mean(batch_acc) )\n",
    "\n",
    "        # Test accuracy\n",
    "        ANN.eval()\n",
    "\n",
    "        with torch.no_grad():\n",
    "            X,y = next(iter(test_loader))\n",
    "            yHat = ANN(X)\n",
    "            test_acc.append( 100*torch.mean((torch.argmax(yHat,axis=1)==y).float()) )\n",
    "\n",
    "        ANN.train()\n",
    "\n",
    "    return train_acc,test_acc,losses,ANN\n"
   ]
  },
  {
   "cell_type": "code",
   "execution_count": null,
   "metadata": {
    "id": "6FEWUdEM-bTc"
   },
   "outputs": [],
   "source": [
    "# %% Run the training\n",
    "\n",
    "train_acc,test_acc,losses,ANN = train_model()\n"
   ]
  },
  {
   "cell_type": "code",
   "execution_count": null,
   "metadata": {
    "colab": {
     "base_uri": "https://localhost:8080/",
     "height": 563
    },
    "executionInfo": {
     "elapsed": 352,
     "status": "ok",
     "timestamp": 1750352328720,
     "user": {
      "displayName": "Edoardo Gornetti",
      "userId": "05048424707797899325"
     },
     "user_tz": -120
    },
    "id": "OWhWN4BX-iDa",
    "outputId": "dc3b5c9c-1f71-4e4b-90c9-68b7a2539387"
   },
   "outputs": [],
   "source": [
    "# %% Plotting\n",
    "\n",
    "phi = ( 1 + np.sqrt(5) ) / 2\n",
    "fig,ax = plt.subplots(1,2,figsize=(1.5*6*phi,6))\n",
    "\n",
    "ax[0].plot(losses)\n",
    "ax[0].set_xlabel('Epochs')\n",
    "ax[0].set_ylabel('Loss')\n",
    "ax[0].set_ylim([0,3])\n",
    "ax[0].set_title('Model loss')\n",
    "\n",
    "ax[1].plot(train_acc,label='Train accuracy')\n",
    "ax[1].plot(test_acc,label='Test accuracy')\n",
    "ax[1].set_xlabel('Epochs')\n",
    "ax[1].set_ylabel('Accuracy (%)')\n",
    "ax[1].set_ylim([10,100])\n",
    "ax[1].set_title(f'Final model test accuracy: {test_acc[-1]:.2f}%\\nSplit at {split_val}')\n",
    "ax[1].legend()\n",
    "\n",
    "plt.savefig('figure16_code_challenge_14.png')\n",
    "\n",
    "plt.show()\n",
    "\n",
    "files.download('figure16_code_challenge_14.png')\n"
   ]
  },
  {
   "cell_type": "code",
   "execution_count": null,
   "metadata": {
    "colab": {
     "base_uri": "https://localhost:8080/",
     "height": 590
    },
    "executionInfo": {
     "elapsed": 2016,
     "status": "ok",
     "timestamp": 1750352399749,
     "user": {
      "displayName": "Edoardo Gornetti",
      "userId": "05048424707797899325"
     },
     "user_tz": -120
    },
    "id": "nx7tIlwkCVuH",
    "outputId": "2b3ed0ad-cab1-44b6-ae2e-4e9fa24bce01"
   },
   "outputs": [],
   "source": [
    "# %% Exercise 1\n",
    "#    Invert the images so that the numbers are black against a white background. It seems intuitive that the\n",
    "#    model should perform just as well, but it's good to confirm. This is also a useful exercise to learn how\n",
    "#    to invert images, which will become useful when learning about augmenting image datasets.\n",
    "\n",
    "# The model does indeed perform similarly\n",
    "\n",
    "# Flip data and run model as before (flip either binarised or normalised)\n",
    "data_inverted_bin  = 1 - data_bin\n",
    "data_inverted_norm = 1 - data_norm\n",
    "\n",
    "# Plot\n",
    "phi = ( 1 + np.sqrt(5) ) / 2\n",
    "fig,axs = plt.subplots(3,4,figsize=(6*phi,6))\n",
    "\n",
    "for ax in axs.flatten():\n",
    "\n",
    "    rand_img = np.random.randint(0,high=data_inverted_bin.shape[0])\n",
    "    img = np.reshape(data_inverted_bin[rand_img,:],(28,28))\n",
    "    ax.imshow(img,cmap='gray')\n",
    "    ax.set_title('The number %i' %labels[rand_img])\n",
    "\n",
    "plt.suptitle(f'How humans see the data\\nSplit at {split_val}',fontsize=18)\n",
    "plt.tight_layout(rect=[0,0,1,.95])\n",
    "\n",
    "plt.savefig('figure20_code_challenge_14_extra1.png')\n",
    "\n",
    "plt.show()\n",
    "\n",
    "files.download('figure20_code_challenge_14_extra1.png')\n",
    "\n",
    "\n",
    "phi = ( 1 + np.sqrt(5) ) / 2\n",
    "fig,axs = plt.subplots(3,4,figsize=(6*phi,6))\n",
    "\n",
    "for ax in axs.flatten():\n",
    "\n",
    "    rand_img = np.random.randint(0,high=data_inverted_norm.shape[0])\n",
    "    img = np.reshape(data_inverted_norm[rand_img,:],(28,28))\n",
    "    ax.imshow(img,cmap='gray')\n",
    "    ax.set_title('The number %i' %labels[rand_img])\n",
    "\n",
    "plt.suptitle('How humans see the data',fontsize=18)\n",
    "plt.tight_layout(rect=[0,0,1,.95])\n",
    "\n",
    "plt.savefig('figure21_code_challenge_14_extra1.png')\n",
    "\n",
    "plt.show()\n",
    "\n",
    "files.download('figure21_code_challenge_14_extra1.png')\n"
   ]
  }
 ],
 "metadata": {
  "colab": {
   "authorship_tag": "ABX9TyMv5XCU0yBYjIQTaeESXrRu",
   "provenance": []
  },
  "kernelspec": {
   "display_name": "Python 3",
   "name": "python3"
  },
  "language_info": {
   "name": "python"
  }
 },
 "nbformat": 4,
 "nbformat_minor": 0
}
