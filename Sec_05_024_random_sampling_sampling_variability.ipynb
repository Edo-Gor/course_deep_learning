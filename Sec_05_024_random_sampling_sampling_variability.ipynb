{
 "cells": [
  {
   "cell_type": "code",
   "execution_count": null,
   "metadata": {
    "id": "-D1TRImzzpIm"
   },
   "outputs": [],
   "source": [
    "# %% Deep learning - Section 5.24\n",
    "#    Random sampling and sampling variability\n",
    "\n",
    "# This code pertains a deep learning course provided by Mike X. Cohen on Udemy:\n",
    "#   > https://www.udemy.com/course/deeplearning_x\n",
    "# The \"base\" code in this repository is adapted (with very minor modifications)\n",
    "# from code developed by the course instructor (Mike X. Cohen), while the \n",
    "# \"exercises\" and the \"code challenges\" contain more original solutions and \n",
    "# creative input from my side. If you are interested in DL (and if you are \n",
    "# reading this statement, chances are that you are), go check out the course, it\n",
    "# is singularly good.\n"
   ]
  },
  {
   "cell_type": "code",
   "execution_count": null,
   "metadata": {
    "id": "25NfGeL1zyr-"
   },
   "outputs": [],
   "source": [
    "# %% Libraries and modules\n",
    "import numpy             as np\n",
    "import matplotlib.pyplot as plt\n",
    "import copy\n",
    "\n",
    "from google.colab                     import files\n",
    "from matplotlib_inline.backend_inline import set_matplotlib_formats\n",
    "set_matplotlib_formats('svg')\n"
   ]
  },
  {
   "cell_type": "code",
   "execution_count": null,
   "metadata": {
    "colab": {
     "base_uri": "https://localhost:8080/"
    },
    "executionInfo": {
     "elapsed": 28,
     "status": "ok",
     "timestamp": 1740266155587,
     "user": {
      "displayName": "Edoardo Gornetti",
      "userId": "05048424707797899325"
     },
     "user_tz": -60
    },
    "id": "q-yQPP03z1Pb",
    "outputId": "d80de86c-01b6-445e-c0de-f5953cd4cce4"
   },
   "outputs": [],
   "source": [
    "# %% Sampling variability\n",
    "\n",
    "x = [1,2,4,6,5,4,0,-4,5,-2,6,10,-9,1,3,-6]\n",
    "n = len(x)\n",
    "\n",
    "popmean  = np.mean(x)\n",
    "sample   = np.random.choice(x,size=5,replace=True)\n",
    "sampmean = np.mean(sample)\n",
    "\n",
    "print(f'Population mean: {popmean}')\n",
    "print(f'Sample mean: {sampmean}')\n"
   ]
  },
  {
   "cell_type": "code",
   "execution_count": null,
   "metadata": {
    "colab": {
     "base_uri": "https://localhost:8080/",
     "height": 436
    },
    "executionInfo": {
     "elapsed": 731,
     "status": "ok",
     "timestamp": 1740267270605,
     "user": {
      "displayName": "Edoardo Gornetti",
      "userId": "05048424707797899325"
     },
     "user_tz": -60
    },
    "id": "KP46acTjz1b9",
    "outputId": "0451169f-6717-45e7-c32d-b11b2d0eee45"
   },
   "outputs": [],
   "source": [
    "# %% Random sampling\n",
    "\n",
    "# Data\n",
    "nExperiments = 10000\n",
    "sampleMeans  = np.zeros(nExperiments)\n",
    "\n",
    "for i in range(nExperiments):\n",
    "    sample         = np.random.choice(x,size=5,replace=True)\n",
    "    sampleMeans[i] = np.mean(sample)\n",
    "\n",
    "# Plotting\n",
    "plt.hist(sampleMeans,bins=40,density=True)\n",
    "plt.plot([popmean,popmean],[0,.3])\n",
    "plt.ylabel('Count')\n",
    "plt.xlabel('Sample mean')\n",
    "\n",
    "plt.savefig('figure5_random_sampling.png')\n",
    "\n",
    "plt.show()\n",
    "\n",
    "files.download('figure5_random_sampling.png')\n"
   ]
  }
 ],
 "metadata": {
  "colab": {
   "authorship_tag": "ABX9TyPDmAFE4R9tq6GUfKn7PC8n",
   "provenance": []
  },
  "kernelspec": {
   "display_name": "Python 3",
   "name": "python3"
  },
  "language_info": {
   "name": "python"
  }
 },
 "nbformat": 4,
 "nbformat_minor": 0
}
