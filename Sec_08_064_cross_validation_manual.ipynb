{
 "cells": [
  {
   "cell_type": "code",
   "execution_count": null,
   "metadata": {
    "id": "le5MsLuthBqv"
   },
   "outputs": [],
   "source": [
    "# %% Deep learning - Section 8.64\n",
    "#    Cross-validation - Manual separation\n",
    "\n",
    "# This code pertains a deep learning course provided by Mike X. Cohen on Udemy:\n",
    "#   > https://www.udemy.com/course/deeplearning_x\n",
    "# The \"base\" code in this repository is adapted (with very minor modifications)\n",
    "# from code developed by the course instructor (Mike X. Cohen), while the\n",
    "# \"exercises\" and the \"code challenges\" contain more original solutions and\n",
    "# creative input from my side. If you are interested in DL (and if you are\n",
    "# reading this statement, chances are that you are), go check out the course, it\n",
    "# is singularly good.\n"
   ]
  },
  {
   "cell_type": "code",
   "execution_count": null,
   "metadata": {
    "id": "ty5MFy8KhV0e"
   },
   "outputs": [],
   "source": [
    "# %% Libraries and modules\n",
    "import numpy               as np\n",
    "import matplotlib.pyplot   as plt\n",
    "import torch\n",
    "import torch.nn            as nn\n",
    "import seaborn             as sns\n",
    "import copy\n",
    "import torch.nn.functional as F\n",
    "\n",
    "from google.colab                     import files\n",
    "from torchsummary                     import summary\n",
    "from matplotlib_inline.backend_inline import set_matplotlib_formats\n",
    "set_matplotlib_formats('svg')\n"
   ]
  },
  {
   "cell_type": "code",
   "execution_count": null,
   "metadata": {
    "id": "0jCla1RLhaKf"
   },
   "outputs": [],
   "source": [
    "# %% Import Iris dataset\n",
    "\n",
    "iris = sns.load_dataset('iris')\n",
    "\n",
    "# Convert from pandas df to tensor\n",
    "data = torch.tensor(iris[iris.columns[0:4]].values).float()\n",
    "\n",
    "# Species to numbers\n",
    "labels = torch.zeros(len(data),dtype=torch.long)\n",
    "labels[iris.species=='setosa']     = 0\n",
    "labels[iris.species=='versicolor'] = 1\n",
    "labels[iris.species=='virginica']  = 2\n"
   ]
  },
  {
   "cell_type": "code",
   "execution_count": null,
   "metadata": {
    "id": "Bq64DKwlh1_P"
   },
   "outputs": [],
   "source": [
    "# %% Separate data into train set and test set (no devset)\n",
    "\n",
    "# Proportion of training examples\n",
    "prop_training = .8\n",
    "num_training  = int(len(labels)*prop_training)\n",
    "\n",
    "# Preallocate boolean vector to select data and labels\n",
    "train_test_bool = np.zeros(len(labels),dtype=bool)\n",
    "\n",
    "# Is it the correct way to select samples? No because it gets only first 80%\n",
    "train_test_bool[range(num_training)] = True\n",
    "\n",
    "# Use a random selection instead\n",
    "train_test_bool = np.zeros(len(labels),dtype=bool)\n",
    "item4training   = np.random.choice(range(len(labels)),num_training,replace=False)\n",
    "train_test_bool[item4training] = True\n",
    "\n",
    "print(f'Number of training examples: \\n{train_test_bool}')\n"
   ]
  },
  {
   "cell_type": "code",
   "execution_count": null,
   "metadata": {
    "colab": {
     "base_uri": "https://localhost:8080/"
    },
    "executionInfo": {
     "elapsed": 10,
     "status": "ok",
     "timestamp": 1743888956939,
     "user": {
      "displayName": "Edoardo Gornetti",
      "userId": "05048424707797899325"
     },
     "user_tz": -120
    },
    "id": "y-8VvGgpkKZx",
    "outputId": "269bcf4e-8798-4514-c9b0-9930c82af8a4"
   },
   "outputs": [],
   "source": [
    "# %% Test wehther the selection is balanced\n",
    "\n",
    "print(f'Average of all data: {torch.mean(labels.float())}') # 1 by definition\n",
    "print(f'Average of training data: {torch.mean(labels[train_test_bool].float()):.4f}') # Should be ~1\n",
    "print(f'Average of test data: {torch.mean(labels[~train_test_bool].float()):.4f}')    # Should be ~1\n"
   ]
  },
  {
   "cell_type": "code",
   "execution_count": null,
   "metadata": {
    "colab": {
     "base_uri": "https://localhost:8080/"
    },
    "executionInfo": {
     "elapsed": 8,
     "status": "ok",
     "timestamp": 1743886676718,
     "user": {
      "displayName": "Edoardo Gornetti",
      "userId": "05048424707797899325"
     },
     "user_tz": -120
    },
    "id": "M4hCYx9snmQ8",
    "outputId": "6a4d5aa7-606b-4852-d576-eef32aedb0f5"
   },
   "outputs": [],
   "source": [
    "# %% Inspect sizes\n",
    "\n",
    "print(data.shape)\n",
    "print(data[train_test_bool,:].shape)\n",
    "print(data[~train_test_bool,:].shape)\n"
   ]
  },
  {
   "cell_type": "code",
   "execution_count": null,
   "metadata": {
    "id": "3s6FI2DImQeC"
   },
   "outputs": [],
   "source": [
    "# generate the model\n",
    "\n",
    "# Architecture\n",
    "ANNiris = nn.Sequential(\n",
    "             nn.Linear(4,64),  # input layer\n",
    "             nn.ReLU(),        # a.f.\n",
    "             nn.Linear(64,64), # hidden layer\n",
    "             nn.ReLU(),        # a.f.\n",
    "             nn.Linear(64,3)    # Output layer\n",
    "             )\n",
    "\n",
    "# Loss function\n",
    "loss_fun = nn.CrossEntropyLoss()\n",
    "\n",
    "# Optimizer\n",
    "optimizer = torch.optim.SGD(ANNiris.parameters(),lr=0.01)\n"
   ]
  },
  {
   "cell_type": "code",
   "execution_count": null,
   "metadata": {
    "id": "ggLNMt6rnOkZ"
   },
   "outputs": [],
   "source": [
    "# %% Train and test the model,\n",
    "\n",
    "num_epochs = 1000\n",
    "\n",
    "# Initialise losses\n",
    "losses      = torch.zeros(num_epochs)\n",
    "ongoing_acc = []\n",
    "\n",
    "# Loop over epochs\n",
    "for epoch_i in range(num_epochs):\n",
    "\n",
    "    # Forward propagation\n",
    "    yHat = ANNiris(data[train_test_bool,:])\n",
    "\n",
    "    # Compute accuracy\n",
    "    ongoing_acc.append( 100*torch.mean( (torch.argmax(yHat,axis=1)==labels[train_test_bool]).float() ) )\n",
    "\n",
    "    # Compute loss\n",
    "    loss = loss_fun(yHat,labels[train_test_bool])\n",
    "    losses[epoch_i] = loss\n",
    "\n",
    "    # Backpropagation\n",
    "    optimizer.zero_grad()\n",
    "    loss.backward()\n",
    "    optimizer.step()\n"
   ]
  },
  {
   "cell_type": "code",
   "execution_count": null,
   "metadata": {
    "colab": {
     "base_uri": "https://localhost:8080/"
    },
    "executionInfo": {
     "elapsed": 45,
     "status": "ok",
     "timestamp": 1743888966568,
     "user": {
      "displayName": "Edoardo Gornetti",
      "userId": "05048424707797899325"
     },
     "user_tz": -120
    },
    "id": "Xu5M2cXCnjr7",
    "outputId": "549fba11-b93f-4bee-b5ca-ac0129eaa780"
   },
   "outputs": [],
   "source": [
    "# %% Compute train and test accuracies\n",
    "\n",
    "# Final forward pass using \"trainig data\"\n",
    "predictions = ANNiris(data[train_test_bool,:])\n",
    "train_acc   = 100*torch.mean( (torch.argmax(predictions,axis=1)==labels[train_test_bool]).float() )\n",
    "\n",
    "# Final forward pass using \"test data\"\n",
    "predictions = ANNiris(data[~train_test_bool,:])\n",
    "test_acc    = 100*torch.mean( (torch.argmax(predictions,axis=1)==labels[~train_test_bool]).float() )\n",
    "\n",
    "# Print\n",
    "print(f'Final train accuracy: {train_acc:.2f}')\n",
    "print(f'Final test accuracy: {test_acc:.2f}')\n"
   ]
  },
  {
   "cell_type": "code",
   "execution_count": null,
   "metadata": {
    "colab": {
     "base_uri": "https://localhost:8080/",
     "height": 397
    },
    "executionInfo": {
     "elapsed": 659,
     "status": "ok",
     "timestamp": 1743888909322,
     "user": {
      "displayName": "Edoardo Gornetti",
      "userId": "05048424707797899325"
     },
     "user_tz": -120
    },
    "id": "yavW6RFpqrbX",
    "outputId": "e731e677-7cdb-4f5f-f380-4b0f7773f338"
   },
   "outputs": [],
   "source": [
    "# %% Inspect losses and accuracies\n",
    "\n",
    "fig,ax = plt.subplots(1,2,figsize=(12,4))\n",
    "\n",
    "ax[0].plot(losses.detach())\n",
    "ax[0].set_ylabel('Loss')\n",
    "ax[0].set_xlabel('Epoch')\n",
    "ax[0].set_title('Losses over epochs')\n",
    "\n",
    "ax[1].plot(ongoing_acc)\n",
    "ax[1].set_ylabel('Accuracy')\n",
    "ax[1].set_xlabel('Epoch')\n",
    "ax[1].set_title('Accuracy over epochs')\n",
    "\n",
    "plt.savefig('figure1_cross_validation_manual.png')\n",
    "\n",
    "plt.show()\n",
    "\n",
    "files.download('figure1_cross_validation_manual.png')\n"
   ]
  },
  {
   "cell_type": "code",
   "execution_count": null,
   "metadata": {
    "colab": {
     "base_uri": "https://localhost:8080/"
    },
    "executionInfo": {
     "elapsed": 39,
     "status": "ok",
     "timestamp": 1743888934052,
     "user": {
      "displayName": "Edoardo Gornetti",
      "userId": "05048424707797899325"
     },
     "user_tz": -120
    },
    "id": "EbKnWpgrrwEW",
    "outputId": "8f9fa47c-a7f7-40a5-ba68-700dfa54afe5"
   },
   "outputs": [],
   "source": [
    "# %% Exercise 1\n",
    "#    Randomly assigning data samples to be in the train vs test phase produced a statistical balance, but it was\n",
    "#    not perfect. Write an algorithm that will guarantee a balance of flower types while also randomly assigning\n",
    "#    samples to be in train vs. test.\n",
    "\n",
    "# Select 80% of data from each label class\n",
    "train_test_bool = np.zeros(len(labels),dtype=bool)\n",
    "\n",
    "for l in labels.unique():\n",
    "\n",
    "    l_idx  = np.where(labels==l)[0]\n",
    "    l_prop = int(len(l_idx)*prop_training)\n",
    "\n",
    "    item4training = np.random.choice(l_idx,l_prop,replace=False)\n",
    "    train_test_bool[item4training] = True\n",
    "\n",
    "print(f'Number of training examples: \\n{train_test_bool}')\n",
    "\n",
    "# Test whether the selection is balanced\n",
    "print(f'Average of all data: {torch.mean(labels.float())}') # 1 by definition\n",
    "print(f'Average of training data: {torch.mean(labels[train_test_bool].float()):.4f}') # Should be 1\n",
    "print(f'Average of test data: {torch.mean(labels[~train_test_bool].float()):.4f}')    # Should be 1\n"
   ]
  },
  {
   "cell_type": "code",
   "execution_count": null,
   "metadata": {
    "colab": {
     "base_uri": "https://localhost:8080/"
    },
    "executionInfo": {
     "elapsed": 6,
     "status": "ok",
     "timestamp": 1743888971573,
     "user": {
      "displayName": "Edoardo Gornetti",
      "userId": "05048424707797899325"
     },
     "user_tz": -120
    },
    "id": "pxiTTijEr7j1",
    "outputId": "260c2d8b-2ff4-4387-b874-c962ed1c595e"
   },
   "outputs": [],
   "source": [
    "# %% Exercise 2\n",
    "#    Revert the code to its original form -- with the strong imbalance in flower types. Then train the model. What are\n",
    "#    the train and test accuracies? Compute the accuracy separately for each type of flower to see whether the model\n",
    "#    learned some categories, or whether it performed equally on all three categories. Are you surprised at the results?\n",
    "\n",
    "# Compute train and test accuracies (re-run code above with biased selection)\n",
    "\n",
    "# Final forward pass using \"trainig data\"\n",
    "predictions = ANNiris(data[train_test_bool,:])\n",
    "pred_labels = torch.argmax(predictions, axis=1)\n",
    "\n",
    "print(f'Final train accuracy: {train_acc:.2f}%')\n",
    "\n",
    "for l in [0,1,2]:\n",
    "    l_idx = labels[train_test_bool] == l\n",
    "    l_acc = 100 * torch.mean((pred_labels[l_idx] == l).float())\n",
    "    print(f'Accuracy for label {l}: {l_acc:.2f}%')\n",
    "\n",
    "print( )\n",
    "\n",
    "# Final forward pass using \"trainig data\"\n",
    "predictions = ANNiris(data[~train_test_bool,:])\n",
    "pred_labels = torch.argmax(predictions, axis=1)\n",
    "\n",
    "print(f'Final test accuracy: {test_acc:.2f}%')\n",
    "\n",
    "for l in [0,1,2]:\n",
    "    l_idx = labels[~train_test_bool] == l\n",
    "    l_acc = 100 * torch.mean((pred_labels[l_idx] == l).float())\n",
    "    print(f'Accuracy for label {l}: {l_acc:.2f}%')\n",
    "\n",
    "# The train accuracy is lower, as one would expect because there are fewer example\n",
    "# in the training dataset; in the test accuracy, label 0 and 1 are basically absent,\n",
    "# so the whole accuracy is given by the ability to discriminate labels 2 alone\n"
   ]
  }
 ],
 "metadata": {
  "colab": {
   "authorship_tag": "ABX9TyMczd9W6WEqVj1qD9p83Pxw",
   "provenance": []
  },
  "kernelspec": {
   "display_name": "Python 3",
   "name": "python3"
  },
  "language_info": {
   "name": "python"
  }
 },
 "nbformat": 4,
 "nbformat_minor": 0
}
