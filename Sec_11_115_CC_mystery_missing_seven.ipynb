{
 "cells": [
  {
   "cell_type": "code",
   "execution_count": null,
   "metadata": {
    "id": "25zhL__VPsVo"
   },
   "outputs": [],
   "source": [
    "# %% Deep learning - Section 11.115\n",
    "#    Code challenge 18: the mystery of the missing 7\n",
    "\n",
    "#    1) Train the MNIST-FFN on all the numbers except the 7s\n",
    "#    2) Test the model on the 7s and see how it behaves\n",
    "#       > Plot final accuracy for 7s\n",
    "#       > Plot some examples of misclassification\n",
    "#       > Plot the proportion of 7s labelled as other digits\n",
    "#    3) Bonus: try dropout regularisation\n",
    "\n",
    "# This code pertains a deep learning course provided by Mike X. Cohen on Udemy:\n",
    "#   > https://www.udemy.com/course/deeplearning_x\n",
    "# The \"base\" code in this repository is adapted (with very minor modifications)\n",
    "# from code developed by the course instructor (Mike X. Cohen), while the\n",
    "# \"exercises\" and the \"code challenges\" contain more original solutions and\n",
    "# creative input from my side. If you are interested in DL (and if you are\n",
    "# reading this statement, chances are that you are), go check out the course, it\n",
    "# is singularly good.\n"
   ]
  },
  {
   "cell_type": "code",
   "execution_count": null,
   "metadata": {
    "id": "FRO0HcaDs-yU"
   },
   "outputs": [],
   "source": [
    "# %% Libraries and modules\n",
    "import numpy               as np\n",
    "import matplotlib.pyplot   as plt\n",
    "import torch\n",
    "import torch.nn            as nn\n",
    "import seaborn             as sns\n",
    "import copy\n",
    "import torch.nn.functional as F\n",
    "import pandas              as pd\n",
    "import scipy.stats         as stats\n",
    "import time\n",
    "\n",
    "from torch.utils.data                 import DataLoader,TensorDataset\n",
    "from sklearn.model_selection          import train_test_split\n",
    "from google.colab                     import files\n",
    "from torchsummary                     import summary\n",
    "from IPython                          import display\n",
    "from matplotlib_inline.backend_inline import set_matplotlib_formats\n",
    "set_matplotlib_formats('svg')\n"
   ]
  },
  {
   "cell_type": "code",
   "execution_count": null,
   "metadata": {
    "id": "5Z3fnDYltCHO"
   },
   "outputs": [],
   "source": [
    "# %% Data\n",
    "\n",
    "# Load data\n",
    "data = np.loadtxt(open('sample_data/mnist_train_small.csv','rb'),delimiter=',')\n",
    "\n",
    "# Split labels from data\n",
    "labels = data[:,0]\n",
    "data   = data[:,1:]\n",
    "\n",
    "# Normalise data (original range is (0,255))\n",
    "data_norm = data / np.max(data)\n"
   ]
  },
  {
   "cell_type": "code",
   "execution_count": null,
   "metadata": {
    "id": "VhWE_CIrtEC7"
   },
   "outputs": [],
   "source": [
    "# %% Create train and test datasets\n",
    "#    Here train = all but 7s, and test = 7s\n",
    "\n",
    "# Convert to tensor (float and integers) the scrambled data\n",
    "data_tensor   = torch.tensor(data_norm).float()\n",
    "labels_tensor = torch.tensor(labels).long()\n",
    "\n",
    "# Split data in 7s and no-7s\n",
    "train_data,train_labels = data_tensor[labels_tensor!=8], labels_tensor[labels_tensor!=8]\n",
    "test_data,test_labels   = data_tensor[labels_tensor==8], labels_tensor[labels_tensor==8]\n",
    "\n",
    "# Convert to PyTorch datasets\n",
    "train_data = TensorDataset(train_data,train_labels)\n",
    "test_data  = TensorDataset(test_data,test_labels)\n",
    "\n",
    "# Convert into DataLoader objects\n",
    "batch_size   = 32\n",
    "train_loader = DataLoader(train_data,batch_size=batch_size,shuffle=True,drop_last=True)\n",
    "test_loader  = DataLoader(test_data,batch_size=test_data.tensors[0].shape[0])\n"
   ]
  },
  {
   "cell_type": "code",
   "execution_count": null,
   "metadata": {
    "id": "P40Lr3Pv52v-"
   },
   "outputs": [],
   "source": [
    "# %% Function to generate the model\n",
    "\n",
    "def gen_model(drop_rate):\n",
    "\n",
    "    class mnist_FFN(nn.Module):\n",
    "        def __init__(self,dropout_rate):\n",
    "            super().__init__()\n",
    "\n",
    "            # Architecture\n",
    "            self.input  = nn.Linear(784,64)\n",
    "            self.fc1    = nn.Linear( 64,32)\n",
    "            self.fc2    = nn.Linear( 32,32)\n",
    "            self.output = nn.Linear( 32,10)\n",
    "\n",
    "            # Dropout\n",
    "            self.dr = dropout_rate\n",
    "\n",
    "        # Forward propagation\n",
    "        def forward(self,x):\n",
    "\n",
    "            x = F.relu(self.input(x))\n",
    "            x = F.dropout(x,p=self.dr,training=self.training)\n",
    "            x = F.relu(self.fc1(x))\n",
    "            x = F.dropout(x,p=self.dr,training=self.training)\n",
    "            x = F.relu(self.fc2(x))\n",
    "            x = F.dropout(x,p=self.dr,training=self.training)\n",
    "\n",
    "            x = self.output(x)\n",
    "\n",
    "            return x\n",
    "\n",
    "    # Create model instance\n",
    "    ANN = mnist_FFN(drop_rate)\n",
    "\n",
    "    # Loss function\n",
    "    loss_fun = nn.CrossEntropyLoss()\n",
    "\n",
    "    # Optimizer (SGD to slow down learning for illustration purpose)\n",
    "    optimizer = torch.optim.SGD(ANN.parameters(),lr=0.01)\n",
    "\n",
    "    return ANN,loss_fun,optimizer\n"
   ]
  },
  {
   "cell_type": "code",
   "execution_count": null,
   "metadata": {
    "id": "voQ68Xt-55ZJ"
   },
   "outputs": [],
   "source": [
    "# %% Function to train the model\n",
    "\n",
    "def train_model(drop_rate):\n",
    "\n",
    "    # Parameters, model instance, inizialise vars\n",
    "    num_epochs = 60\n",
    "    ANN,loss_fun,optimizer = gen_model(drop_rate)\n",
    "\n",
    "    losses_trn = []\n",
    "    losses_tst = []\n",
    "    train_acc  = []\n",
    "    test_acc   = []\n",
    "\n",
    "    # Loop over epochs\n",
    "    for epoch_i in range(num_epochs):\n",
    "\n",
    "        # Loop over training batches\n",
    "        batch_acc  = []\n",
    "        batch_loss = []\n",
    "\n",
    "        for X,y in train_loader:\n",
    "\n",
    "            # Forward propagation and loss\n",
    "            yHat = ANN(X)\n",
    "            loss = loss_fun(yHat,y)\n",
    "\n",
    "            # Backpropagation\n",
    "            optimizer.zero_grad()\n",
    "            loss.backward()\n",
    "            optimizer.step()\n",
    "\n",
    "            # Loss and accuracy from this batch\n",
    "            batch_loss.append(loss.item())\n",
    "\n",
    "            matches     = torch.argmax(yHat,axis=1) == y\n",
    "            matches_num = matches.float()\n",
    "            accuracy    = 100 * torch.mean(matches_num)\n",
    "            batch_acc.append(accuracy)\n",
    "\n",
    "        losses_trn.append( np.mean(batch_loss) )\n",
    "        train_acc.append( np.mean(batch_acc) )\n",
    "\n",
    "        # Test accuracy\n",
    "        ANN.eval()\n",
    "\n",
    "        with torch.no_grad():\n",
    "            X,y = next(iter(test_loader))\n",
    "            yHat = ANN(X)\n",
    "        test_acc.append( 100*torch.mean((torch.argmax(yHat,axis=1)==y).float()) )\n",
    "        loss = loss_fun(yHat,y)\n",
    "        losses_tst.append(loss.item())\n",
    "\n",
    "        ANN.train()\n",
    "\n",
    "    return train_acc,test_acc,losses_trn,losses_tst,ANN\n"
   ]
  },
  {
   "cell_type": "code",
   "execution_count": null,
   "metadata": {
    "id": "65MiYa7u7aMa"
   },
   "outputs": [],
   "source": [
    "# %% Fit the model\n",
    "\n",
    "drop_rate = 0\n",
    "train_acc,test_acc,losses_trn,losses_tst,ANN = train_model(drop_rate)\n"
   ]
  },
  {
   "cell_type": "code",
   "execution_count": null,
   "metadata": {
    "colab": {
     "base_uri": "https://localhost:8080/",
     "height": 545
    },
    "executionInfo": {
     "elapsed": 541,
     "status": "ok",
     "timestamp": 1752095466988,
     "user": {
      "displayName": "Edoardo Gornetti",
      "userId": "05048424707797899325"
     },
     "user_tz": -120
    },
    "id": "ANzxpqkW7jiW",
    "outputId": "0b5d32a6-e6ae-43d0-9da2-fc2b814058c3"
   },
   "outputs": [],
   "source": [
    "# %% Plotting\n",
    "\n",
    "phi = ( 1 + np.sqrt(5) ) / 2\n",
    "fig,ax = plt.subplots(1,2,figsize=(1.5*6*phi,6))\n",
    "\n",
    "ax[0].plot(losses_trn,label='Non-7s loss')\n",
    "ax[0].plot(losses_tst,label='7s loss')\n",
    "ax[0].set_xlabel('Epochs')\n",
    "ax[0].set_ylabel('Loss')\n",
    "ax[0].set_ylim([-2.5,20])\n",
    "ax[0].set_title('Model loss')\n",
    "ax[0].legend()\n",
    "\n",
    "ax[1].plot(train_acc,label='Non-7s accuracy')\n",
    "ax[1].plot(test_acc,label='7s accuracy')\n",
    "ax[1].set_xlabel('Epochs')\n",
    "ax[1].set_ylabel('Accuracy (%)')\n",
    "ax[1].set_ylim([-10,100])\n",
    "ax[1].set_title(f'Final model test accuracy on 7s: {test_acc[-1]:.2f}%')\n",
    "ax[1].legend()\n",
    "\n",
    "plt.savefig('figure72_code_challenge_18.png')\n",
    "\n",
    "plt.show()\n",
    "\n",
    "files.download('figure72_code_challenge_18.png')\n"
   ]
  },
  {
   "cell_type": "code",
   "execution_count": null,
   "metadata": {
    "colab": {
     "base_uri": "https://localhost:8080/",
     "height": 591
    },
    "executionInfo": {
     "elapsed": 1198,
     "status": "ok",
     "timestamp": 1752095502156,
     "user": {
      "displayName": "Edoardo Gornetti",
      "userId": "05048424707797899325"
     },
     "user_tz": -120
    },
    "id": "errrKPpC8dzH",
    "outputId": "ac6545f9-6045-4593-a2ef-e992f8d87a14"
   },
   "outputs": [],
   "source": [
    "# %% Plotting\n",
    "\n",
    "phi = (1 + np.sqrt(5)) / 2\n",
    "fig,axs = plt.subplots(3,4,figsize=(6*phi,6))\n",
    "\n",
    "# Put model in evaluation mode, get the 7s, and the model prediction\n",
    "ANN.eval()\n",
    "X7s, y7s = test_data.tensors\n",
    "with torch.no_grad():\n",
    "    predictions = torch.argmax(ANN(X7s),dim=1)\n",
    "\n",
    "# Choose random indices from test set\n",
    "rand_indices = np.random.choice(X7s.shape[0],size=12,replace=False)\n",
    "\n",
    "for ax, idx in zip(axs.flatten(),rand_indices):\n",
    "    img = X7s[idx].reshape(28,28)\n",
    "    pred_label = predictions[idx].item()\n",
    "\n",
    "    ax.imshow(img,cmap='gray')\n",
    "    ax.set_title(f'Predicted digit: {pred_label}')\n",
    "    ax.axis('off')\n",
    "\n",
    "plt.suptitle('Model predictions on 7s',fontsize=14)\n",
    "plt.tight_layout(rect=[0,0,1,0.95])\n",
    "\n",
    "plt.savefig('figure73_code_challenge_18.png')\n",
    "\n",
    "plt.show()\n",
    "\n",
    "files.download('figure73_code_challenge_18.png')\n"
   ]
  },
  {
   "cell_type": "code",
   "execution_count": null,
   "metadata": {
    "colab": {
     "base_uri": "https://localhost:8080/",
     "height": 545
    },
    "executionInfo": {
     "elapsed": 437,
     "status": "ok",
     "timestamp": 1752095531089,
     "user": {
      "displayName": "Edoardo Gornetti",
      "userId": "05048424707797899325"
     },
     "user_tz": -120
    },
    "id": "aQ94SV-09L4Q",
    "outputId": "46dbef4c-6665-454c-c036-e0094e6fd170"
   },
   "outputs": [],
   "source": [
    "# %% Plotting\n",
    "\n",
    "# Count occurrences of each predicted label, and get proportion\n",
    "pred_counts = torch.bincount(predictions,minlength=10).numpy()\n",
    "pred_proportions = pred_counts / len(predictions)\n",
    "\n",
    "# Plot\n",
    "phi = (1 + np.sqrt(5)) / 2\n",
    "plt.figure(figsize=(6*phi,6))\n",
    "\n",
    "plt.bar(np.arange(10),pred_proportions,zorder=3)\n",
    "plt.xticks(np.arange(10))\n",
    "plt.xlabel('Predicted label')\n",
    "plt.ylabel('Proportion of 7s classified as other digits')\n",
    "plt.title('Misclassification distribution of digit 7')\n",
    "plt.grid(axis='y',linestyle='--',alpha=0.7)\n",
    "\n",
    "plt.savefig('figure74_code_challenge_18.png')\n",
    "\n",
    "plt.show()\n",
    "\n",
    "files.download('figure74_code_challenge_18.png')\n"
   ]
  },
  {
   "cell_type": "code",
   "execution_count": null,
   "metadata": {
    "colab": {
     "base_uri": "https://localhost:8080/",
     "height": 591
    },
    "executionInfo": {
     "elapsed": 1731,
     "status": "ok",
     "timestamp": 1752095344317,
     "user": {
      "displayName": "Edoardo Gornetti",
      "userId": "05048424707797899325"
     },
     "user_tz": -120
    },
    "id": "PuY6CLgp_Skq",
    "outputId": "dbccee98-6e97-4fd0-c38b-f86fb409e70e"
   },
   "outputs": [],
   "source": [
    "# %% Exercise 1\n",
    "#    In the image matrix we created above, we picked random 7's and showed their labels. Create another image\n",
    "#    matrix to show all of the times that a 7 was labeled \"0\". How do those 7's look? You can re-run this for\n",
    "#    the other numbers.\n",
    "\n",
    "# Sometimes the misclassification is nearly \"understandable\", in some other\n",
    "# cases it just feels quite random\n",
    "\n",
    "# Plotting\n",
    "phi = (1 + np.sqrt(5)) / 2\n",
    "fig,axs = plt.subplots(3,4,figsize=(6*phi,6))\n",
    "\n",
    "misclassified_as_0 = torch.where(predictions == 0)[0]\n",
    "n_examples         = min(12, len(misclassified_as_0))\n",
    "chosen_indices     = np.random.choice(misclassified_as_0.numpy(),size=n_examples,replace=False)\n",
    "\n",
    "for ax, idx in zip(axs.flatten(),chosen_indices):\n",
    "    img = X7s[idx].reshape(28,28)\n",
    "    pred_label = predictions[idx].item()\n",
    "\n",
    "    ax.imshow(img,cmap='gray')\n",
    "    ax.set_title(f'Predicted: {pred_label}')\n",
    "    ax.axis('off')\n",
    "\n",
    "# If fewer than 12 images, hide unused subplots\n",
    "for ax in axs.flatten()[n_examples:]:\n",
    "    ax.axis('off')\n",
    "\n",
    "plt.suptitle('7s Misclassified as 0',fontsize=14)\n",
    "plt.tight_layout(rect=[0,0,1,0.95])\n",
    "\n",
    "plt.savefig('figure75_code_challenge_18_extra1.png')\n",
    "\n",
    "plt.show()\n",
    "\n",
    "files.download('figure75_code_challenge_18_extra1.png')\n"
   ]
  },
  {
   "cell_type": "code",
   "execution_count": null,
   "metadata": {
    "colab": {
     "base_uri": "https://localhost:8080/",
     "height": 1000
    },
    "executionInfo": {
     "elapsed": 1796,
     "status": "ok",
     "timestamp": 1752096374829,
     "user": {
      "displayName": "Edoardo Gornetti",
      "userId": "05048424707797899325"
     },
     "user_tz": -120
    },
    "id": "KwHU0UHT_jn3",
    "outputId": "283d3043-81fa-4288-f3a3-7cb36e49469c"
   },
   "outputs": [],
   "source": [
    "# %% Exercise 2\n",
    "#    It's not surprising that most of the 7's were labeled as \"9\". You can now repeat this code file with other numbers\n",
    "#    left out. What other pair of numbers do you expect to be commonly misclassified based on typographical similarity?\n",
    "\n",
    "# Let's try to leave out 8, it might be similar to 6. But surprisingly no, most\n",
    "# of the 8s are classified as either 3s or 5s.\n",
    "\n",
    "# Plot\n",
    "phi = ( 1 + np.sqrt(5) ) / 2\n",
    "fig,ax = plt.subplots(1,2,figsize=(1.5*6*phi,6))\n",
    "\n",
    "ax[0].plot(losses_trn,label='Non-8s loss')\n",
    "ax[0].plot(losses_tst,label='8s loss')\n",
    "ax[0].set_xlabel('Epochs')\n",
    "ax[0].set_ylabel('Loss')\n",
    "ax[0].set_ylim([-2.5,20])\n",
    "ax[0].set_title('Model loss')\n",
    "ax[0].legend()\n",
    "\n",
    "ax[1].plot(train_acc,label='Non-8s accuracy')\n",
    "ax[1].plot(test_acc,label='8s accuracy')\n",
    "ax[1].set_xlabel('Epochs')\n",
    "ax[1].set_ylabel('Accuracy (%)')\n",
    "ax[1].set_ylim([-10,100])\n",
    "ax[1].set_title(f'Final model test accuracy on 8s: {test_acc[-1]:.2f}%')\n",
    "ax[1].legend()\n",
    "\n",
    "plt.savefig('figure76_code_challenge_18_extra2.png')\n",
    "\n",
    "plt.show()\n",
    "\n",
    "files.download('figure76_code_challenge_18_extra2.png')\n",
    "\n",
    "# Plot\n",
    "phi = (1 + np.sqrt(5)) / 2\n",
    "fig,axs = plt.subplots(3,4,figsize=(6*phi,6))\n",
    "\n",
    "ANN.eval()\n",
    "X7s, y7s = test_data.tensors\n",
    "with torch.no_grad():\n",
    "    predictions = torch.argmax(ANN(X7s),dim=1)\n",
    "\n",
    "rand_indices = np.random.choice(X7s.shape[0],size=12,replace=False)\n",
    "\n",
    "for ax, idx in zip(axs.flatten(),rand_indices):\n",
    "    img = X7s[idx].reshape(28,28)\n",
    "    pred_label = predictions[idx].item()\n",
    "\n",
    "    ax.imshow(img,cmap='gray')\n",
    "    ax.set_title(f'Predicted digit: {pred_label}')\n",
    "    ax.axis('off')\n",
    "\n",
    "plt.suptitle('Model predictions on 8s',fontsize=14)\n",
    "plt.tight_layout(rect=[0,0,1,0.95])\n",
    "\n",
    "plt.savefig('figure77_code_challenge_18_extra2.png')\n",
    "\n",
    "plt.show()\n",
    "\n",
    "files.download('figure77_code_challenge_18_extra2.png')\n",
    "\n",
    "# Plot\n",
    "pred_counts = torch.bincount(predictions,minlength=10).numpy()\n",
    "pred_proportions = pred_counts / len(predictions)\n",
    "\n",
    "phi = (1 + np.sqrt(5)) / 2\n",
    "plt.figure(figsize=(6*phi,6))\n",
    "\n",
    "plt.bar(np.arange(10),pred_proportions,zorder=3)\n",
    "plt.xticks(np.arange(10))\n",
    "plt.xlabel('Predicted label')\n",
    "plt.ylabel('Proportion of 8s classified as other digits')\n",
    "plt.title('Misclassification distribution of digit 8')\n",
    "plt.grid(axis='y',linestyle='--',alpha=0.7)\n",
    "\n",
    "plt.savefig('figure78_code_challenge_18_extra2.png')\n",
    "\n",
    "plt.show()\n",
    "\n",
    "files.download('figure78_code_challenge_18_extra2.png')\n"
   ]
  },
  {
   "cell_type": "code",
   "execution_count": null,
   "metadata": {
    "id": "rZTrdULt_jgS"
   },
   "outputs": [],
   "source": [
    "# %% Exercise 3\n",
    "#    Add dropout regularization to fc1 and fc2 (what else do you need to modify in the code to make sure the dropout\n",
    "#    is applied only during training?). Does that affect how the model categorizes 7's?\n",
    "\n",
    "# Easy fix adding the appropriate lines as in previous code challenges, and of\n",
    "# course .eval() and .train() modes. That said, even with a massive 0.5 dropout\n",
    "# rate the model is still totally failing\n"
   ]
  }
 ],
 "metadata": {
  "colab": {
   "authorship_tag": "ABX9TyOPcZqVPLyVYeydhjbxkpqI",
   "provenance": []
  },
  "kernelspec": {
   "display_name": "Python 3",
   "name": "python3"
  },
  "language_info": {
   "name": "python"
  }
 },
 "nbformat": 4,
 "nbformat_minor": 0
}
