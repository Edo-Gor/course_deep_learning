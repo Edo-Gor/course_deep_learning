{
 "cells": [
  {
   "cell_type": "code",
   "execution_count": null,
   "metadata": {
    "id": "le5MsLuthBqv"
   },
   "outputs": [],
   "source": [
    "# %% Deep learning - Section 9.71\n",
    "#    Dropout regularisation\n",
    "\n",
    "# This code pertains a deep learning course provided by Mike X. Cohen on Udemy:\n",
    "#   > https://www.udemy.com/course/deeplearning_x\n",
    "# The \"base\" code in this repository is adapted (with very minor modifications)\n",
    "# from code developed by the course instructor (Mike X. Cohen), while the\n",
    "# \"exercises\" and the \"code challenges\" contain more original solutions and\n",
    "# creative input from my side. If you are interested in DL (and if you are\n",
    "# reading this statement, chances are that you are), go check out the course, it\n",
    "# is singularly good.\n"
   ]
  },
  {
   "cell_type": "code",
   "execution_count": null,
   "metadata": {
    "id": "ty5MFy8KhV0e"
   },
   "outputs": [],
   "source": [
    "# %% Libraries and modules\n",
    "import numpy               as np\n",
    "import matplotlib.pyplot   as plt\n",
    "import torch\n",
    "import torch.nn            as nn\n",
    "import seaborn             as sns\n",
    "import copy\n",
    "import torch.nn.functional as F\n",
    "\n",
    "from torch.utils.data                 import DataLoader,TensorDataset\n",
    "from sklearn.model_selection          import train_test_split\n",
    "from google.colab                     import files\n",
    "from torchsummary                     import summary\n",
    "from matplotlib_inline.backend_inline import set_matplotlib_formats\n",
    "set_matplotlib_formats('svg')\n"
   ]
  },
  {
   "cell_type": "code",
   "execution_count": null,
   "metadata": {
    "colab": {
     "base_uri": "https://localhost:8080/"
    },
    "executionInfo": {
     "elapsed": 17,
     "status": "ok",
     "timestamp": 1745785547488,
     "user": {
      "displayName": "Edoardo Gornetti",
      "userId": "05048424707797899325"
     },
     "user_tz": -120
    },
    "id": "bINwcYXj2kHE",
    "outputId": "0c7f1bb9-f2ba-4add-cbe5-ea17976028d8"
   },
   "outputs": [],
   "source": [
    "# %% Define dropout probability and some synthetic data\n",
    "\n",
    "prob    = 0.5\n",
    "dropout = nn.Dropout(p=prob)\n",
    "x       = torch.ones(10)\n",
    "\n",
    "# Check output (nn.dropout() scales up)\n",
    "y = dropout(x)\n",
    "\n",
    "print(x)\n",
    "print(y)\n",
    "print(torch.mean(y))\n"
   ]
  },
  {
   "cell_type": "code",
   "execution_count": null,
   "metadata": {
    "colab": {
     "base_uri": "https://localhost:8080/"
    },
    "executionInfo": {
     "elapsed": 41,
     "status": "ok",
     "timestamp": 1745785737592,
     "user": {
      "displayName": "Edoardo Gornetti",
      "userId": "05048424707797899325"
     },
     "user_tz": -120
    },
    "id": "1W5ZJuTI720Q",
    "outputId": "96a41a85-730e-4582-a236-f319e32e40bd"
   },
   "outputs": [],
   "source": [
    "# %% Drop out is turned of when evaluating the model\n",
    "\n",
    "# Switch dropout to evaluation mode\n",
    "dropout.eval()\n",
    "y = dropout(x)\n",
    "\n",
    "print(x)\n",
    "print(y)\n",
    "print(torch.mean(y))\n"
   ]
  },
  {
   "cell_type": "code",
   "execution_count": null,
   "metadata": {
    "colab": {
     "base_uri": "https://localhost:8080/"
    },
    "executionInfo": {
     "elapsed": 28,
     "status": "ok",
     "timestamp": 1745785887112,
     "user": {
      "displayName": "Edoardo Gornetti",
      "userId": "05048424707797899325"
     },
     "user_tz": -120
    },
    "id": "hw_pC3mL8NaI",
    "outputId": "d690d2c2-7550-4510-809a-4b6d6dc2e9d9"
   },
   "outputs": [],
   "source": [
    "# %% Alternate way: use F.dropout()\n",
    "\n",
    "# Notice how F.dropout() is not automatically switched off ...\n",
    "dropout.eval()\n",
    "y = F.dropout(x)\n",
    "\n",
    "print(y)\n",
    "print(torch.mean(y))\n",
    "\n",
    "# ... but you can do that manually\n",
    "dropout.eval()\n",
    "y = F.dropout(x,training=False)\n",
    "\n",
    "print(y)\n",
    "print(torch.mean(y))\n"
   ]
  },
  {
   "cell_type": "code",
   "execution_count": null,
   "metadata": {
    "colab": {
     "base_uri": "https://localhost:8080/"
    },
    "executionInfo": {
     "elapsed": 50,
     "status": "ok",
     "timestamp": 1745786124698,
     "user": {
      "displayName": "Edoardo Gornetti",
      "userId": "05048424707797899325"
     },
     "user_tz": -120
    },
    "id": "XPE46pya9A2I",
    "outputId": "a14f5a52-faab-4ea4-b076-403249731491"
   },
   "outputs": [],
   "source": [
    "# %% The model needs to be reset after toggling into .eval() mode\n",
    "\n",
    "# The model stays in .eval() mode until you switch it back\n",
    "dropout.train()\n",
    "y = dropout(x)\n",
    "print(y)\n",
    "\n",
    "dropout.eval()\n",
    "y = dropout(x)\n",
    "print(y)\n",
    "\n",
    "dropout.train() # comment out to check\n",
    "y = dropout(x)\n",
    "print(y)\n"
   ]
  }
 ],
 "metadata": {
  "colab": {
   "authorship_tag": "ABX9TyMGRLAnX/UohAkdcwuQ2vce",
   "provenance": []
  },
  "kernelspec": {
   "display_name": "Python 3",
   "name": "python3"
  },
  "language_info": {
   "name": "python"
  }
 },
 "nbformat": 4,
 "nbformat_minor": 0
}
