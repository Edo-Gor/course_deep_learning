{
 "cells": [
  {
   "cell_type": "code",
   "execution_count": null,
   "metadata": {
    "id": "Y43piay6gHb5"
   },
   "outputs": [],
   "source": [
    "# %% Deep learning - Section 5.20\n",
    "#    Logarithms\n",
    "\n",
    "# This code pertains a deep learning course provided by Mike X. Cohen on Udemy:\n",
    "#   > https://www.udemy.com/course/deeplearning_x\n",
    "# The \"base\" code in this repository is adapted (with very minor modifications)\n",
    "# from code developed by the course instructor (Mike X. Cohen), while the \n",
    "# \"exercises\" and the \"code challenges\" contain more original solutions and \n",
    "# creative input from my side. If you are interested in DL (and if you are \n",
    "# reading this statement, chances are that you are), go check out the course, it\n",
    "# is singularly good.\n"
   ]
  },
  {
   "cell_type": "code",
   "execution_count": null,
   "metadata": {
    "id": "6Tk_ZAPXgIh2"
   },
   "outputs": [],
   "source": [
    "# %% Libraries and modules\n",
    "import numpy             as np\n",
    "import matplotlib.pyplot as plt\n",
    "import copy\n",
    "\n",
    "from google.colab                     import files\n",
    "from matplotlib_inline.backend_inline import set_matplotlib_formats\n",
    "set_matplotlib_formats('svg')\n"
   ]
  },
  {
   "cell_type": "code",
   "execution_count": null,
   "metadata": {
    "colab": {
     "base_uri": "https://localhost:8080/",
     "height": 490
    },
    "executionInfo": {
     "elapsed": 370,
     "status": "ok",
     "timestamp": 1740176726295,
     "user": {
      "displayName": "Edoardo Gornetti",
      "userId": "05048424707797899325"
     },
     "user_tz": -60
    },
    "id": "NGodboAYjiz6",
    "outputId": "145f4efa-503c-44a4-d923-612921c2400d"
   },
   "outputs": [],
   "source": [
    "# %% Show logarithm function\n",
    "\n",
    "# Data\n",
    "x    = np.linspace(0.0001,1,200)\n",
    "logx = np.log(x)\n",
    "\n",
    "# Plotting\n",
    "fig = plt.figure(figsize=(10,5))\n",
    "\n",
    "plt.plot(x,logx,'bs-',markerfacecolor='w')\n",
    "plt.xlabel('x')\n",
    "plt.ylabel('log(x)')\n",
    "plt.title('A natural logarithm function')\n",
    "plt.rcParams.update({'font.size':15})\n",
    "\n",
    "plt.savefig('figure3_logarithm.png')\n",
    "\n",
    "plt.show()\n",
    "\n",
    "files.download('figure3_logarithm.png')\n"
   ]
  },
  {
   "cell_type": "code",
   "execution_count": null,
   "metadata": {
    "colab": {
     "base_uri": "https://localhost:8080/",
     "height": 490
    },
    "executionInfo": {
     "elapsed": 824,
     "status": "ok",
     "timestamp": 1740177155884,
     "user": {
      "displayName": "Edoardo Gornetti",
      "userId": "05048424707797899325"
     },
     "user_tz": -60
    },
    "id": "QgG-6SBvjipq",
    "outputId": "09cb53ba-ff7e-47be-d6f2-bdbe62ba9dc6"
   },
   "outputs": [],
   "source": [
    "# %% Show that logarithm and exponential function are inverses\n",
    "\n",
    "# Data\n",
    "x    = np.linspace(0.0001,1,20)\n",
    "logx = np.log(x)\n",
    "expx = np.exp(x)\n",
    "\n",
    "# Plotting\n",
    "fig = plt.figure(figsize=(10,5))\n",
    "\n",
    "plt.plot(x,x,color=[.8,.8,.8])\n",
    "plt.plot(x,np.exp(logx),'o',markersize=8)\n",
    "plt.plot(x,np.log(expx),'x',markersize=8)\n",
    "plt.xlabel('x')\n",
    "plt.ylabel('f(g(x))')\n",
    "plt.title('Comparison between natural logarithm and exponential function')\n",
    "plt.legend(['Unity','Exp(log(x))','Log(exp(x))'])\n",
    "plt.rcParams.update({'font.size':15})\n",
    "\n",
    "plt.savefig('figure4_log_exp_comparison.png')\n",
    "\n",
    "plt.show()\n",
    "\n",
    "files.download('figure4_log_exp_comparison.png')"
   ]
  }
 ],
 "metadata": {
  "colab": {
   "authorship_tag": "ABX9TyOExqjjyhp6yR6tHdc6qBbu",
   "provenance": []
  },
  "kernelspec": {
   "display_name": "Python 3",
   "name": "python3"
  },
  "language_info": {
   "name": "python"
  }
 },
 "nbformat": 4,
 "nbformat_minor": 0
}
