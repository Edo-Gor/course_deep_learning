{
 "cells": [
  {
   "cell_type": "code",
   "execution_count": null,
   "metadata": {
    "id": "zqafqL5r0Xyr"
   },
   "outputs": [],
   "source": [
    "# %% Deep learning - Section 10.82\n",
    "#    The wine quality dataset\n",
    "\n",
    "# This code pertains a deep learning course provided by Mike X. Cohen on Udemy:\n",
    "#   > https://www.udemy.com/course/deeplearning_x\n",
    "# The \"base\" code in this repository is adapted (with very minor modifications)\n",
    "# from code developed by the course instructor (Mike X. Cohen), while the\n",
    "# \"exercises\" and the \"code challenges\" contain more original solutions and\n",
    "# creative input from my side. If you are interested in DL (and if you are\n",
    "# reading this statement, chances are that you are), go check out the course, it\n",
    "# is singularly good.\n"
   ]
  },
  {
   "cell_type": "code",
   "execution_count": null,
   "metadata": {
    "id": "knsqpvot0jAb"
   },
   "outputs": [],
   "source": [
    "# %% Libraries and modules\n",
    "import numpy               as np\n",
    "import matplotlib.pyplot   as plt\n",
    "import torch\n",
    "import torch.nn            as nn\n",
    "import seaborn             as sns\n",
    "import copy\n",
    "import torch.nn.functional as F\n",
    "import pandas              as pd\n",
    "import scipy.stats         as stats\n",
    "\n",
    "from torch.utils.data                 import DataLoader,TensorDataset\n",
    "from sklearn.model_selection          import train_test_split\n",
    "from google.colab                     import files\n",
    "from torchsummary                     import summary\n",
    "from IPython                          import display\n",
    "from matplotlib_inline.backend_inline import set_matplotlib_formats\n",
    "set_matplotlib_formats('svg')\n"
   ]
  },
  {
   "cell_type": "code",
   "execution_count": null,
   "metadata": {
    "id": "x75saSF_0jaX"
   },
   "outputs": [],
   "source": [
    "# %% A few notes about the wine dataset\n",
    "#    It come from the UCI (university of california irvine) machine learning repository,\n",
    "#    where you can find many more datasets: https://archive.ics.uci.edu/\n"
   ]
  },
  {
   "cell_type": "code",
   "execution_count": null,
   "metadata": {
    "colab": {
     "base_uri": "https://localhost:8080/",
     "height": 423
    },
    "executionInfo": {
     "elapsed": 653,
     "status": "ok",
     "timestamp": 1747948467903,
     "user": {
      "displayName": "Edoardo Gornetti",
      "userId": "05048424707797899325"
     },
     "user_tz": -120
    },
    "id": "_5ijtpAR2KqH",
    "outputId": "4f5e8b2e-2438-4958-d818-a4414c980b09"
   },
   "outputs": [],
   "source": [
    "# %% Import data into a pandas dataframe\n",
    "\n",
    "url = \"https://archive.ics.uci.edu/ml/machine-learning-databases/wine-quality/winequality-red.csv\"\n",
    "\n",
    "data = pd.read_csv(url,sep=';')\n",
    "data\n"
   ]
  },
  {
   "cell_type": "code",
   "execution_count": null,
   "metadata": {
    "colab": {
     "base_uri": "https://localhost:8080/",
     "height": 317
    },
    "executionInfo": {
     "elapsed": 119,
     "status": "ok",
     "timestamp": 1747948507632,
     "user": {
      "displayName": "Edoardo Gornetti",
      "userId": "05048424707797899325"
     },
     "user_tz": -120
    },
    "id": "brrkxtGn2RIB",
    "outputId": "a29a8790-a1b2-4627-d201-9a8a4e57800e"
   },
   "outputs": [],
   "source": [
    "# %% Explore descriptive statistics of data\n",
    "\n",
    "# pandas has a .descriptive() method\n",
    "data.describe()\n"
   ]
  },
  {
   "cell_type": "code",
   "execution_count": null,
   "metadata": {
    "colab": {
     "base_uri": "https://localhost:8080/"
    },
    "executionInfo": {
     "elapsed": 17,
     "status": "ok",
     "timestamp": 1747948759648,
     "user": {
      "displayName": "Edoardo Gornetti",
      "userId": "05048424707797899325"
     },
     "user_tz": -120
    },
    "id": "CGedTJEi3FZq",
    "outputId": "84c18f03-e91e-48db-c74d-2e3848141fb7"
   },
   "outputs": [],
   "source": [
    "# %% List unique values per column\n",
    "\n",
    "for i in data.keys():\n",
    "    print(f'{i} has {len(np.unique(data[i]))} unique values')\n"
   ]
  },
  {
   "cell_type": "code",
   "execution_count": null,
   "metadata": {
    "colab": {
     "base_uri": "https://localhost:8080/",
     "height": 732
    },
    "executionInfo": {
     "elapsed": 8249,
     "status": "ok",
     "timestamp": 1747948956300,
     "user": {
      "displayName": "Edoardo Gornetti",
      "userId": "05048424707797899325"
     },
     "user_tz": -120
    },
    "id": "xskPwW1t3dWl",
    "outputId": "01f89182-64e1-4a21-cd65-dccdd81608ff"
   },
   "outputs": [],
   "source": [
    "# %% Pairwise plot\n",
    "\n",
    "# Pick some columns\n",
    "features2plot = [ 'fixed acidity','volatile acidity','citric acid','quality' ]\n",
    "sns.pairplot(data[features2plot],kind='reg',hue='quality')\n",
    "\n",
    "plt.savefig('figure1_wine_dataset.png')\n",
    "\n",
    "plt.show()\n",
    "\n",
    "files.download('figure1_wine_dataset.png')\n"
   ]
  },
  {
   "cell_type": "code",
   "execution_count": null,
   "metadata": {
    "colab": {
     "base_uri": "https://localhost:8080/",
     "height": 626
    },
    "executionInfo": {
     "elapsed": 627,
     "status": "ok",
     "timestamp": 1747949448215,
     "user": {
      "displayName": "Edoardo Gornetti",
      "userId": "05048424707797899325"
     },
     "user_tz": -120
    },
    "id": "kQRQkuST4fGg",
    "outputId": "dfa58e2a-d303-4804-8dbb-4869c8ced0b3"
   },
   "outputs": [],
   "source": [
    "# %% Plot some data\n",
    "\n",
    "# Remove some outliers\n",
    "data = data[data['total sulfur dioxide']<200]\n",
    "\n",
    "phi    = ( 1 + np.sqrt(5) ) / 2\n",
    "fig,ax = plt.subplots(1,figsize=(9*phi,6))\n",
    "\n",
    "ax = sns.boxplot(data=data)\n",
    "ax.set_xticklabels(ax.get_xticklabels(),rotation=45)\n",
    "\n",
    "plt.savefig('figure2_wine_dataset.png')\n",
    "\n",
    "plt.show()\n",
    "\n",
    "files.download('figure2_wine_dataset.png')\n"
   ]
  },
  {
   "cell_type": "code",
   "execution_count": null,
   "metadata": {
    "colab": {
     "base_uri": "https://localhost:8080/",
     "height": 317
    },
    "executionInfo": {
     "elapsed": 162,
     "status": "ok",
     "timestamp": 1747949948187,
     "user": {
      "displayName": "Edoardo Gornetti",
      "userId": "05048424707797899325"
     },
     "user_tz": -120
    },
    "id": "n8zqJcrc6JTX",
    "outputId": "1820d3f3-1c01-46ad-da39-5627a18bf8ed"
   },
   "outputs": [],
   "source": [
    "# %% Z-score all the variables except for quality\n",
    "\n",
    "# As you might notice from the above graph, there is a lot of variability in the\n",
    "# scale of the variables. This is an issue for DL models.\n",
    "\n",
    "# Find all columns we want to normalise\n",
    "cols2zscore = data.keys()\n",
    "cols2zscore = cols2zscore.drop('quality')\n",
    "\n",
    "# Z-score (explicit for clarity: mean center and scale by std)\n",
    "for col in cols2zscore:\n",
    "    mean_val  = np.mean(data[col])\n",
    "    std_val   = np.std(data[col])\n",
    "    data[col] = (data[col] - mean_val) / std_val\n",
    "\n",
    "# Z-score (compact version)\n",
    "data[cols2zscore] = data[cols2zscore].apply(stats.zscore)\n",
    "\n",
    "# Look at the descriptives now\n",
    "data.describe()\n"
   ]
  },
  {
   "cell_type": "code",
   "execution_count": null,
   "metadata": {
    "colab": {
     "base_uri": "https://localhost:8080/",
     "height": 626
    },
    "executionInfo": {
     "elapsed": 626,
     "status": "ok",
     "timestamp": 1747950406844,
     "user": {
      "displayName": "Edoardo Gornetti",
      "userId": "05048424707797899325"
     },
     "user_tz": -120
    },
    "id": "dT5H5uMh8Mp4",
    "outputId": "f6c2823b-246f-4b07-d8f2-7f6e1c91c7b3"
   },
   "outputs": [],
   "source": [
    "# %% Re-plot the data and have a look\n",
    "\n",
    "phi    = ( 1 + np.sqrt(5) ) / 2\n",
    "fig,ax = plt.subplots(1,figsize=(6*phi,6))\n",
    "\n",
    "ax = sns.boxplot(data=data)\n",
    "ax.set_xticklabels(ax.get_xticklabels(),rotation=45)\n",
    "\n",
    "plt.savefig('figure4_wine_dataset.png')\n",
    "\n",
    "plt.show()\n",
    "\n",
    "files.download('figure4_wine_dataset.png')\n"
   ]
  },
  {
   "cell_type": "code",
   "execution_count": null,
   "metadata": {
    "id": "9RACwW6r8fxm"
   },
   "outputs": [],
   "source": [
    "# %% A closer look at the quality column\n",
    "\n",
    "phi = ( 1 + np.sqrt(5) ) / 2\n",
    "fig = plt.figure(figsize=(6*phi,6))\n",
    "\n",
    "counts = data['quality'].value_counts()\n",
    "plt.bar(list(counts.keys()),counts)\n",
    "plt.xlabel('Quality rating')\n",
    "plt.ylabel('Count')\n",
    "plt.rcParams.update({'font.size': 15})\n",
    "\n",
    "plt.savefig('figure5_wine_dataset.png')\n",
    "\n",
    "plt.show()\n",
    "\n",
    "files.download('figure5_wine_dataset.png')\n"
   ]
  },
  {
   "cell_type": "code",
   "execution_count": null,
   "metadata": {
    "id": "8spMV5LO-RI5"
   },
   "outputs": [],
   "source": [
    "# %% Binarise quality\n",
    "\n",
    "# Such an imbalance in the distribution is a problem, binarising can be\n",
    "# a possible solution\n",
    "\n",
    "data['boolean_quality'] = 0\n",
    "data['boolean_quality'][data['quality']>5] = 1\n",
    "data['boolean_quality'][data['quality']<6] = 0 # Implicit but here for clarity\n",
    "\n",
    "data[['quality','boolean_quality']]\n"
   ]
  },
  {
   "cell_type": "code",
   "execution_count": null,
   "metadata": {
    "colab": {
     "base_uri": "https://localhost:8080/"
    },
    "executionInfo": {
     "elapsed": 37,
     "status": "ok",
     "timestamp": 1747951079953,
     "user": {
      "displayName": "Edoardo Gornetti",
      "userId": "05048424707797899325"
     },
     "user_tz": -120
    },
    "id": "u8a0Rlm3_XYY",
    "outputId": "c3c3d6d2-fbf2-43c3-9fa2-2eb6dcc3585f"
   },
   "outputs": [],
   "source": [
    "# %% Reorganise data from dataframe to tensors\n",
    "\n",
    "data_t = torch.tensor( data[cols2zscore].values ).float()\n",
    "labels = torch.tensor( data['boolean_quality'].values ).float()\n",
    "\n",
    "print(data_t.shape)\n",
    "print(labels.shape)\n",
    "\n",
    "# Labels need to be multidimentional fr PyTorch, not an array\n",
    "labels = labels[:,None]\n",
    "print(labels.shape)\n"
   ]
  },
  {
   "cell_type": "code",
   "execution_count": null,
   "metadata": {
    "id": "9n4mbKzCAPgd"
   },
   "outputs": [],
   "source": [
    "# %% Split into train and test data\n",
    "\n",
    "# Split with scikitlearn\n",
    "train_data,test_data,train_labels,test_labels = train_test_split(data_t,labels,test_size=0.1)\n",
    "\n",
    "# Convert into PyTorch datasets\n",
    "train_data = TensorDataset(train_data,train_labels)\n",
    "test_data  = TensorDataset(test_data,test_labels)\n",
    "\n",
    "# Convert into DataLoader objects\n",
    "batch_size   = 64\n",
    "train_loader = DataLoader(train_data,batch_size=batch_size,shuffle=True,drop_last=True)\n",
    "test_loader  = DataLoader(test_data,batch_size=test_data.tensors[0].shape[0])\n"
   ]
  },
  {
   "cell_type": "code",
   "execution_count": null,
   "metadata": {
    "colab": {
     "base_uri": "https://localhost:8080/"
    },
    "executionInfo": {
     "elapsed": 9,
     "status": "ok",
     "timestamp": 1747951362645,
     "user": {
      "displayName": "Edoardo Gornetti",
      "userId": "05048424707797899325"
     },
     "user_tz": -120
    },
    "id": "Hh6Z7dOiA5uC",
    "outputId": "c07d034e-7724-492b-ef97-af3934a25fa8"
   },
   "outputs": [],
   "source": [
    "# %% Check batches sizes\n",
    "\n",
    "for X,y in train_loader:\n",
    "    print(f'X shape: {X.shape}; y shape: {y.shape}')\n"
   ]
  },
  {
   "cell_type": "code",
   "execution_count": null,
   "metadata": {
    "colab": {
     "base_uri": "https://localhost:8080/",
     "height": 933
    },
    "executionInfo": {
     "elapsed": 1006,
     "status": "ok",
     "timestamp": 1747954121520,
     "user": {
      "displayName": "Edoardo Gornetti",
      "userId": "05048424707797899325"
     },
     "user_tz": -120
    },
    "id": "_5VUAvKOBW1i",
    "outputId": "5dc3d077-52a2-48c4-eecd-45c20b091b79"
   },
   "outputs": [],
   "source": [
    "# %% Exercise 1\n",
    "#    In a later video, we will use DL to predict residual sugar. Use seaborn to make a histogram of that data column.\n",
    "#    Spend a minute to explore the visualization options in sns.histplot. For example, you can add a kernel density\n",
    "#    estimate, make the histogram bars purple, and so on.\n",
    "\n",
    "# As already visible from the boxplots, the distribution is quite skewed. The code also\n",
    "# contains an gratuitously complicated way of computing the optimal bin numbers\n",
    "\n",
    "# Number of bins using Freedman–Diaconis' rule\n",
    "tmp = data['residual sugar']\n",
    "n   = len(tmp)\n",
    "iqr = np.subtract(*np.percentile(tmp, [75, 25]))\n",
    "bin_width = 2 * iqr / np.cbrt(n)\n",
    "bins      = int(np.ceil((tmp.max() - tmp.min()) / bin_width))\n",
    "\n",
    "# Plotting (without kernel)\n",
    "sns.histplot(data=data, x='residual sugar', bins=bins, kde=False)\n",
    "plt.title('Histogram of residual sugar')\n",
    "plt.xlabel('Residual sugar')\n",
    "plt.ylabel('Count')\n",
    "\n",
    "plt.savefig('figure6_wine_dataset_extra1.png')\n",
    "\n",
    "plt.show()\n",
    "\n",
    "files.download('figure6_wine_dataset_extra1.png')\n",
    "\n",
    "# Plotting (with kernel)\n",
    "sns.histplot(data=data, x='residual sugar', bins=bins, kde=True)\n",
    "plt.title('Histogram of residual sugar')\n",
    "plt.xlabel('Residual sugar')\n",
    "plt.ylabel('Count')\n",
    "\n",
    "plt.savefig('figure7_wine_dataset_extra1.png')\n",
    "\n",
    "plt.show()\n",
    "\n",
    "files.download('figure7_wine_dataset_extra1.png')\n"
   ]
  },
  {
   "cell_type": "code",
   "execution_count": null,
   "metadata": {
    "colab": {
     "base_uri": "https://localhost:8080/"
    },
    "executionInfo": {
     "elapsed": 68,
     "status": "ok",
     "timestamp": 1747953721666,
     "user": {
      "displayName": "Edoardo Gornetti",
      "userId": "05048424707797899325"
     },
     "user_tz": -120
    },
    "id": "twlejeu3BdlD",
    "outputId": "a8d4a7c4-f3a1-4174-e371-268b549bec2a"
   },
   "outputs": [],
   "source": [
    "# %% Exercise 2\n",
    "#    (Warning: This exercise is for people who are familiar with statistics.) Loop over all the variables in the dataset,\n",
    "#    and perform an independent-samples t-test on the data for the binarized wine quality. Which variables are significantly\n",
    "#    different between \"low\" and \"high\" quality wine?\n",
    "\n",
    "# Loved this one. Indeed, a lot of features differ significantly for low- and high-quality\n",
    "# wines; notice that assuming equal variance is not always appropriate (as per Levene's test),\n",
    "# I haven't adapted the loop out of laziness, but you get the idea\n",
    "\n",
    "# Split groups\n",
    "qual_low  = data[data['boolean_quality'] == 0]\n",
    "qual_high = data[data['boolean_quality'] == 1]\n",
    "\n",
    "print('Statistics on z-scored data:\\n')\n",
    "\n",
    "# Loop over all features except 'quality_bin'\n",
    "for col in data.columns.drop(['quality','boolean_quality']):\n",
    "\n",
    "    # Drop NaNs for safety\n",
    "    x0 = qual_low[col].dropna()\n",
    "    x1 = qual_high[col].dropna()\n",
    "\n",
    "    # Levene's test for equal variances (have a look)\n",
    "    _,p_levene = stats.levene(x0, x1)\n",
    "\n",
    "    # Independent t-test (assuming equal variances)\n",
    "    t_stat,p_ttest = stats.ttest_ind(x0,x1,equal_var=True)\n",
    "\n",
    "    print(f\"Feature: {col}\")\n",
    "    print(f\"  Levene p-value: {p_levene:.4f} (test for equal variances)\")\n",
    "    print(f\"  Independent t-test p-value: {p_ttest:.4f}\")\n",
    "    print(f\"  Mean (low quality): {x0.mean():.3f}, Mean (high quality): {x1.mean():.3f}\")\n",
    "    print( )\n"
   ]
  }
 ],
 "metadata": {
  "colab": {
   "authorship_tag": "ABX9TyOC/izzWSnWeYF1FSoN/1fm",
   "provenance": []
  },
  "kernelspec": {
   "display_name": "Python 3",
   "name": "python3"
  },
  "language_info": {
   "name": "python"
  }
 },
 "nbformat": 4,
 "nbformat_minor": 0
}
