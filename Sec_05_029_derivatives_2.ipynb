{
 "cells": [
  {
   "cell_type": "code",
   "execution_count": null,
   "metadata": {
    "id": "Y93D5EIeQ1nZ"
   },
   "outputs": [],
   "source": [
    "# %% Deep learning - Section 5.29\n",
    "#    Derivatives: product and chain rule\n",
    "\n",
    "# This code pertains a deep learning course provided by Mike X. Cohen on Udemy:\n",
    "#   > https://www.udemy.com/course/deeplearning_x\n",
    "# The \"base\" code in this repository is adapted (with very minor modifications)\n",
    "# from code developed by the course instructor (Mike X. Cohen), while the \n",
    "# \"exercises\" and the \"code challenges\" contain more original solutions and \n",
    "# creative input from my side. If you are interested in DL (and if you are \n",
    "# reading this statement, chances are that you are), go check out the course, it\n",
    "# is singularly good.\n"
   ]
  },
  {
   "cell_type": "code",
   "execution_count": null,
   "metadata": {
    "id": "v9ZkUBKiQ915"
   },
   "outputs": [],
   "source": [
    "# %% Libraries and modules\n",
    "import numpy               as np\n",
    "import matplotlib.pyplot   as plt\n",
    "import sympy               as sym\n",
    "import sympy.plotting.plot as symplot\n",
    "import copy\n",
    "\n",
    "from google.colab                     import files\n",
    "from IPython.display                  import display\n",
    "from matplotlib_inline.backend_inline import set_matplotlib_formats\n",
    "set_matplotlib_formats('svg')\n"
   ]
  },
  {
   "cell_type": "code",
   "execution_count": null,
   "metadata": {
    "colab": {
     "base_uri": "https://localhost:8080/",
     "height": 157
    },
    "collapsed": true,
    "executionInfo": {
     "elapsed": 19,
     "status": "ok",
     "timestamp": 1740432612566,
     "user": {
      "displayName": "Edoardo Gornetti",
      "userId": "05048424707797899325"
     },
     "user_tz": -60
    },
    "id": "h5Sb2i2VQ_yL",
    "outputId": "1fb216ee-74f2-4ca0-e948-a3b5c229586b"
   },
   "outputs": [],
   "source": [
    "# %% Data\n",
    "\n",
    "x  = sym.symbols('x')\n",
    "\n",
    "fx = 2*x**2\n",
    "gx = 4*x**3 - 2*x**4\n",
    "\n",
    "df = sym.diff(fx)\n",
    "dg = sym.diff(gx)\n",
    "\n",
    "print('The functions:')\n",
    "display(fx)\n",
    "display(gx)\n",
    "print( )\n",
    "\n",
    "print('The individual derivatives:')\n",
    "display(df)\n",
    "display(dg)\n"
   ]
  },
  {
   "cell_type": "code",
   "execution_count": null,
   "metadata": {
    "colab": {
     "base_uri": "https://localhost:8080/",
     "height": 157
    },
    "collapsed": true,
    "executionInfo": {
     "elapsed": 10,
     "status": "ok",
     "timestamp": 1740432571364,
     "user": {
      "displayName": "Edoardo Gornetti",
      "userId": "05048424707797899325"
     },
     "user_tz": -60
    },
    "id": "NwB_kqda2cwr",
    "outputId": "45a77fc4-0e52-4016-e825-ff6df6f4838e"
   },
   "outputs": [],
   "source": [
    "# %% Product rule\n",
    "\n",
    "# Manually\n",
    "manual  = df*gx + fx*dg\n",
    "wrong   = df * dg\n",
    "\n",
    "# With sympy\n",
    "withSym = sym.diff( fx*gx )\n",
    "\n",
    "print('The product rule:')\n",
    "display(manual)\n",
    "display(withSym)\n"
   ]
  },
  {
   "cell_type": "code",
   "execution_count": null,
   "metadata": {
    "colab": {
     "base_uri": "https://localhost:8080/",
     "height": 119
    },
    "collapsed": true,
    "executionInfo": {
     "elapsed": 15,
     "status": "ok",
     "timestamp": 1740432802628,
     "user": {
      "displayName": "Edoardo Gornetti",
      "userId": "05048424707797899325"
     },
     "user_tz": -60
    },
    "id": "wBWw_kC-25EK",
    "outputId": "e647f9be-1108-49fa-a61d-93e4ffa54dce"
   },
   "outputs": [],
   "source": [
    "# %% Chain rule\n",
    "\n",
    "gx = x**2 + 4*x**3\n",
    "fx = ( gx )**5\n",
    "\n",
    "print('The function:')\n",
    "display(fx)\n",
    "print( )\n",
    "\n",
    "print('The chain rule:')\n",
    "display(sym.diff(fx))\n"
   ]
  }
 ],
 "metadata": {
  "colab": {
   "authorship_tag": "ABX9TyN4UbOK3sVrcblQ1BgnVJYL",
   "provenance": []
  },
  "kernelspec": {
   "display_name": "Python 3",
   "name": "python3"
  },
  "language_info": {
   "name": "python"
  }
 },
 "nbformat": 4,
 "nbformat_minor": 0
}
